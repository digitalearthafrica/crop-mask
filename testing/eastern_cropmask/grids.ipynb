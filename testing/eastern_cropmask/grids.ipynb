{
 "cells": [
  {
   "cell_type": "code",
   "execution_count": 2,
   "metadata": {},
   "outputs": [],
   "source": [
    "from odc.dscache.tools.tiling import GRIDS"
   ]
  },
  {
   "cell_type": "code",
   "execution_count": 3,
   "metadata": {},
   "outputs": [
    {
     "data": {
      "text/plain": [
       "{'albers_au_25': GridSpec(crs=epsg:3577, tile_size=(100000.0, 100000.0), resolution=(-25, 25)),\n",
       " 'au': GridSpec(crs=epsg:3577, tile_size=(96000.0, 96000.0), resolution=(-96000, 96000)),\n",
       " 'au_10': GridSpec(crs=epsg:3577, tile_size=(96000.0, 96000.0), resolution=(-10, 10)),\n",
       " 'au_20': GridSpec(crs=epsg:3577, tile_size=(96000.0, 96000.0), resolution=(-20, 20)),\n",
       " 'au_30': GridSpec(crs=epsg:3577, tile_size=(96000.0, 96000.0), resolution=(-30, 30)),\n",
       " 'au_60': GridSpec(crs=epsg:3577, tile_size=(96000.0, 96000.0), resolution=(-60, 60)),\n",
       " 'global': GridSpec(crs=epsg:6933, tile_size=(96000.0, 96000.0), resolution=(-96000, 96000)),\n",
       " 'global_10': GridSpec(crs=epsg:6933, tile_size=(96000.0, 96000.0), resolution=(-10, 10)),\n",
       " 'global_20': GridSpec(crs=epsg:6933, tile_size=(96000.0, 96000.0), resolution=(-20, 20)),\n",
       " 'global_30': GridSpec(crs=epsg:6933, tile_size=(96000.0, 96000.0), resolution=(-30, 30)),\n",
       " 'global_60': GridSpec(crs=epsg:6933, tile_size=(96000.0, 96000.0), resolution=(-60, 60)),\n",
       " 'africa': GridSpec(crs=epsg:6933, tile_size=(96000.0, 96000.0), resolution=(-96000, 96000)),\n",
       " 'africa_10': GridSpec(crs=epsg:6933, tile_size=(96000.0, 96000.0), resolution=(-10, 10)),\n",
       " 'africa_20': GridSpec(crs=epsg:6933, tile_size=(96000.0, 96000.0), resolution=(-20, 20)),\n",
       " 'africa_30': GridSpec(crs=epsg:6933, tile_size=(96000.0, 96000.0), resolution=(-30, 30)),\n",
       " 'africa_60': GridSpec(crs=epsg:6933, tile_size=(96000.0, 96000.0), resolution=(-60, 60))}"
      ]
     },
     "execution_count": 3,
     "metadata": {},
     "output_type": "execute_result"
    }
   ],
   "source": [
    "GRIDS"
   ]
  },
  {
   "cell_type": "code",
   "execution_count": 5,
   "metadata": {},
   "outputs": [
    {
     "data": {
      "text/plain": [
       "GridSpec(crs=epsg:6933, tile_size=(96000.0, 96000.0), resolution=(-20, 20))"
      ]
     },
     "execution_count": 5,
     "metadata": {},
     "output_type": "execute_result"
    }
   ],
   "source": [
    "GRIDS['africa_20']"
   ]
  },
  {
   "cell_type": "code",
   "execution_count": 6,
   "metadata": {},
   "outputs": [],
   "source": [
    "from typing import Tuple\n",
    "\n",
    "from datacube.utils.geometry import GeoBox\n",
    "from odc.dscache.tools.tiling import GRIDS\n",
    "\n",
    "\n",
    "class AfricaGeobox:\n",
    "    \"\"\"\n",
    "    generate the geobox for each tile according to the longitude ande latitude bounds.\n",
    "    add origin to remove the negative coordinate\n",
    "    x_new = x_old  + 181\n",
    "    y_new = y_old + 77\n",
    "    \"\"\"\n",
    "\n",
    "    def __init__(self, resolution: int = 10):\n",
    "        self.albers_africa_N = GRIDS[f\"africa_{resolution}\"]\n",
    "\n",
    "    def __getitem__(self, tile_index: Tuple[int, int]) -> GeoBox:\n",
    "        return self.albers_africa_N.tile_geobox(tile_index)\n"
   ]
  },
  {
   "cell_type": "code",
   "execution_count": 7,
   "metadata": {},
   "outputs": [],
   "source": [
    "africa_20 = AfricaGeobox(resolution=20)"
   ]
  },
  {
   "cell_type": "code",
   "execution_count": 8,
   "metadata": {},
   "outputs": [
    {
     "data": {
      "text/plain": [
       "GeoBox(4800, 4800, Affine(20.0, 0.0, 3744000.0,\n",
       "       0.0, -20.0, 864000.0), epsg:6933)"
      ]
     },
     "execution_count": 8,
     "metadata": {},
     "output_type": "execute_result"
    }
   ],
   "source": [
    "africa_20[(220, 85)]"
   ]
  },
  {
   "cell_type": "code",
   "execution_count": null,
   "metadata": {},
   "outputs": [],
   "source": []
  }
 ],
 "metadata": {
  "kernelspec": {
   "display_name": "Python 3",
   "language": "python",
   "name": "python3"
  },
  "language_info": {
   "codemirror_mode": {
    "name": "ipython",
    "version": 3
   },
   "file_extension": ".py",
   "mimetype": "text/x-python",
   "name": "python",
   "nbconvert_exporter": "python",
   "pygments_lexer": "ipython3",
   "version": "3.6.9"
  }
 },
 "nbformat": 4,
 "nbformat_minor": 4
}
