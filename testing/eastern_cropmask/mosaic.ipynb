{
 "cells": [
  {
   "cell_type": "code",
   "execution_count": null,
   "metadata": {},
   "outputs": [],
   "source": [
    "import os"
   ]
  },
  {
   "cell_type": "code",
   "execution_count": null,
   "metadata": {},
   "outputs": [],
   "source": [
    "directory = \"results/classifications/20210427/\""
   ]
  },
  {
   "cell_type": "markdown",
   "metadata": {},
   "source": [
    "### Rename files"
   ]
  },
  {
   "cell_type": "code",
   "execution_count": null,
   "metadata": {},
   "outputs": [],
   "source": [
    "# for file in os.listdir(directory):\n",
    "#     #print(file[0:58]+'20201215.tif')\n",
    "#     os.rename(directory+file, directory+file[0:58]+'20201215.tif')"
   ]
  },
  {
   "cell_type": "markdown",
   "metadata": {},
   "source": [
    "## Mosiac tifs"
   ]
  },
  {
   "cell_type": "code",
   "execution_count": null,
   "metadata": {},
   "outputs": [],
   "source": [
    "#build vrt\n",
    "os.chdir(directory)\n",
    "os.system(\"gdalbuildvrt \" + \"Eastern_gm_mads_two_seasons_20210427_mosaic.vrt *.tif\")\n",
    "\n",
    "#build mosaic from .vrt\n",
    "os.system(\"gdal_translate \"\\\n",
    "       \"-co BIGTIFF=YES \"\\\n",
    "       \"-co COMPRESS=DEFLATE \"\\\n",
    "       \"-co ZLEVEL=9 \"\\\n",
    "       \"-co PREDICTOR=1 \"\\\n",
    "       \"-co TILED=YES \"\\\n",
    "       \"-co BLOCKXSIZE=1024 \"\\\n",
    "       \"-co BLOCKYSIZE=1024 \"\\\n",
    "       + \"Eastern_gm_mads_two_seasons_20210427_mosaic.vrt \" + \"Eastern_gm_mads_two_seasons_20210427_mosaic.tif\")"
   ]
  },
  {
   "cell_type": "markdown",
   "metadata": {},
   "source": [
    "## Clip mosaic to AEZ"
   ]
  },
  {
   "cell_type": "code",
   "execution_count": null,
   "metadata": {},
   "outputs": [],
   "source": [
    "# !pip install -e ../../production/dea_ml\n",
    "# !pip install git+https://github.com/digitalearthafrica/deafrica-sandbox-notebooks.git@minty-fresh-sandbox#subdirectory=Tools"
   ]
  },
  {
   "cell_type": "code",
   "execution_count": null,
   "metadata": {},
   "outputs": [],
   "source": [
    "import xarray as xr\n",
    "import numpy as np\n",
    "import geopandas as gpd\n",
    "from datacube.utils.cog import write_cog\n",
    "import sys\n",
    "\n",
    "from deafrica_tools.spatial import xr_rasterize\n",
    "from deafrica_tools.dask import create_local_dask_cluster"
   ]
  },
  {
   "cell_type": "code",
   "execution_count": null,
   "metadata": {},
   "outputs": [],
   "source": [
    "create_local_dask_cluster()"
   ]
  },
  {
   "cell_type": "code",
   "execution_count": null,
   "metadata": {},
   "outputs": [],
   "source": [
    "# aez_region = 'data/Eastern.shp'\n",
    "aez_region = 'data/WDPA_eastern.shp'\n",
    "pred_tif = \"results/classifications/20210427/Eastern_gm_mads_two_seasons_20210427_mosaic_clipped.tif\"\n",
    "chunks={'x':10000, 'y':10000}"
   ]
  },
  {
   "cell_type": "code",
   "execution_count": null,
   "metadata": {},
   "outputs": [],
   "source": [
    "aez = gpd.read_file(aez_region)\n",
    "da = xr.open_rasterio(pred_tif)"
   ]
  },
  {
   "cell_type": "code",
   "execution_count": null,
   "metadata": {},
   "outputs": [],
   "source": [
    "aez = xr_rasterize(aez, da)"
   ]
  },
  {
   "cell_type": "code",
   "execution_count": null,
   "metadata": {},
   "outputs": [],
   "source": [
    "aez = aez.astype(bool)"
   ]
  },
  {
   "cell_type": "code",
   "execution_count": null,
   "metadata": {},
   "outputs": [],
   "source": [
    "da = da.chunk(chunks).where(~aez.chunk(chunks)).astype(np.int8)"
   ]
  },
  {
   "cell_type": "code",
   "execution_count": null,
   "metadata": {},
   "outputs": [],
   "source": [
    "%%time\n",
    "da = da.compute()"
   ]
  },
  {
   "cell_type": "code",
   "execution_count": null,
   "metadata": {},
   "outputs": [],
   "source": [
    "da"
   ]
  },
  {
   "cell_type": "code",
   "execution_count": null,
   "metadata": {},
   "outputs": [],
   "source": [
    "write_cog(da.squeeze(),\n",
    "          pred_tif[:-4]+'_WDPA_masked.tif',\n",
    "          overwrite=True)"
   ]
  },
  {
   "cell_type": "code",
   "execution_count": null,
   "metadata": {},
   "outputs": [],
   "source": [
    "# write_cog(aez.squeeze(),\n",
    "#           'data/WDPA_eastern.tif',\n",
    "#           overwrite=True)"
   ]
  },
  {
   "cell_type": "code",
   "execution_count": null,
   "metadata": {},
   "outputs": [],
   "source": []
  }
 ],
 "metadata": {
  "kernelspec": {
   "display_name": "Python 3",
   "language": "python",
   "name": "python3"
  },
  "language_info": {
   "codemirror_mode": {
    "name": "ipython",
    "version": 3
   },
   "file_extension": ".py",
   "mimetype": "text/x-python",
   "name": "python",
   "nbconvert_exporter": "python",
   "pygments_lexer": "ipython3",
   "version": "3.6.9"
  }
 },
 "nbformat": 4,
 "nbformat_minor": 4
}
