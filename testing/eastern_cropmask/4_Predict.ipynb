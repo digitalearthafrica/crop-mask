{
 "cells": [
  {
   "cell_type": "markdown",
   "metadata": {},
   "source": [
    "# Prediction <img align=\"right\" src=\"../figs/DE_Africa_Logo_Stacked_RGB_small.jpg\">"
   ]
  },
  {
   "cell_type": "markdown",
   "metadata": {},
   "source": [
    "## Description\n",
    "\n",
    "Using the model we created in the `3_Train_fit_evaluate_classifier.ipynb`, this notebook will make predictions on new data to generate a cropland mask for Eastern Africa. The notebook will ceate both pixel-wise classifications and classification probabilities. Results are saved to disk as Cloud-Optimised-Geotiffs.\n",
    "\n",
    "1. Open and inspect the shapefile which delineates the extent we're classifying\n",
    "2. Import the model\n",
    "3. Make predictions on new data loaded through the ODC.  The pixel classification will also undergo a post-processing step where steep slopes and water are masked using a SRTM derivative and WOfS, respectively. Pixels labelled as crop above 3600 metres ASL are also masked. "
   ]
  },
  {
   "cell_type": "markdown",
   "metadata": {},
   "source": [
    "***\n",
    "## Getting started\n",
    "\n",
    "To run this analysis, run all the cells in the notebook, starting with the \"Load packages\" cell. "
   ]
  },
  {
   "cell_type": "markdown",
   "metadata": {},
   "source": [
    "### Load Packages"
   ]
  },
  {
   "cell_type": "code",
   "execution_count": 1,
   "metadata": {},
   "outputs": [],
   "source": [
    "import warnings\n",
    "warnings.filterwarnings(\"ignore\")\n",
    "\n",
    "import sys\n",
    "import os\n",
    "import gdal\n",
    "import shutil\n",
    "import datacube\n",
    "import numpy as np\n",
    "import xarray as xr\n",
    "import geopandas as gpd\n",
    "import subprocess as sp\n",
    "from joblib import load\n",
    "from datacube.utils import geometry\n",
    "from datacube.utils.cog import write_cog\n",
    "from rsgislib.segmentation import segutils\n",
    "from scipy.ndimage.measurements import _stats\n",
    "from datacube.utils.geometry import assign_crs\n",
    "from datacube.testutils.io import rio_slurp_xarray\n",
    "\n",
    "sys.path.append('../../Scripts')\n",
    "from deafrica_datahandling import load_ard\n",
    "from deafrica_dask import create_local_dask_cluster\n",
    "from deafrica_classificationtools import HiddenPrints, predict_xr\n",
    "from deafrica_plotting import map_shapefile\n",
    "from deafrica_spatialtools import xr_rasterize\n",
    "\n",
    "#import out feature layer function for prediction\n",
    "from feature_layer_functions import gm_mads_two_seasons_production\n",
    "%load_ext autoreload\n",
    "%autoreload 2"
   ]
  },
  {
   "cell_type": "markdown",
   "metadata": {},
   "source": [
    "### Set up a dask cluster\n",
    "This will help keep our memory use down and conduct the analysis in parallel. If you'd like to view the dask dashboard, click on the hyperlink that prints below the cell. You can use the dashboard to monitor the progress of calculations."
   ]
  },
  {
   "cell_type": "code",
   "execution_count": 2,
   "metadata": {},
   "outputs": [
    {
     "data": {
      "text/html": [
       "<table style=\"border: 2px solid white;\">\n",
       "<tr>\n",
       "<td style=\"vertical-align: top; border: 0px solid white\">\n",
       "<h3 style=\"text-align: left;\">Client</h3>\n",
       "<ul style=\"text-align: left; list-style: none; margin: 0; padding: 0;\">\n",
       "  <li><b>Scheduler: </b>tcp://127.0.0.1:33451</li>\n",
       "  <li><b>Dashboard: </b><a href='/user/chad/proxy/8787/status' target='_blank'>/user/chad/proxy/8787/status</a></li>\n",
       "</ul>\n",
       "</td>\n",
       "<td style=\"vertical-align: top; border: 0px solid white\">\n",
       "<h3 style=\"text-align: left;\">Cluster</h3>\n",
       "<ul style=\"text-align: left; list-style:none; margin: 0; padding: 0;\">\n",
       "  <li><b>Workers: </b>1</li>\n",
       "  <li><b>Cores: </b>31</li>\n",
       "  <li><b>Memory: </b>254.70 GB</li>\n",
       "</ul>\n",
       "</td>\n",
       "</tr>\n",
       "</table>"
      ],
      "text/plain": [
       "<Client: 'tcp://127.0.0.1:33451' processes=1 threads=31, memory=254.70 GB>"
      ]
     },
     "metadata": {},
     "output_type": "display_data"
    }
   ],
   "source": [
    "create_local_dask_cluster()"
   ]
  },
  {
   "cell_type": "markdown",
   "metadata": {},
   "source": [
    "## Analysis parameters\n",
    "\n",
    "* `model_path`: The path to the location where the model exported from the previous notebook is stored\n",
    "* `training_data`: Name and location of the training data `.txt` file output from runnning `1_Extract_training_data.ipynb`\n",
    "* `test_shapefile`: A shapefile containing polygons that represent regions where you want to test your model. The shapefile should have a unique identifier as this will be used to export classification results to disk as geotiffs. Alternatively, this could be a shapefile that defines the extent of the entire AOI you want to classify.\n",
    "* `results`: A folder location to store the classified geotiffs "
   ]
  },
  {
   "cell_type": "code",
   "execution_count": 3,
   "metadata": {},
   "outputs": [],
   "source": [
    "model_path = 'results/gm_mads_two_seasons_ml_model_20210401.joblib'\n",
    "\n",
    "training_data = \"results/training_data/gm_mads_two_seasons_training_data_20210401.txt\"\n",
    "\n",
    "# test_shapefile = 'data/s2_tiles_eastern_aez.geojson'\n",
    "test_shapefile = 'data/imagesegtiles.shp'\n",
    "\n",
    "results = 'results/classifications/predicted/20210401/'#/g/data/u23/data/crop-mask/prediction/'\n",
    "\n",
    "model_type='gm_mads_two_seasons'"
   ]
  },
  {
   "cell_type": "markdown",
   "metadata": {},
   "source": [
    "### Open and inspect test_shapefile"
   ]
  },
  {
   "cell_type": "code",
   "execution_count": 4,
   "metadata": {},
   "outputs": [],
   "source": [
    "gdf = gpd.read_file(test_shapefile)"
   ]
  },
  {
   "cell_type": "code",
   "execution_count": 5,
   "metadata": {},
   "outputs": [],
   "source": [
    "# gdf.head()\n",
    "# map_shapefile(gdf, attribute='title')"
   ]
  },
  {
   "cell_type": "markdown",
   "metadata": {},
   "source": [
    "## Open the model\n",
    "\n",
    "The code below will also re-open the training data we exported from `3_Train_fit_evaluate_classifier.ipynb`"
   ]
  },
  {
   "cell_type": "code",
   "execution_count": 6,
   "metadata": {},
   "outputs": [],
   "source": [
    "model = load(model_path)"
   ]
  },
  {
   "cell_type": "markdown",
   "metadata": {},
   "source": [
    "## Making a prediction\n"
   ]
  },
  {
   "cell_type": "markdown",
   "metadata": {},
   "source": [
    "### Set up datacube query\n",
    "\n",
    "These query options should exactl match the query params in `1_Extract_training_data.ipynb`, unless there are measurements that no longer need to be loaded because they were dropped during a feature selection process (which we didn't conduct)."
   ]
  },
  {
   "cell_type": "code",
   "execution_count": 7,
   "metadata": {},
   "outputs": [],
   "source": [
    "#set up our inputs to collect_training_data\n",
    "products = ['s2_l2a']\n",
    "time = ('2019-01', '2019-12')\n",
    "measurements = [\n",
    "    'red', 'blue', 'green', 'nir', 'swir_1', 'swir_2', 'red_edge_1',\n",
    "    'red_edge_2', 'red_edge_3'\n",
    "]\n",
    "resolution = (-20, 20)\n",
    "output_crs = 'epsg:6933'\n",
    "dask_chunks = {'x':'auto', 'y': 'auto'}\n"
   ]
  },
  {
   "cell_type": "markdown",
   "metadata": {},
   "source": [
    "### Connect to the datacube"
   ]
  },
  {
   "cell_type": "code",
   "execution_count": 8,
   "metadata": {},
   "outputs": [],
   "source": [
    "dc = datacube.Datacube(app='prediction')"
   ]
  },
  {
   "cell_type": "markdown",
   "metadata": {},
   "source": [
    "### Loop through test tiles and predict\n",
    "\n",
    "For every tile we list in the `test_shapefile`, we calculate the feature layers, and then use the DE Africa function `predict_xr` to classify the data.\n",
    "\n",
    "The results are exported to file as Cloud-Optimised Geotiffs."
   ]
  },
  {
   "cell_type": "code",
   "execution_count": 9,
   "metadata": {},
   "outputs": [
    {
     "name": "stdout",
     "output_type": "stream",
     "text": [
      "   image segmentation...0000.  Tile: 1/12\n",
      "   calculating mode...\n",
      "     post processing\n",
      "   image segmentation...0001.  Tile: 2/12\n",
      "   calculating mode...\n",
      "     post processing\n",
      "   image segmentation...0002.  Tile: 3/12\n",
      "   calculating mode...\n",
      "     post processing\n",
      "   image segmentation...0000.  Tile: 4/12\n",
      "   calculating mode...\n",
      "     post processing\n",
      "CPU times: user 10min 58s, sys: 1min 24s, total: 12min 22s\n",
      "Wall time: 16min 9s\n"
     ]
    }
   ],
   "source": [
    "%%time\n",
    "i=1\n",
    "for index, row in gdf[0:4].iterrows():\n",
    "    #get id for labelling\n",
    "    g_id=gdf.iloc[index]['title']\n",
    "    \n",
    "    print('working on tile: '+g_id+\". \",\"Tile: \"+str(i)+\"/\"+str(len(gdf)),end='\\r')\n",
    "\n",
    "    #grab tile ids\n",
    "    x=int(gdf.loc[index]['title'][:5])\n",
    "    y=int(gdf.loc[index]['title'][6:])\n",
    "\n",
    "    #load the precomputed tifs (20m) and generate features\n",
    "    try:\n",
    "        data=gm_mads_two_seasons_production(x=x, y=y)\n",
    "    except:\n",
    "        print('tile' + g_id+ ' failed')\n",
    "        continue\n",
    "    \n",
    "    #predict using the imported model\n",
    "    with HiddenPrints():\n",
    "        predicted = predict_xr(model,\n",
    "                           data.chunk(dask_chunks),\n",
    "                           proba=True,\n",
    "                           persist=True,\n",
    "                           clean=True,\n",
    "                           return_input=True\n",
    "                          ).compute()\n",
    "    \n",
    "    # Mask dataset to set pixels outside the polygon to `NaN`\n",
    "    with HiddenPrints():\n",
    "        mask = xr_rasterize(gdf.iloc[[index]], data)\n",
    "        predicted = predicted.where(mask).astype('float32')\n",
    "    \n",
    "    #write out ndvi for image seg\n",
    "    ndvi = predicted[['NDVI_S1', 'NDVI_S2']]\n",
    "    #write_cog(ndvi.to_array(), results+'predicted/20210401/ndvi/Eastern_tile_'+g_id+'_NDVI.tif',overwrite=True)\n",
    "    \n",
    "    #grab predictions and proba for post process filtering\n",
    "    predict=predicted.Predictions\n",
    "    proba=predicted.Probabilities\n",
    "    proba=proba.where(predict==1, 100-proba) #crop proba only\n",
    "    \n",
    "    #-----------------image seg---------------------------------------------\n",
    "    print('   image segmentation...')\n",
    "    #store temp files somewhere\n",
    "    directory=results+'tmp_'+g_id\n",
    "    if not os.path.exists(directory):\n",
    "        os.mkdir(directory)\n",
    "    \n",
    "    tmp='tmp_'+g_id+'/'\n",
    "\n",
    "    #inputs to image seg\n",
    "    tiff_to_segment = results+'ndvi/Eastern_tile_'+g_id+'_NDVI.tif'\n",
    "    kea_file = results+'ndvi/Eastern_tile_'+g_id+'_NDVI.kea'\n",
    "    segmented_kea_file = results+'ndvi/Eastern_tile_'+g_id+'_segmented.kea'\n",
    "\n",
    "    #convert tiff to kea\n",
    "    gdal.Translate(destName=kea_file,\n",
    "                   srcDS=tiff_to_segment,\n",
    "                   format='KEA',\n",
    "                   outputSRS='EPSG:6933')\n",
    "    \n",
    "    #run image seg\n",
    "    with HiddenPrints():\n",
    "        segutils.runShepherdSegmentation(inputImg=kea_file,\n",
    "                                             outputClumps=segmented_kea_file,\n",
    "                                             tmpath=results+tmp,\n",
    "                                             numClusters=60,\n",
    "                                             minPxls=50)\n",
    "    \n",
    "    #open segments\n",
    "    segments=xr.open_rasterio(segmented_kea_file).squeeze().values\n",
    "    \n",
    "    #calculate mode\n",
    "    print('   calculating mode...')\n",
    "    count, _sum =_stats(predict, labels=segments, index=segments)\n",
    "    mode = _sum > (count/2)\n",
    "    mode = xr.DataArray(mode, coords=predict.coords, dims=predict.dims, attrs=predict.attrs)\n",
    "    \n",
    "    #remove the tmp folder\n",
    "    shutil.rmtree(results+tmp)\n",
    "    os.remove(kea_file)\n",
    "    os.remove(segmented_kea_file)\n",
    "    #os.remove(tiff_to_segment)\n",
    "    \n",
    "    #--Post processing---------------------------------------------------------------\n",
    "    print(\"     post processing\")\n",
    "    #mask with WOFS\n",
    "    wofs=dc.load(product='ga_ls8c_wofs_2_summary',like=data.geobox)\n",
    "    wofs=wofs.frequency > 0.2 # threshold\n",
    "    predict=predict.where(~wofs, 0)\n",
    "    proba=proba.where(~wofs, 0)\n",
    "    mode=mode.where(~wofs, 0)\n",
    "\n",
    "    #mask steep slopes\n",
    "    url_slope=\"https://deafrica-data.s3.amazonaws.com/ancillary/dem-derivatives/cog_slope_africa.tif\"\n",
    "    slope=rio_slurp_xarray(url_slope, gbox=data.geobox)\n",
    "    slope=slope > 35\n",
    "    predict=predict.where(~slope, 0)\n",
    "    proba=proba.where(~slope, 0)\n",
    "    mode=mode.where(~slope, 0)\n",
    "\n",
    "    #mask where the elevation is above 3600m\n",
    "    elevation=dc.load(product='srtm', like=data.geobox)\n",
    "    elevation=elevation.elevation > 3600 # threshold\n",
    "    predict=predict.where(~elevation.squeeze(), 0)\n",
    "    proba=proba.where(~elevation.squeeze(), 0)\n",
    "    mode=mode.where(~elevation.squeeze(), 0)\n",
    "    \n",
    "    #set dtype\n",
    "    predict=predict.astype(np.int8)\n",
    "    proba=proba.astype(np.float32)\n",
    "    mode=mode.astype(np.int8)\n",
    "    \n",
    "    #----export classifications to disk------------------------------------\n",
    "#     write_cog(predict, results+'tiles/Eastern_tile_'+g_id+'_prediction_pixel_'+model_type+'_20210401.tif',\n",
    "#               overwrite=True)\n",
    "    \n",
    "#     write_cog(mode, results+'segmented/Eastern_tile_'+g_id+'_prediction_filtered_'+model_type+'.tif', overwrite=True)\n",
    "    \n",
    "#     write_cog(proba, results+'proba/Eastern_tile_'+g_id+'_proba_'+model_type+'_20210401.tif',\n",
    "#               overwrite=True)\n",
    "\n",
    "#     #also save to g/data\n",
    "# #     output_path='/g/data/crop_mask/eastern/classifications/gm_mads_two_seasons_20210203/'\n",
    "# #     write_cog(predict, output_path+'predicted/Eastern_tile_'+g_id+'_prediction_pixel_'+model_type+'_20210203.tif',\n",
    "# #               overwrite=True)\n",
    "    \n",
    "    i+=1\n"
   ]
  },
  {
   "cell_type": "code",
   "execution_count": null,
   "metadata": {},
   "outputs": [],
   "source": []
  },
  {
   "cell_type": "code",
   "execution_count": null,
   "metadata": {},
   "outputs": [],
   "source": [
    "# working on tile: +0035,-0004.  Tile: 125/390"
   ]
  },
  {
   "cell_type": "code",
   "execution_count": null,
   "metadata": {},
   "outputs": [],
   "source": [
    "predict.plot(size=12)"
   ]
  },
  {
   "cell_type": "markdown",
   "metadata": {},
   "source": [
    "## Next steps\n",
    "\n",
    "To continue working through the notebooks in this `Eastern Africa Cropland Mask` workflow, go to the next notebook `5_Object-based_filtering.ipynb`.\n",
    "\n",
    "1. [Extracting_training_data](1_Extracting_training_data.ipynb) \n",
    "2. [Inspect_training_data](2_Inspect_training_data.ipynb)\n",
    "3. [Train_fit_evaluate_classifier](3_Train_fit_evaluate_classifier.ipynb)\n",
    "4. **Predict (this notebook)**\n",
    "5. [Object-based_filtering](5_Object-based_filtering.ipynb)\n"
   ]
  },
  {
   "cell_type": "markdown",
   "metadata": {},
   "source": [
    "***\n",
    "\n",
    "## Additional information\n",
    "\n",
    "**License:** The code in this notebook is licensed under the [Apache License, Version 2.0](https://www.apache.org/licenses/LICENSE-2.0). \n",
    "Digital Earth Africa data is licensed under the [Creative Commons by Attribution 4.0](https://creativecommons.org/licenses/by/4.0/) license.\n",
    "\n",
    "**Contact:** If you need assistance, please post a question on the [Open Data Cube Slack channel](http://slack.opendatacube.org/) or on the [GIS Stack Exchange](https://gis.stackexchange.com/questions/ask?tags=open-data-cube) using the `open-data-cube` tag (you can view previously asked questions [here](https://gis.stackexchange.com/questions/tagged/open-data-cube)).\n",
    "If you would like to report an issue with this notebook, you can file one on [Github](https://github.com/digitalearthafrica/deafrica-sandbox-notebooks).\n",
    "\n",
    "**Last modified:** Dec 2020\n"
   ]
  }
 ],
 "metadata": {
  "kernelspec": {
   "display_name": "Python 3",
   "language": "python",
   "name": "python3"
  },
  "language_info": {
   "codemirror_mode": {
    "name": "ipython",
    "version": 3
   },
   "file_extension": ".py",
   "mimetype": "text/x-python",
   "name": "python",
   "nbconvert_exporter": "python",
   "pygments_lexer": "ipython3",
   "version": "3.6.9"
  }
 },
 "nbformat": 4,
 "nbformat_minor": 4
}
