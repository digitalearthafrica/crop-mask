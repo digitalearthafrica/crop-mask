{
 "cells": [
  {
   "cell_type": "markdown",
   "metadata": {},
   "source": [
    "# Prediction <img align=\"right\" src=\"../figs/DE_Africa_Logo_Stacked_RGB_small.jpg\">"
   ]
  },
  {
   "cell_type": "markdown",
   "metadata": {},
   "source": [
    "## Description\n",
    "\n",
    "Using the model we created in the `3_Train_fit_evaluate_classifier.ipynb`, this notebook will make predictions on new data to generate a cropland mask for Eastern Africa. The notebook will ceate both pixel-wise classifications and classification probabilities. Results are saved to disk as Cloud-Optimised-Geotiffs.\n",
    "\n",
    "1. Open and inspect the shapefile which delineates the extent we're classifying\n",
    "2. Import the model\n",
    "3. Make predictions on new data loaded through the ODC.  The pixel classification will also undergo a post-processing step where steep slopes and water are masked using a SRTM derivative and WOfS, respectively. Pixels labelled as crop above 3600 metres ASL are also masked. "
   ]
  },
  {
   "cell_type": "markdown",
   "metadata": {},
   "source": [
    "***\n",
    "## Getting started\n",
    "\n",
    "To run this analysis, run all the cells in the notebook, starting with the \"Load packages\" cell. "
   ]
  },
  {
   "cell_type": "markdown",
   "metadata": {},
   "source": [
    "### Load Packages"
   ]
  },
  {
   "cell_type": "code",
   "execution_count": null,
   "metadata": {},
   "outputs": [],
   "source": [
    "import warnings\n",
    "warnings.filterwarnings(\"ignore\")\n",
    "\n",
    "import sys\n",
    "import datacube\n",
    "import numpy as np\n",
    "import xarray as xr\n",
    "import geopandas as gpd\n",
    "import subprocess as sp\n",
    "from joblib import load\n",
    "from datacube.utils import geometry\n",
    "from datacube.utils.cog import write_cog\n",
    "from datacube.utils.geometry import assign_crs\n",
    "from datacube.testutils.io import rio_slurp_xarray\n",
    "\n",
    "sys.path.append('../Scripts')\n",
    "from deafrica_datahandling import load_ard\n",
    "from deafrica_dask import create_local_dask_cluster\n",
    "from deafrica_classificationtools import HiddenPrints, predict_xr\n",
    "from deafrica_plotting import map_shapefile\n",
    "# from deafrica_spatialtools import xr_rasterize\n",
    "\n",
    "#import out feature layer function for prediction\n",
    "from feature_layer_functions import gm_mads_two_seasons_production\n",
    "%load_ext autoreload\n",
    "%autoreload 2"
   ]
  },
  {
   "cell_type": "markdown",
   "metadata": {},
   "source": [
    "### Set up a dask cluster\n",
    "This will help keep our memory use down and conduct the analysis in parallel. If you'd like to view the dask dashboard, click on the hyperlink that prints below the cell. You can use the dashboard to monitor the progress of calculations."
   ]
  },
  {
   "cell_type": "code",
   "execution_count": null,
   "metadata": {},
   "outputs": [],
   "source": [
    "create_local_dask_cluster()"
   ]
  },
  {
   "cell_type": "markdown",
   "metadata": {},
   "source": [
    "## Analysis parameters\n",
    "\n",
    "* `model_path`: The path to the location where the model exported from the previous notebook is stored\n",
    "* `training_data`: Name and location of the training data `.txt` file output from runnning `1_Extract_training_data.ipynb`\n",
    "* `test_shapefile`: A shapefile containing polygons that represent regions where you want to test your model. The shapefile should have a unique identifier as this will be used to export classification results to disk as geotiffs. Alternatively, this could be a shapefile that defines the extent of the entire AOI you want to classify.\n",
    "* `results`: A folder location to store the classified geotiffs "
   ]
  },
  {
   "cell_type": "code",
   "execution_count": null,
   "metadata": {},
   "outputs": [],
   "source": [
    "model_path = 'results/gm_mads_two_seasons_ml_model_20210301.joblib'\n",
    "\n",
    "training_data = \"results/training_data/gm_mads_two_seasons_training_data_20210301.txt\"\n",
    "\n",
    "test_shapefile = 'data/s2_tiles_eastern_aez.geojson'\n",
    "\n",
    "results = 'results/classifications/'#/g/data/u23/data/crop-mask/prediction/'\n",
    "\n",
    "model_type='gm_mads_two_seasons'"
   ]
  },
  {
   "cell_type": "markdown",
   "metadata": {},
   "source": [
    "### Open and inspect test_shapefile"
   ]
  },
  {
   "cell_type": "code",
   "execution_count": null,
   "metadata": {},
   "outputs": [],
   "source": [
    "gdf = gpd.read_file(test_shapefile)"
   ]
  },
  {
   "cell_type": "code",
   "execution_count": null,
   "metadata": {},
   "outputs": [],
   "source": [
    "gdf.head()\n",
    "# map_shapefile(gdf, attribute='title')"
   ]
  },
  {
   "cell_type": "markdown",
   "metadata": {},
   "source": [
    "## Open the model\n",
    "\n",
    "The code below will also re-open the training data we exported from `3_Train_fit_evaluate_classifier.ipynb`"
   ]
  },
  {
   "cell_type": "code",
   "execution_count": null,
   "metadata": {},
   "outputs": [],
   "source": [
    "model = load(model_path)"
   ]
  },
  {
   "cell_type": "markdown",
   "metadata": {},
   "source": [
    "## Making a prediction\n"
   ]
  },
  {
   "cell_type": "markdown",
   "metadata": {},
   "source": [
    "### Set up datacube query\n",
    "\n",
    "These query options should exactl match the query params in `1_Extract_training_data.ipynb`, unless there are measurements that no longer need to be loaded because they were dropped during a feature selection process (which we didn't conduct)."
   ]
  },
  {
   "cell_type": "code",
   "execution_count": null,
   "metadata": {},
   "outputs": [],
   "source": [
    "#set up our inputs to collect_training_data\n",
    "products = ['ga_s2_gm']\n",
    "\n",
    "# Set up the inputs for the ODC query\n",
    "measurements = [\n",
    "    'red', 'blue', 'green', 'nir', 'swir_1', 'swir_2', 'red_edge_1',\n",
    "    'red_edge_2', 'red_edge_3', 'BCMAD', 'EMAD', 'SMAD'\n",
    "]\n",
    "resolution = (-20, 20)\n",
    "output_crs = 'epsg:6933'\n",
    "time = ('2019')\n",
    "dask_chunks = {'x':'auto', 'y': 'auto'}\n"
   ]
  },
  {
   "cell_type": "markdown",
   "metadata": {},
   "source": [
    "### Connect to the datacube"
   ]
  },
  {
   "cell_type": "code",
   "execution_count": null,
   "metadata": {},
   "outputs": [],
   "source": [
    "dc = datacube.Datacube(app='prediction')"
   ]
  },
  {
   "cell_type": "markdown",
   "metadata": {},
   "source": [
    "### Loop through test tiles and predict\n",
    "\n",
    "For every tile we list in the `test_shapefile`, we calculate the feature layers, and then use the DE Africa function `predict_xr` to classify the data.\n",
    "\n",
    "The results are exported to file as Cloud-Optimised Geotiffs."
   ]
  },
  {
   "cell_type": "code",
   "execution_count": null,
   "metadata": {},
   "outputs": [],
   "source": [
    "%%time\n",
    "i=1\n",
    "for index, row in gdf.iterrows():\n",
    "    #get id for labelling\n",
    "    g_id=gdf.iloc[index]['title']\n",
    "    \n",
    "    if g_id == '+0029,-0002':\n",
    "    \n",
    "#         print('working on tile: '+g_id+\". \",\"Tile: \"+str(i)+\"/\"+str(len(gdf)),end='\\r')\n",
    "\n",
    "        #grab tile ids\n",
    "        x=int(gdf.loc[index]['title'][:5])\n",
    "        y=int(gdf.loc[index]['title'][6:])\n",
    "\n",
    "        #load the precomputed tifs (20m) and generate features\n",
    "        \n",
    "        data=gm_mads_two_seasons_production(x=x, y=y)\n",
    "#         except:\n",
    "#             print('tile' + g_id+ ' failed')\n",
    "#             continue\n",
    "        #predict using the imported model\n",
    "        with HiddenPrints():\n",
    "            predicted = predict_xr(model,\n",
    "                               data.chunk(dask_chunks),\n",
    "    #                            proba=True,\n",
    "    #                            persist=True,\n",
    "                               clean=True,\n",
    "                               #return_input=True\n",
    "                              ).compute()\n",
    "\n",
    "        # Mask dataset to set pixels outside the polygon to `NaN`\n",
    "    #     with HiddenPrints():\n",
    "    #         mask = xr_rasterize(gdf.iloc[[index]], ds)\n",
    "    #         predicted = predicted.where(mask)\n",
    "\n",
    "        #grab just the predictions for post process filtering\n",
    "        predict = predicted.Predictions\n",
    "\n",
    "        #mask with WOFS\n",
    "        wofs=dc.load(product='ga_ls8c_wofs_2_summary',like=data.geobox)\n",
    "        wofs = wofs.frequency > 0.2 # threshold\n",
    "        predict=predict.where(~wofs, 0)    \n",
    "\n",
    "        #mask steep slopes\n",
    "        url_slope = \"https://deafrica-data.s3.amazonaws.com/ancillary/dem-derivatives/cog_slope_africa.tif\"\n",
    "        slope = rio_slurp_xarray(url_slope, gbox=data.geobox)\n",
    "        slope = slope > 35\n",
    "        predict=predict.where(~slope, 0)\n",
    "\n",
    "        #mask where the elevation is above 3600m\n",
    "        elevation = dc.load(product='srtm', like=data.geobox)\n",
    "        elevation = elevation.elevation > 3600 # threshold\n",
    "        predict=predict.where(~elevation.squeeze(), 0)\n",
    "        predict=predict.astype(np.int16)\n",
    "    \n",
    "        #export classifications to disk\n",
    "#         write_cog(predict, results+'predicted/20210301/Eastern_tile_'+g_id+'_prediction_pixel_'+model_type+'_20210301.tif',\n",
    "#                   overwrite=True)\n",
    "    #     write_cog(predicted.Probabilities, results+ 'proba/Eastern_tile_'+g_id+'_probabilities_pixel_'+model_type+'_20210224.tif',\n",
    "    #               overwrite=True)\n",
    "\n",
    "    #     #also save to g/data\n",
    "    # #     output_path='/g/data/crop_mask/eastern/classifications/gm_mads_two_seasons_20210203/'\n",
    "    # #     write_cog(predict, output_path+'predicted/Eastern_tile_'+g_id+'_prediction_pixel_'+model_type+'_20210203.tif',\n",
    "    # #               overwrite=True)\n",
    "        i+=1"
   ]
  },
  {
   "cell_type": "code",
   "execution_count": null,
   "metadata": {},
   "outputs": [],
   "source": [
    "predict.plot(size=12)"
   ]
  },
  {
   "cell_type": "markdown",
   "metadata": {},
   "source": [
    "## Next steps\n",
    "\n",
    "To continue working through the notebooks in this `Eastern Africa Cropland Mask` workflow, go to the next notebook `5_Object-based_filtering.ipynb`.\n",
    "\n",
    "1. [Extracting_training_data](1_Extracting_training_data.ipynb) \n",
    "2. [Inspect_training_data](2_Inspect_training_data.ipynb)\n",
    "3. [Train_fit_evaluate_classifier](3_Train_fit_evaluate_classifier.ipynb)\n",
    "4. **Predict (this notebook)**\n",
    "5. [Object-based_filtering](5_Object-based_filtering.ipynb)\n"
   ]
  },
  {
   "cell_type": "markdown",
   "metadata": {},
   "source": [
    "***\n",
    "\n",
    "## Additional information\n",
    "\n",
    "**License:** The code in this notebook is licensed under the [Apache License, Version 2.0](https://www.apache.org/licenses/LICENSE-2.0). \n",
    "Digital Earth Africa data is licensed under the [Creative Commons by Attribution 4.0](https://creativecommons.org/licenses/by/4.0/) license.\n",
    "\n",
    "**Contact:** If you need assistance, please post a question on the [Open Data Cube Slack channel](http://slack.opendatacube.org/) or on the [GIS Stack Exchange](https://gis.stackexchange.com/questions/ask?tags=open-data-cube) using the `open-data-cube` tag (you can view previously asked questions [here](https://gis.stackexchange.com/questions/tagged/open-data-cube)).\n",
    "If you would like to report an issue with this notebook, you can file one on [Github](https://github.com/digitalearthafrica/deafrica-sandbox-notebooks).\n",
    "\n",
    "**Last modified:** Dec 2020\n"
   ]
  }
 ],
 "metadata": {
  "kernelspec": {
   "display_name": "Python 3",
   "language": "python",
   "name": "python3"
  },
  "language_info": {
   "codemirror_mode": {
    "name": "ipython",
    "version": 3
   },
   "file_extension": ".py",
   "mimetype": "text/x-python",
   "name": "python",
   "nbconvert_exporter": "python",
   "pygments_lexer": "ipython3",
   "version": "3.6.9"
  }
 },
 "nbformat": 4,
 "nbformat_minor": 4
}
