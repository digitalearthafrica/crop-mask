{
 "cells": [
  {
   "cell_type": "markdown",
   "metadata": {},
   "source": [
    "# Extracting training data from the ODC\n",
    "\n",
    "* **Products used:** \n",
    "[gm_s2_semiannual](https://explorer.digitalearth.africa/gm_s2_semiannual)\n"
   ]
  },
  {
   "cell_type": "markdown",
   "metadata": {},
   "source": [
    "## Description\n",
    "This notebook will extract training data over Southern Africa using geometries within a shapefile (or geojson). To do this, we rely on a custom `deafrica-sandbox-notebooks` function called `collect_training_data`, contained within the [deafrica_tools.classification](https://github.com/digitalearthafrica/deafrica-sandbox-notebooks/blob/minty-fresh-sandbox/Tools/deafrica_tools/classification.py) script.\n",
    "\n",
    "1. Import, and preview our training data contained in the file: `'data/ceo_td_polys.geojson'`\n",
    "2. Extract training data from the datacube using a custom defined feature layer function that we can pass to `collect_training_data`. The training data function is stored in the python file `feature_layer_functions.py` - the functions are stored in a seperate file simply to keep this notebook tidy.\n",
    "\n",
    "    - **The features used to create the cropland mask are as follows:**\n",
    "        - For two seasons, January to June, and July to Decemeber:\n",
    "            - A geomedian composite of nine Sentinel-2 spectral bands\n",
    "            - Three measures of median absolute deviation\n",
    "            - NDVI, MNDWI, and LAI\n",
    "            - Cumulative Rainfall from CHIRPS\n",
    "        - Slope from SRTM (not seasonal, obviously)\n",
    "            \n",
    "3. Separate the coordinate values in the returned training data from step 2, and export the coordinates as a text file.\n",
    "4. Export the remaining training data (features other than coordinates) to disk as a text file for use in subsequent scripts\n",
    "\n",
    "***"
   ]
  },
  {
   "cell_type": "markdown",
   "metadata": {},
   "source": [
    "## Getting started\n",
    "\n",
    "To run this analysis, run all the cells in the notebook, starting with the \"Load packages\" cell. "
   ]
  },
  {
   "cell_type": "code",
   "execution_count": 1,
   "metadata": {},
   "outputs": [
    {
     "name": "stdout",
     "output_type": "stream",
     "text": [
      "Obtaining file:///home/jovyan/Git_dev/crop-mask/production/dea_ml\n",
      "  Installing build dependencies ... \u001b[?25ldone\n",
      "\u001b[?25h  Getting requirements to build wheel ... \u001b[?25ldone\n",
      "\u001b[?25h    Preparing wheel metadata ... \u001b[?25ldone\n",
      "\u001b[?25hInstalling collected packages: dea-ml\n",
      "  Running setup.py develop for dea-ml\n",
      "Successfully installed dea-ml\n",
      "\u001b[33mWARNING: You are using pip version 20.2.4; however, version 21.1 is available.\n",
      "You should consider upgrading via the '/env/bin/python3 -m pip install --upgrade pip' command.\u001b[0m\n",
      "Collecting git+https://github.com/digitalearthafrica/deafrica-sandbox-notebooks.git@minty-fresh-sandbox#subdirectory=Tools\n",
      "  Cloning https://github.com/digitalearthafrica/deafrica-sandbox-notebooks.git (to revision minty-fresh-sandbox) to /tmp/pip-req-build-9_gkn7e4\n",
      "  Installing build dependencies ... \u001b[?25ldone\n",
      "\u001b[?25h  Getting requirements to build wheel ... \u001b[?25ldone\n",
      "\u001b[?25h    Preparing wheel metadata ... \u001b[?25ldone\n",
      "\u001b[?25hRequirement already satisfied: geopandas<0.9.0,>=0.8.2 in /env/lib/python3.6/site-packages (from deafrica-tools==0.1.0) (0.8.2)\n",
      "Collecting matplotlib<4.0.0,>=3.3.4\n",
      "  Downloading matplotlib-3.3.4-cp36-cp36m-manylinux1_x86_64.whl (11.5 MB)\n",
      "\u001b[K     |████████████████████████████████| 11.5 MB 20.2 MB/s eta 0:00:01\n",
      "\u001b[?25hRequirement already satisfied: dask-ml<2.0.0,>=1.8.0 in /env/lib/python3.6/site-packages (from deafrica-tools==0.1.0) (1.8.0)\n",
      "Requirement already satisfied: tqdm<5.0.0,>=4.57.0 in /env/lib/python3.6/site-packages (from deafrica-tools==0.1.0) (4.57.0)\n",
      "Requirement already satisfied: joblib<2.0.0,>=1.0.1 in /env/lib/python3.6/site-packages (from deafrica-tools==0.1.0) (1.0.1)\n",
      "Requirement already satisfied: datacube<2.0.0,>=1.8.3 in /env/lib/python3.6/site-packages (from deafrica-tools==0.1.0) (1.8.4.dev52+g07bc51a5)\n",
      "Requirement already satisfied: scikit-learn<0.25.0,>=0.24.1 in /env/lib/python3.6/site-packages (from deafrica-tools==0.1.0) (0.24.1)\n",
      "Requirement already satisfied: fiona in /env/lib/python3.6/site-packages (from geopandas<0.9.0,>=0.8.2->deafrica-tools==0.1.0) (1.8.18)\n",
      "Requirement already satisfied: pyproj>=2.2.0 in /env/lib/python3.6/site-packages (from geopandas<0.9.0,>=0.8.2->deafrica-tools==0.1.0) (2.6.1.post1)\n",
      "Requirement already satisfied: shapely in /env/lib/python3.6/site-packages (from geopandas<0.9.0,>=0.8.2->deafrica-tools==0.1.0) (1.7.1)\n",
      "Requirement already satisfied: pandas>=0.23.0 in /env/lib/python3.6/site-packages (from geopandas<0.9.0,>=0.8.2->deafrica-tools==0.1.0) (1.1.2)\n",
      "Requirement already satisfied: numpy>=1.15 in /env/lib/python3.6/site-packages (from matplotlib<4.0.0,>=3.3.4->deafrica-tools==0.1.0) (1.18.5)\n",
      "Requirement already satisfied: python-dateutil>=2.1 in /env/lib/python3.6/site-packages (from matplotlib<4.0.0,>=3.3.4->deafrica-tools==0.1.0) (2.8.0)\n",
      "Requirement already satisfied: pillow>=6.2.0 in /env/lib/python3.6/site-packages (from matplotlib<4.0.0,>=3.3.4->deafrica-tools==0.1.0) (8.1.0)\n",
      "Requirement already satisfied: pyparsing!=2.0.4,!=2.1.2,!=2.1.6,>=2.0.3 in /env/lib/python3.6/site-packages (from matplotlib<4.0.0,>=3.3.4->deafrica-tools==0.1.0) (2.4.7)\n",
      "Requirement already satisfied: kiwisolver>=1.0.1 in /env/lib/python3.6/site-packages (from matplotlib<4.0.0,>=3.3.4->deafrica-tools==0.1.0) (1.3.1)\n",
      "Requirement already satisfied: cycler>=0.10 in /env/lib/python3.6/site-packages (from matplotlib<4.0.0,>=3.3.4->deafrica-tools==0.1.0) (0.10.0)\n",
      "Requirement already satisfied: dask[array,dataframe]>=2.4.0 in /env/lib/python3.6/site-packages (from dask-ml<2.0.0,>=1.8.0->deafrica-tools==0.1.0) (2.30.0)\n",
      "Requirement already satisfied: numba in /env/lib/python3.6/site-packages (from dask-ml<2.0.0,>=1.8.0->deafrica-tools==0.1.0) (0.48.0)\n",
      "Requirement already satisfied: dask-glm>=0.2.0 in /env/lib/python3.6/site-packages (from dask-ml<2.0.0,>=1.8.0->deafrica-tools==0.1.0) (0.2.0)\n",
      "Requirement already satisfied: multipledispatch>=0.4.9 in /env/lib/python3.6/site-packages (from dask-ml<2.0.0,>=1.8.0->deafrica-tools==0.1.0) (0.6.0)\n",
      "Requirement already satisfied: scipy in /env/lib/python3.6/site-packages (from dask-ml<2.0.0,>=1.8.0->deafrica-tools==0.1.0) (1.5.4)\n",
      "Requirement already satisfied: distributed>=2.4.0 in /env/lib/python3.6/site-packages (from dask-ml<2.0.0,>=1.8.0->deafrica-tools==0.1.0) (2.30.0)\n",
      "Requirement already satisfied: packaging in /env/lib/python3.6/site-packages (from dask-ml<2.0.0,>=1.8.0->deafrica-tools==0.1.0) (20.9)\n",
      "Requirement already satisfied: toolz in /env/lib/python3.6/site-packages (from datacube<2.0.0,>=1.8.3->deafrica-tools==0.1.0) (0.11.1)\n",
      "Requirement already satisfied: affine in /env/lib/python3.6/site-packages (from datacube<2.0.0,>=1.8.3->deafrica-tools==0.1.0) (2.3.0)\n",
      "Requirement already satisfied: click>=5.0 in /env/lib/python3.6/site-packages (from datacube<2.0.0,>=1.8.3->deafrica-tools==0.1.0) (7.1.2)\n",
      "Requirement already satisfied: psycopg2 in /env/lib/python3.6/site-packages (from datacube<2.0.0,>=1.8.3->deafrica-tools==0.1.0) (2.8.6)\n",
      "Requirement already satisfied: pyyaml in /env/lib/python3.6/site-packages (from datacube<2.0.0,>=1.8.3->deafrica-tools==0.1.0) (5.3.1)\n",
      "Requirement already satisfied: xarray>=0.9 in /env/lib/python3.6/site-packages (from datacube<2.0.0,>=1.8.3->deafrica-tools==0.1.0) (0.16.1)\n",
      "Requirement already satisfied: jsonschema in /env/lib/python3.6/site-packages (from datacube<2.0.0,>=1.8.3->deafrica-tools==0.1.0) (3.2.0)\n",
      "Requirement already satisfied: lark-parser>=0.6.7 in /env/lib/python3.6/site-packages (from datacube<2.0.0,>=1.8.3->deafrica-tools==0.1.0) (0.11.2)\n",
      "Requirement already satisfied: rasterio>=1.0.2 in /env/lib/python3.6/site-packages (from datacube<2.0.0,>=1.8.3->deafrica-tools==0.1.0) (1.1.6)\n",
      "Requirement already satisfied: sqlalchemy in /env/lib/python3.6/site-packages (from datacube<2.0.0,>=1.8.3->deafrica-tools==0.1.0) (1.3.23)\n",
      "Requirement already satisfied: cloudpickle>=0.4 in /env/lib/python3.6/site-packages (from datacube<2.0.0,>=1.8.3->deafrica-tools==0.1.0) (1.6.0)\n",
      "Requirement already satisfied: netcdf4 in /env/lib/python3.6/site-packages (from datacube<2.0.0,>=1.8.3->deafrica-tools==0.1.0) (1.5.6)\n",
      "Requirement already satisfied: cachetools in /env/lib/python3.6/site-packages (from datacube<2.0.0,>=1.8.3->deafrica-tools==0.1.0) (4.2.1)\n",
      "Requirement already satisfied: threadpoolctl>=2.0.0 in /env/lib/python3.6/site-packages (from scikit-learn<0.25.0,>=0.24.1->deafrica-tools==0.1.0) (2.1.0)\n",
      "Requirement already satisfied: six>=1.7 in /env/lib/python3.6/site-packages (from fiona->geopandas<0.9.0,>=0.8.2->deafrica-tools==0.1.0) (1.15.0)\n",
      "Requirement already satisfied: certifi in /env/lib/python3.6/site-packages (from fiona->geopandas<0.9.0,>=0.8.2->deafrica-tools==0.1.0) (2020.12.5)\n",
      "Requirement already satisfied: cligj>=0.5 in /env/lib/python3.6/site-packages (from fiona->geopandas<0.9.0,>=0.8.2->deafrica-tools==0.1.0) (0.7.1)\n",
      "Requirement already satisfied: attrs>=17 in /env/lib/python3.6/site-packages (from fiona->geopandas<0.9.0,>=0.8.2->deafrica-tools==0.1.0) (20.3.0)\n",
      "Requirement already satisfied: click-plugins>=1.0 in /env/lib/python3.6/site-packages (from fiona->geopandas<0.9.0,>=0.8.2->deafrica-tools==0.1.0) (1.1.1)\n",
      "Requirement already satisfied: munch in /env/lib/python3.6/site-packages (from fiona->geopandas<0.9.0,>=0.8.2->deafrica-tools==0.1.0) (2.5.0)\n",
      "Requirement already satisfied: pytz>=2017.2 in /env/lib/python3.6/site-packages (from pandas>=0.23.0->geopandas<0.9.0,>=0.8.2->deafrica-tools==0.1.0) (2021.1)\n",
      "Requirement already satisfied: partd>=0.3.10; extra == \"dataframe\" in /env/lib/python3.6/site-packages (from dask[array,dataframe]>=2.4.0->dask-ml<2.0.0,>=1.8.0->deafrica-tools==0.1.0) (1.1.0)\n",
      "Requirement already satisfied: fsspec>=0.6.0; extra == \"dataframe\" in /env/lib/python3.6/site-packages (from dask[array,dataframe]>=2.4.0->dask-ml<2.0.0,>=1.8.0->deafrica-tools==0.1.0) (0.8.7)\n",
      "Requirement already satisfied: llvmlite<0.32.0,>=0.31.0dev0 in /env/lib/python3.6/site-packages (from numba->dask-ml<2.0.0,>=1.8.0->deafrica-tools==0.1.0) (0.31.0)\n",
      "Requirement already satisfied: setuptools in /env/lib/python3.6/site-packages (from numba->dask-ml<2.0.0,>=1.8.0->deafrica-tools==0.1.0) (54.0.0)\n",
      "Requirement already satisfied: psutil>=5.0 in /env/lib/python3.6/site-packages (from distributed>=2.4.0->dask-ml<2.0.0,>=1.8.0->deafrica-tools==0.1.0) (5.8.0)\n",
      "Requirement already satisfied: tblib>=1.6.0 in /env/lib/python3.6/site-packages (from distributed>=2.4.0->dask-ml<2.0.0,>=1.8.0->deafrica-tools==0.1.0) (1.7.0)\n",
      "Requirement already satisfied: sortedcontainers!=2.0.0,!=2.0.1 in /env/lib/python3.6/site-packages (from distributed>=2.4.0->dask-ml<2.0.0,>=1.8.0->deafrica-tools==0.1.0) (2.3.0)\n",
      "Requirement already satisfied: contextvars; python_version < \"3.7\" in /env/lib/python3.6/site-packages (from distributed>=2.4.0->dask-ml<2.0.0,>=1.8.0->deafrica-tools==0.1.0) (2.4)\n",
      "Requirement already satisfied: tornado>=5; python_version < \"3.8\" in /env/lib/python3.6/site-packages (from distributed>=2.4.0->dask-ml<2.0.0,>=1.8.0->deafrica-tools==0.1.0) (6.1)\n",
      "Requirement already satisfied: msgpack>=0.6.0 in /env/lib/python3.6/site-packages (from distributed>=2.4.0->dask-ml<2.0.0,>=1.8.0->deafrica-tools==0.1.0) (1.0.0)\n",
      "Requirement already satisfied: zict>=0.1.3 in /env/lib/python3.6/site-packages (from distributed>=2.4.0->dask-ml<2.0.0,>=1.8.0->deafrica-tools==0.1.0) (2.0.0)\n",
      "Requirement already satisfied: importlib-metadata; python_version < \"3.8\" in /env/lib/python3.6/site-packages (from jsonschema->datacube<2.0.0,>=1.8.3->deafrica-tools==0.1.0) (3.7.0)\n",
      "Requirement already satisfied: pyrsistent>=0.14.0 in /env/lib/python3.6/site-packages (from jsonschema->datacube<2.0.0,>=1.8.3->deafrica-tools==0.1.0) (0.17.3)\n",
      "Requirement already satisfied: snuggs>=1.4.1 in /env/lib/python3.6/site-packages (from rasterio>=1.0.2->datacube<2.0.0,>=1.8.3->deafrica-tools==0.1.0) (1.4.7)\n",
      "Requirement already satisfied: cftime in /env/lib/python3.6/site-packages (from netcdf4->datacube<2.0.0,>=1.8.3->deafrica-tools==0.1.0) (1.4.1)\n",
      "Requirement already satisfied: locket in /env/lib/python3.6/site-packages (from partd>=0.3.10; extra == \"dataframe\"->dask[array,dataframe]>=2.4.0->dask-ml<2.0.0,>=1.8.0->deafrica-tools==0.1.0) (0.2.1)\n",
      "Requirement already satisfied: immutables>=0.9 in /env/lib/python3.6/site-packages (from contextvars; python_version < \"3.7\"->distributed>=2.4.0->dask-ml<2.0.0,>=1.8.0->deafrica-tools==0.1.0) (0.15)\n",
      "Requirement already satisfied: heapdict in /env/lib/python3.6/site-packages (from zict>=0.1.3->distributed>=2.4.0->dask-ml<2.0.0,>=1.8.0->deafrica-tools==0.1.0) (1.0.1)\n",
      "Requirement already satisfied: typing-extensions>=3.6.4; python_version < \"3.8\" in /env/lib/python3.6/site-packages (from importlib-metadata; python_version < \"3.8\"->jsonschema->datacube<2.0.0,>=1.8.3->deafrica-tools==0.1.0) (3.7.4.3)\n",
      "Requirement already satisfied: zipp>=0.5 in /env/lib/python3.6/site-packages (from importlib-metadata; python_version < \"3.8\"->jsonschema->datacube<2.0.0,>=1.8.3->deafrica-tools==0.1.0) (3.4.0)\n",
      "Building wheels for collected packages: deafrica-tools\n",
      "  Building wheel for deafrica-tools (PEP 517) ... \u001b[?25ldone\n",
      "\u001b[?25h  Created wheel for deafrica-tools: filename=deafrica_tools-0.1.0-py3-none-any.whl size=78332 sha256=bcaadb54925ffa3b35c89325ec1da757e2be197ab7314e15662ddd66ca8ae73b\n",
      "  Stored in directory: /tmp/pip-ephem-wheel-cache-g72_uexl/wheels/ff/4a/05/e0edf634fc047593b79eb41fdefeda18297de612675a8d4173\n",
      "Successfully built deafrica-tools\n",
      "Installing collected packages: matplotlib, deafrica-tools\n",
      "  Attempting uninstall: matplotlib\n",
      "    Found existing installation: matplotlib 3.2.1\n",
      "    Uninstalling matplotlib-3.2.1:\n",
      "      Successfully uninstalled matplotlib-3.2.1\n",
      "Successfully installed deafrica-tools-0.1.0 matplotlib-3.3.4\n",
      "\u001b[33mWARNING: You are using pip version 20.2.4; however, version 21.1 is available.\n",
      "You should consider upgrading via the '/env/bin/python3 -m pip install --upgrade pip' command.\u001b[0m\n"
     ]
    }
   ],
   "source": [
    "!pip install -e ../../production/dea_ml\n",
    "!pip install git+https://github.com/digitalearthafrica/deafrica-sandbox-notebooks.git@minty-fresh-sandbox#subdirectory=Tools"
   ]
  },
  {
   "cell_type": "markdown",
   "metadata": {},
   "source": [
    "## Load packages\n"
   ]
  },
  {
   "cell_type": "code",
   "execution_count": null,
   "metadata": {},
   "outputs": [],
   "source": [
    "%matplotlib inline\n",
    "\n",
    "import os\n",
    "import warnings\n",
    "warnings.filterwarnings(\"ignore\")\n",
    "\n",
    "import datacube\n",
    "import numpy as np\n",
    "import xarray as xr\n",
    "import subprocess as sp\n",
    "import geopandas as gpd\n",
    "from odc.io.cgroups import get_cpu_quota\n",
    "from datacube.utils.geometry import assign_crs\n",
    "from datacube.utils.rio import configure_s3_access\n",
    "configure_s3_access(aws_unsigned=True, cloud_defaults=True)\n",
    "\n",
    "from deafrica_tools.plotting import map_shapefile\n",
    "from deafrica_tools.classification import collect_training_data \n",
    "\n",
    "#import the custom feature layer functions\n",
    "from feature_layer_functions import gm_mads_two_seasons_training\n",
    "\n",
    "%load_ext autoreload\n",
    "%autoreload 2 "
   ]
  },
  {
   "cell_type": "markdown",
   "metadata": {},
   "source": [
    "## Analysis parameters\n",
    "\n",
    "* `path`: The path to the input shapefile from which we will extract training data.\n",
    "* `field`: This is the name of column in your shapefile attribute table that contains the class labels. **The class labels must be integers**\n"
   ]
  },
  {
   "cell_type": "code",
   "execution_count": null,
   "metadata": {},
   "outputs": [],
   "source": [
    "path = 'data/Southern_training_data_20210421.geojson'\n",
    "\n",
    "output_suffix = '20210421'\n",
    "\n",
    "field = 'Class'"
   ]
  },
  {
   "cell_type": "markdown",
   "metadata": {},
   "source": [
    "### Automatically find the number of cpus\n",
    "\n",
    "> **Note**: With supervised classification, its common to have many, many labelled geometries in the training data. `collect_training_data` can parallelize across the geometries in order to speed up the extracting of training data. Setting `ncpus>1` will automatically trigger the parallelization, however, its best to set `ncpus=1` to begin with to assist with debugging before triggering the parallelization. "
   ]
  },
  {
   "cell_type": "code",
   "execution_count": null,
   "metadata": {},
   "outputs": [],
   "source": [
    "ncpus=round(get_cpu_quota())\n",
    "print('ncpus = '+str(ncpus))"
   ]
  },
  {
   "cell_type": "markdown",
   "metadata": {},
   "source": [
    "## Load & preview polygon data\n",
    "\n",
    "We can load and preview our input data shapefile using `geopandas`. The shapefile should contain a column with class labels (e.g. 'class'). These labels will be used to train our model. \n",
    "\n",
    "> Remember, the class labels **must** be represented by `integers`.\n"
   ]
  },
  {
   "cell_type": "code",
   "execution_count": null,
   "metadata": {},
   "outputs": [],
   "source": [
    "# Load input data shapefile\n",
    "input_data = gpd.read_file(path)\n",
    "\n",
    "# Plot first five rows\n",
    "input_data.head()"
   ]
  },
  {
   "cell_type": "code",
   "execution_count": null,
   "metadata": {},
   "outputs": [],
   "source": [
    "# Plot training data in an interactive map\n",
    "# map_shapefile(input_data, attribute=field)"
   ]
  },
  {
   "cell_type": "markdown",
   "metadata": {},
   "source": [
    "Now, we can pass this shapefile to `collect_training_data`.  For each of the geometries in our shapefile we will extract features in accordance with the function `feature_layer_functions.gm_mads_two_seasons_training`. These will include:\n",
    "\n",
    "For two seasons, January to June, and July to Decemeber:\n",
    "- A geomedian composite of nine Sentinel-2 spectral bands\n",
    "- Three measures of median absolute deviation\n",
    "- NDVI, MNDWI, and LAI\n",
    "- Cumulative Rainfall from the CHIRPS\n",
    "- Slope from SRTM"
   ]
  },
  {
   "cell_type": "markdown",
   "metadata": {},
   "source": [
    "First, we need to set up a few extra inputs for `collect_training_data` and the datacube.  See the function docs [here](https://github.com/digitalearthafrica/deafrica-sandbox-notebooks/blob/03b7b41d5f6526ff3f33618f7a0b48c0d10a155f/Scripts/deafrica_classificationtools.py#L650) for more information on these parameters.\n",
    "\n"
   ]
  },
  {
   "cell_type": "code",
   "execution_count": null,
   "metadata": {},
   "outputs": [],
   "source": [
    "#set up our inputs to collect_training_data\n",
    "zonal_stats = 'median'\n",
    "return_coords = True\n",
    "\n",
    "# Set up the inputs for the ODC query\n",
    "products = ['gm_s2_semiannual']\n",
    "time = ('2019')\n",
    "measurements = [\n",
    "        \"blue\",\n",
    "        \"green\",\n",
    "        \"red\",\n",
    "        \"nir\",\n",
    "        \"swir_1\",\n",
    "        \"swir_2\",\n",
    "        \"red_edge_1\",\n",
    "        \"red_edge_2\",\n",
    "        \"red_edge_3\",\n",
    "        \"bcdev\",\n",
    "        \"edev\",\n",
    "        \"sdev\"\n",
    "]\n",
    "resolution = (-20, 20)\n",
    "output_crs = 'epsg:6933'"
   ]
  },
  {
   "cell_type": "code",
   "execution_count": null,
   "metadata": {},
   "outputs": [],
   "source": [
    "#generate a new datacube query object\n",
    "query = {\n",
    "    'time': time,\n",
    "    'measurements': measurements,\n",
    "    'resolution': resolution,\n",
    "    'output_crs': output_crs,\n",
    "    'group_by' : 'solar_day',\n",
    "    'resampling': 'bilinear'\n",
    "}"
   ]
  },
  {
   "cell_type": "markdown",
   "metadata": {},
   "source": [
    "## Extract training data\n",
    "\n",
    "> Remember, if running this function for the first time, its advisable to set `ncpus=1` to assist with debugging before triggering the parallelization (which won't return errors if something is not working correctly).  You can also limit the number of polygons to run for the first time by passing in `gdf=input_data[0:5]`, for example."
   ]
  },
  {
   "cell_type": "code",
   "execution_count": null,
   "metadata": {},
   "outputs": [],
   "source": [
    "%%time\n",
    "column_names, model_input = collect_training_data(\n",
    "                                    gdf=input_data[0:4],\n",
    "                                    products=products,\n",
    "                                    dc_query=query,\n",
    "                                    ncpus=1,#ncpus,\n",
    "                                    return_coords=return_coords,\n",
    "                                    field=field,\n",
    "                                    zonal_stats=zonal_stats,\n",
    "                                    custom_func=gm_mads_two_seasons_training\n",
    "                                    )"
   ]
  },
  {
   "cell_type": "code",
   "execution_count": null,
   "metadata": {},
   "outputs": [],
   "source": [
    "print(column_names)\n",
    "print('')\n",
    "print(np.array_str(model_input, precision=2, suppress_small=True))"
   ]
  },
  {
   "cell_type": "markdown",
   "metadata": {},
   "source": [
    "## Seperate the coordinates\n",
    "\n",
    "By setting `return_coords=True` in the `collect_training_data` function, our training data now has two extra columns called `x_coord` and `y_coord`.  We need to seperate these from our training dataset as they will not be used to train the machine learning model. Instead, these variables will be used to help conduct Spatial K-fold Cross validation (SKVC) in the notebook `3_Train_fit_evaluate_classifier`.  For more information on why this is important, see this [article](https://www.tandfonline.com/doi/abs/10.1080/13658816.2017.1346255?journalCode=tgis20)."
   ]
  },
  {
   "cell_type": "code",
   "execution_count": null,
   "metadata": {},
   "outputs": [],
   "source": [
    "coordinates_filename = \"results/training_data/southern_training_data_coordinates_\"+output_suffix+\".txt\""
   ]
  },
  {
   "cell_type": "code",
   "execution_count": null,
   "metadata": {},
   "outputs": [],
   "source": [
    "coord_variables = ['x_coord', 'y_coord']\n",
    "model_col_indices = [column_names.index(var_name) for var_name in coord_variables]\n",
    "\n",
    "np.savetxt(coordinates_filename, model_input[:, model_col_indices])"
   ]
  },
  {
   "cell_type": "markdown",
   "metadata": {},
   "source": [
    "## Export training data\n",
    "\n",
    "Once we've collected all the training data we require, we can write the data to disk. This will allow us to import the data in the next step(s) of the workflow.\n"
   ]
  },
  {
   "cell_type": "code",
   "execution_count": null,
   "metadata": {},
   "outputs": [],
   "source": [
    "#set the name and location of the output file\n",
    "output_file = \"results/training_data/southern_training_data_\"+output_suffix+\".txt\""
   ]
  },
  {
   "cell_type": "code",
   "execution_count": null,
   "metadata": {},
   "outputs": [],
   "source": [
    "#grab all columns except the x-y coords\n",
    "model_col_indices = [column_names.index(var_name) for var_name in column_names[0:-2]]\n",
    "#Export files to disk\n",
    "np.savetxt(output_file, model_input[:, model_col_indices], header=\" \".join(column_names[0:-2]), fmt=\"%4f\")"
   ]
  },
  {
   "cell_type": "markdown",
   "metadata": {},
   "source": [
    "## Next steps\n",
    "\n",
    "To continue working through the notebooks in this `Southern Africa Cropland Mask` workflow, go to the next notebook `2_Inspect_training_data.ipynb`.\n",
    "\n",
    "1. **Extract_training_data (this notebook)** \n",
    "2. [Inspect_training_data](2_Inspect_training_data.ipynb)"
   ]
  },
  {
   "cell_type": "markdown",
   "metadata": {},
   "source": [
    "***\n",
    "\n",
    "## Additional information\n",
    "\n",
    "**License:** The code in this notebook is licensed under the [Apache License, Version 2.0](https://www.apache.org/licenses/LICENSE-2.0). \n",
    "Digital Earth Africa data is licensed under the [Creative Commons by Attribution 4.0](https://creativecommons.org/licenses/by/4.0/) license.\n",
    "\n",
    "**Contact:** If you need assistance, please post a question on the [Open Data Cube Slack channel](http://slack.opendatacube.org/) or on the [GIS Stack Exchange](https://gis.stackexchange.com/questions/ask?tags=open-data-cube) using the `open-data-cube` tag (you can view previously asked questions [here](https://gis.stackexchange.com/questions/tagged/open-data-cube)).\n",
    "If you would like to report an issue with this notebook, you can file one on [Github](https://github.com/digitalearthafrica/deafrica-sandbox-notebooks).\n",
    "\n",
    "**Last modified:** Dec 2020\n"
   ]
  }
 ],
 "metadata": {
  "kernelspec": {
   "display_name": "Python 3",
   "language": "python",
   "name": "python3"
  },
  "language_info": {
   "codemirror_mode": {
    "name": "ipython",
    "version": 3
   },
   "file_extension": ".py",
   "mimetype": "text/x-python",
   "name": "python",
   "nbconvert_exporter": "python",
   "pygments_lexer": "ipython3",
   "version": "3.6.9"
  },
  "widgets": {
   "application/vnd.jupyter.widget-state+json": {
    "state": {},
    "version_major": 2,
    "version_minor": 0
   }
  }
 },
 "nbformat": 4,
 "nbformat_minor": 4
}
