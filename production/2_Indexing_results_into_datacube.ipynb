{
 "cells": [
  {
   "cell_type": "markdown",
   "metadata": {},
   "source": [
    "# Indexing cropland extent results into the datacube\n",
    "\n",
    "Once the production runs of the cropland extent maps for a region have been run, the next step is to index the results into the datacube."
   ]
  },
  {
   "cell_type": "markdown",
   "metadata": {},
   "source": [
    "## Step 1: Create a product definition"
   ]
  },
  {
   "cell_type": "markdown",
   "metadata": {},
   "source": [
    "* Go to DE Africa's [config github repository](https://github.com/digitalearthafrica/config) to create a product definition.\n",
    "* In the `products` folder make a new product definintion yaml by copying one of the existing `crop_mask_<region>.odc-product.yaml`\n",
    "* Change the `name:` and `description:` parameters in the yaml to reflect the new product. For example, if you copied the `crop_mask_eastern.odc-product.yaml`, and you're trying to index a new 'crop-mask-northern' product, then change the name parameter to `name: crop_mask_northern`, and the decription parameter to `description: Annual cropland extent map for Northern Africa`. Lastly, change the `metadata->name:` parameter to the new product name.\n",
    "* These fields are highighted in the image below\n",
    " \n",
    "<img align=\"center\" src=\"../figs/product_def_yaml.PNG\" width=\"500\">\n",
    "\n",
    "* Once you've created a product definition yaml, you now need to add it to the lists of products. Go to the `prod/products_prod.csv` file and add a new line for your product. Like shown in the image below\n",
    "\n",
    "<img align=\"center\" src=\"../figs/product_list_csv.PNG\" width=\"500\">\n"
   ]
  },
  {
   "cell_type": "markdown",
   "metadata": {},
   "source": [
    "## Step 2: Use Argo to index the data"
   ]
  },
  {
   "cell_type": "markdown",
   "metadata": {},
   "source": [
    "* Login into Argo https://argo.dev.digitalearth.africa/\n",
    "* Submit a new `update-products` workflow, as per the image image below. Click on `submit workflow`, and the use the templates drop-down box to select the `update-products` template. Make sure the `csv_path` is correct, and then submit the job \n",
    "\n",
    "<img align=\"center\" src=\"../figs/argo_update_products.PNG\" width=\"1000\">\n",
    "\n",
    "* Once the update-products workflow is complete, its time index the data. We do this by triggering another worflow the same way as we did for update products. Only this time we will use the `s3-indexing` template.  In the template you'll need to update the `s3_glob` and `products` parameters, like highlighted below. Then submit the job.\n",
    "\n",
    "<img align=\"center\" src=\"../figs/argo_indexing.PNG\" width=\"1000\">"
   ]
  },
  {
   "cell_type": "markdown",
   "metadata": {},
   "source": [
    "## You're finished!"
   ]
  },
  {
   "cell_type": "markdown",
   "metadata": {},
   "source": [
    "The product will now be available to view in the explorer: https://explorer.digitalearth.africa/products/crop_mask_eastern/extents, and can be loaded through the sandbox using `dc.load(product='crop_mask_<region>')`"
   ]
  }
 ],
 "metadata": {
  "kernelspec": {
   "display_name": "Python 3 (ipykernel)",
   "language": "python",
   "name": "python3"
  },
  "language_info": {
   "codemirror_mode": {
    "name": "ipython",
    "version": 3
   },
   "file_extension": ".py",
   "mimetype": "text/x-python",
   "name": "python",
   "nbconvert_exporter": "python",
   "pygments_lexer": "ipython3",
   "version": "3.8.10"
  }
 },
 "nbformat": 4,
 "nbformat_minor": 4
}
