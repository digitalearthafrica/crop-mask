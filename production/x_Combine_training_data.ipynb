{
 "cells": [
  {
   "cell_type": "code",
   "execution_count": 5,
   "metadata": {},
   "outputs": [],
   "source": [
    "from pathlib import Path\n",
    "import fiona"
   ]
  },
  {
   "cell_type": "code",
   "execution_count": 19,
   "metadata": {},
   "outputs": [],
   "source": [
    "# List all the training data from the eight regions\n",
    "training_data_path = Path(\"../testing/\")\n",
    "names = [\n",
    "    training_data_path / \"central_cropmask/data/Central_training_data_20220304.geojson\",\n",
    "    training_data_path / \"eastern_cropmask/data/Eastern_training_data_20210427.geojson\",\n",
    "    training_data_path / \"indian_ocean_cropmask/data/Indian_ocean_training_data_20220310.geojson\",\n",
    "    training_data_path / \"northern_cropmask/data/northern_training_data_20210803.geojson\",\n",
    "    training_data_path / \"sahel_cropmask/data/sahel_training_data_20211110.geojson\",\n",
    "    training_data_path / \"southeast_cropmask/data/Southeast_training_data_20220222.geojson\",\n",
    "    training_data_path / \"southern_cropmask/data/Southern_training_data_20211108.geojson\",\n",
    "    training_data_path / \"western_cropmask/data/Western_training_data_20210609.geojson\"\n",
    "]"
   ]
  },
  {
   "cell_type": "code",
   "execution_count": 23,
   "metadata": {},
   "outputs": [
    {
     "name": "stdout",
     "output_type": "stream",
     "text": [
      "Working on ../testing/central_cropmask/data/Central_training_data_20220304.geojson\n",
      "Working on ../testing/eastern_cropmask/data/Eastern_training_data_20210427.geojson\n",
      "Working on ../testing/indian_ocean_cropmask/data/Indian_ocean_training_data_20220310.geojson\n",
      "Working on ../testing/northern_cropmask/data/northern_training_data_20210803.geojson\n",
      "Working on ../testing/sahel_cropmask/data/sahel_training_data_20211110.geojson\n",
      "Working on ../testing/southeast_cropmask/data/Southeast_training_data_20220222.geojson\n",
      "Working on ../testing/southern_cropmask/data/Southern_training_data_20211108.geojson\n",
      "Working on ../testing/western_cropmask/data/Western_training_data_20210609.geojson\n"
     ]
    }
   ],
   "source": [
    "# Load all the files and combine them into one big file\n",
    "bad_fields = [\"ID\", \"CODE\", \"COUNTRY\", \"smpl_class\"]\n",
    "with fiona.open(\n",
    "            training_data_path / \"combined_training_data.geojson\",\n",
    "            \"w\",\n",
    "            driver=\"GeoJSON\",\n",
    "            crs={\"init\": \"epsg:4326\"},\n",
    "            schema={\"geometry\": \"Polygon\", \"properties\": {\"Class\": \"int\"}},\n",
    "        ) as output:\n",
    "    for name in names:\n",
    "        print(f\"Working on {name}\")\n",
    "        with fiona.open(name) as input:\n",
    "            for feature in input:\n",
    "                for field in bad_fields:\n",
    "                    if field in feature[\"properties\"].keys():\n",
    "                        del feature[\"properties\"][field]\n",
    "                output.write(feature)\n",
    "print(\"Writing complete.\")\n"
   ]
  }
 ],
 "metadata": {
  "interpreter": {
   "hash": "aee8b7b246df8f9039afb4144a1f6fd8d2ca17a180786b69acc140d282b71a49"
  },
  "kernelspec": {
   "display_name": "Python 3.8.12 64-bit",
   "language": "python",
   "name": "python3"
  },
  "language_info": {
   "codemirror_mode": {
    "name": "ipython",
    "version": 3
   },
   "file_extension": ".py",
   "mimetype": "text/x-python",
   "name": "python",
   "nbconvert_exporter": "python",
   "pygments_lexer": "ipython3",
   "version": "3.8.12"
  },
  "orig_nbformat": 4
 },
 "nbformat": 4,
 "nbformat_minor": 2
}
