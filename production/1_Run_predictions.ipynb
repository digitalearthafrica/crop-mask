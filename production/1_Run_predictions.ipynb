{
 "cells": [
  {
   "cell_type": "markdown",
   "metadata": {},
   "source": [
    "## Import libaries"
   ]
  },
  {
   "cell_type": "code",
   "execution_count": null,
   "metadata": {},
   "outputs": [],
   "source": [
    "#!pip uninstall dea_ml -y\n",
    "# !pip install -e dea_ml\n",
    "# !pip install git+https://github.com/digitalearthafrica/deafrica-sandbox-notebooks.git@minty-fresh-sandbox#subdirectory=Tools"
   ]
  },
  {
   "cell_type": "code",
   "execution_count": 1,
   "metadata": {},
   "outputs": [],
   "source": [
    "import warnings\n",
    "warnings.filterwarnings(\"ignore\")\n",
    "\n",
    "import json\n",
    "import joblib\n",
    "import fsspec\n",
    "from odc.io.cgroups import get_cpu_quota\n",
    "\n",
    "from dea_ml.core.feature_layer import create_features, get_xy_from_task\n",
    "from dea_ml.helpers.json_to_taskstr import extract_taskstr_from_geojson\n",
    "from dea_ml.helpers.io import download_file\n",
    "from dea_ml.core.africa_geobox import AfricaGeobox\n",
    "from dea_ml.core.predict_from_feature import PredictContext, predict_with_model\n",
    "from dea_ml.config.product_feature_config import FeaturePathConfig\n",
    "\n",
    "%load_ext autoreload\n",
    "%autoreload 2 "
   ]
  },
  {
   "cell_type": "markdown",
   "metadata": {},
   "source": [
    "## Analysis Params\n"
   ]
  },
  {
   "cell_type": "code",
   "execution_count": 2,
   "metadata": {},
   "outputs": [],
   "source": [
    "# define the feature layer fucntion\n",
    "from gm_mads_two_seasons import gm_mads_two_seasons\n",
    "feature_layer_function = gm_mads_two_seasons \n",
    "\n",
    "#define the post_processing function\n",
    "from post_processing import post_processing\n",
    "post_process = post_processing\n",
    "\n",
    "tiles_geojson = '../testing/eastern_cropmask/data/s2_tiles_eastern_aez.geojson'\n",
    "\n",
    "model_path = '../testing/eastern_cropmask/results/gm_mads_two_seasons_ml_model_20210401.joblib'\n",
    "\n",
    "#define the chunks to use for dask\n",
    "dask_chunks = {'x':'auto', 'y':'auto'}\n"
   ]
  },
  {
   "cell_type": "markdown",
   "metadata": {},
   "source": [
    "## Initiate configuration class"
   ]
  },
  {
   "cell_type": "code",
   "execution_count": 3,
   "metadata": {},
   "outputs": [
    {
     "data": {
      "text/plain": [
       "dea_ml.config.product_feature_config.FeaturePathConfig"
      ]
     },
     "execution_count": 3,
     "metadata": {},
     "output_type": "execute_result"
    }
   ],
   "source": [
    "# import the configuration\n",
    "config = FeaturePathConfig\n",
    "config"
   ]
  },
  {
   "cell_type": "markdown",
   "metadata": {},
   "source": [
    "## Open tiles and model"
   ]
  },
  {
   "cell_type": "code",
   "execution_count": 4,
   "metadata": {},
   "outputs": [],
   "source": [
    "config.tiles_geojson = tiles_geojson\n",
    "\n",
    "tile_geojson_url= config.tiles_geojson \n",
    "\n",
    "with fsspec.open(tile_geojson_url) as fh:\n",
    "    tiles_geojson_dict = json.load(fh)"
   ]
  },
  {
   "cell_type": "code",
   "execution_count": 5,
   "metadata": {},
   "outputs": [
    {
     "name": "stdout",
     "output_type": "stream",
     "text": [
      "RandomForestClassifier(max_features='log2', n_estimators=300, n_jobs=15,\n",
      "                       random_state=1)\n"
     ]
    }
   ],
   "source": [
    "# Open model\n",
    "config.model_path = model_path\n",
    "ml_model_url = config.model_path\n",
    "\n",
    "with fsspec.open(ml_model_url) as fh:\n",
    "    model = joblib.load(fh)\n",
    "model.n_jobs = round(get_cpu_quota()) #update model with cpus available on this machine\n",
    "print(model)"
   ]
  },
  {
   "cell_type": "markdown",
   "metadata": {},
   "source": [
    "## Generate 'tasks' based on tiles\n"
   ]
  },
  {
   "cell_type": "code",
   "execution_count": 6,
   "metadata": {},
   "outputs": [
    {
     "data": {
      "text/plain": [
       "390"
      ]
     },
     "execution_count": 6,
     "metadata": {},
     "output_type": "execute_result"
    }
   ],
   "source": [
    "tasks = extract_taskstr_from_geojson(time_range='2019-01--P6M', geojson=tiles_geojson_dict)\n",
    "len(tasks)"
   ]
  },
  {
   "cell_type": "markdown",
   "metadata": {},
   "source": [
    "## Generate features for model\n"
   ]
  },
  {
   "cell_type": "markdown",
   "metadata": {},
   "source": [
    "First generate a dictionary of geobox's for each tile"
   ]
  },
  {
   "cell_type": "code",
   "execution_count": 7,
   "metadata": {},
   "outputs": [
    {
     "name": "stdout",
     "output_type": "stream",
     "text": [
      "210 77\n"
     ]
    }
   ],
   "source": [
    "x, y = get_xy_from_task(tasks[0])\n",
    "#update tile id\n",
    "x = x+181\n",
    "y = y+77\n",
    "print(x,y)\n",
    "\n",
    "geobox_dict = AfricaGeobox().geobox_dict"
   ]
  },
  {
   "cell_type": "markdown",
   "metadata": {},
   "source": [
    "Pass the feature layer function into the `create_features` function\n",
    "\n",
    "**Note:** This will take a couple of minutes to run.\n"
   ]
  },
  {
   "cell_type": "code",
   "execution_count": 8,
   "metadata": {},
   "outputs": [
    {
     "name": "stdout",
     "output_type": "stream",
     "text": [
      "<xarray.Dataset>\n",
      "Dimensions:        (x: 4800, y: 4800)\n",
      "Coordinates:\n",
      "    time           datetime64[ns] 2019-07-02T11:59:59.999999\n",
      "  * y              (y) float64 9.599e+04 9.597e+04 9.595e+04 ... 50.0 30.0 10.0\n",
      "  * x              (x) float64 2.784e+06 2.784e+06 ... 2.88e+06 2.88e+06\n",
      "    spatial_ref    int32 6933\n",
      "    band           int64 1\n",
      "Data variables:\n",
      "    blue_S1        (y, x) float32 dask.array<chunksize=(4800, 4800), meta=np.ndarray>\n",
      "    green_S1       (y, x) float32 dask.array<chunksize=(4800, 4800), meta=np.ndarray>\n",
      "    red_S1         (y, x) float32 dask.array<chunksize=(4800, 4800), meta=np.ndarray>\n",
      "    nir_S1         (y, x) float32 dask.array<chunksize=(4800, 4800), meta=np.ndarray>\n",
      "    swir_1_S1      (y, x) float32 dask.array<chunksize=(4800, 4800), meta=np.ndarray>\n",
      "    swir_2_S1      (y, x) float32 dask.array<chunksize=(4800, 4800), meta=np.ndarray>\n",
      "    red_edge_1_S1  (y, x) float32 dask.array<chunksize=(4800, 4800), meta=np.ndarray>\n",
      "    red_edge_2_S1  (y, x) float32 dask.array<chunksize=(4800, 4800), meta=np.ndarray>\n",
      "    red_edge_3_S1  (y, x) float32 dask.array<chunksize=(4800, 4800), meta=np.ndarray>\n",
      "    bcdev_S1       (y, x) float32 dask.array<chunksize=(4800, 4800), meta=np.ndarray>\n",
      "    edev_S1        (y, x) float32 dask.array<chunksize=(4800, 4800), meta=np.ndarray>\n",
      "    sdev_S1        (y, x) float32 dask.array<chunksize=(4800, 4800), meta=np.ndarray>\n",
      "    NDVI_S1        (y, x) float32 dask.array<chunksize=(4800, 4800), meta=np.ndarray>\n",
      "    LAI_S1         (y, x) float32 dask.array<chunksize=(4800, 4800), meta=np.ndarray>\n",
      "    MNDWI_S1       (y, x) float32 dask.array<chunksize=(4800, 4800), meta=np.ndarray>\n",
      "    rain_S1        (y, x) float32 dask.array<chunksize=(4800, 4800), meta=np.ndarray>\n",
      "    blue_S2        (y, x) float32 dask.array<chunksize=(4800, 4800), meta=np.ndarray>\n",
      "    green_S2       (y, x) float32 dask.array<chunksize=(4800, 4800), meta=np.ndarray>\n",
      "    red_S2         (y, x) float32 dask.array<chunksize=(4800, 4800), meta=np.ndarray>\n",
      "    nir_S2         (y, x) float32 dask.array<chunksize=(4800, 4800), meta=np.ndarray>\n",
      "    swir_1_S2      (y, x) float32 dask.array<chunksize=(4800, 4800), meta=np.ndarray>\n",
      "    swir_2_S2      (y, x) float32 dask.array<chunksize=(4800, 4800), meta=np.ndarray>\n",
      "    red_edge_1_S2  (y, x) float32 dask.array<chunksize=(4800, 4800), meta=np.ndarray>\n",
      "    red_edge_2_S2  (y, x) float32 dask.array<chunksize=(4800, 4800), meta=np.ndarray>\n",
      "    red_edge_3_S2  (y, x) float32 dask.array<chunksize=(4800, 4800), meta=np.ndarray>\n",
      "    bcdev_S2       (y, x) float32 dask.array<chunksize=(4800, 4800), meta=np.ndarray>\n",
      "    edev_S2        (y, x) float32 dask.array<chunksize=(4800, 4800), meta=np.ndarray>\n",
      "    sdev_S2        (y, x) float32 dask.array<chunksize=(4800, 4800), meta=np.ndarray>\n",
      "    NDVI_S2        (y, x) float32 dask.array<chunksize=(4800, 4800), meta=np.ndarray>\n",
      "    LAI_S2         (y, x) float32 dask.array<chunksize=(4800, 4800), meta=np.ndarray>\n",
      "    MNDWI_S2       (y, x) float32 dask.array<chunksize=(4800, 4800), meta=np.ndarray>\n",
      "    rain_S2        (y, x) float32 dask.array<chunksize=(4800, 4800), meta=np.ndarray>\n",
      "    slope          (y, x) float32 dask.array<chunksize=(4800, 4800), meta=np.ndarray>\n"
     ]
    }
   ],
   "source": [
    "subfld, geobox, data = create_features(x,\n",
    "                                       y,\n",
    "                                       config,\n",
    "                                       geobox_dict,\n",
    "                                       feature_func=gm_mads_two_seasons,\n",
    "                                       dask_chunks=dask_chunks) \n",
    "\n",
    "print(data)"
   ]
  },
  {
   "cell_type": "markdown",
   "metadata": {},
   "source": [
    "## Run prediction\n",
    "\n",
    "**Note:** This will take a couple of minutes to run as the calculations are computed and brought into memory"
   ]
  },
  {
   "cell_type": "code",
   "execution_count": 9,
   "metadata": {},
   "outputs": [
    {
     "data": {
      "text/html": [
       "<table style=\"border: 2px solid white;\">\n",
       "<tr>\n",
       "<td style=\"vertical-align: top; border: 0px solid white\">\n",
       "<h3 style=\"text-align: left;\">Client</h3>\n",
       "<ul style=\"text-align: left; list-style: none; margin: 0; padding: 0;\">\n",
       "  <li><b>Scheduler: </b>inproc://10.95.105.28/4031/1</li>\n",
       "  <li><b>Dashboard: </b><a href='/user/chad/proxy/8787/status' target='_blank'>/user/chad/proxy/8787/status</a></li>\n",
       "</ul>\n",
       "</td>\n",
       "<td style=\"vertical-align: top; border: 0px solid white\">\n",
       "<h3 style=\"text-align: left;\">Cluster</h3>\n",
       "<ul style=\"text-align: left; list-style:none; margin: 0; padding: 0;\">\n",
       "  <li><b>Workers: </b>1</li>\n",
       "  <li><b>Cores: </b>15</li>\n",
       "  <li><b>Memory: </b>96.64 GB</li>\n",
       "</ul>\n",
       "</td>\n",
       "</tr>\n",
       "</table>"
      ],
      "text/plain": [
       "<Client: 'inproc://10.95.105.28/4031/1' processes=1 threads=15, memory=96.64 GB>"
      ]
     },
     "execution_count": 9,
     "metadata": {},
     "output_type": "execute_result"
    }
   ],
   "source": [
    "pff = PredictContext(config, geobox_dict)\n",
    "pff.client"
   ]
  },
  {
   "cell_type": "code",
   "execution_count": 10,
   "metadata": {},
   "outputs": [
    {
     "name": "stdout",
     "output_type": "stream",
     "text": [
      "predicting...\n",
      "   probabilities...\n",
      "   input features...\n"
     ]
    }
   ],
   "source": [
    "predicted = predict_with_model(config, model, data)"
   ]
  },
  {
   "cell_type": "code",
   "execution_count": 11,
   "metadata": {},
   "outputs": [
    {
     "name": "stdout",
     "output_type": "stream",
     "text": [
      "<xarray.Dataset>\n",
      "Dimensions:        (x: 4800, y: 4800)\n",
      "Coordinates:\n",
      "  * x              (x) float64 2.784e+06 2.784e+06 ... 2.88e+06 2.88e+06\n",
      "  * y              (y) float64 9.599e+04 9.597e+04 9.595e+04 ... 50.0 30.0 10.0\n",
      "    spatial_ref    int32 0\n",
      "Data variables:\n",
      "    Predictions    (y, x) int64 dask.array<chunksize=(200, 4800), meta=np.ndarray>\n",
      "    Probabilities  (y, x) float64 dask.array<chunksize=(200, 4800), meta=np.ndarray>\n",
      "    red_S1         (y, x) float32 dask.array<chunksize=(4800, 4800), meta=np.ndarray>\n",
      "    blue_S1        (y, x) float32 dask.array<chunksize=(4800, 4800), meta=np.ndarray>\n",
      "    green_S1       (y, x) float32 dask.array<chunksize=(4800, 4800), meta=np.ndarray>\n",
      "    nir_S1         (y, x) float32 dask.array<chunksize=(4800, 4800), meta=np.ndarray>\n",
      "    swir_1_S1      (y, x) float32 dask.array<chunksize=(4800, 4800), meta=np.ndarray>\n",
      "    swir_2_S1      (y, x) float32 dask.array<chunksize=(4800, 4800), meta=np.ndarray>\n",
      "    red_edge_1_S1  (y, x) float32 dask.array<chunksize=(4800, 4800), meta=np.ndarray>\n",
      "    red_edge_2_S1  (y, x) float32 dask.array<chunksize=(4800, 4800), meta=np.ndarray>\n",
      "    red_edge_3_S1  (y, x) float32 dask.array<chunksize=(4800, 4800), meta=np.ndarray>\n",
      "    edev_S1        (y, x) float32 dask.array<chunksize=(4800, 4800), meta=np.ndarray>\n",
      "    sdev_S1        (y, x) float32 dask.array<chunksize=(4800, 4800), meta=np.ndarray>\n",
      "    bcdev_S1       (y, x) float32 dask.array<chunksize=(4800, 4800), meta=np.ndarray>\n",
      "    NDVI_S1        (y, x) float32 dask.array<chunksize=(4800, 4800), meta=np.ndarray>\n",
      "    LAI_S1         (y, x) float32 dask.array<chunksize=(4800, 4800), meta=np.ndarray>\n",
      "    MNDWI_S1       (y, x) float32 dask.array<chunksize=(4800, 4800), meta=np.ndarray>\n",
      "    rain_S1        (y, x) float32 dask.array<chunksize=(4800, 4800), meta=np.ndarray>\n",
      "    red_S2         (y, x) float32 dask.array<chunksize=(4800, 4800), meta=np.ndarray>\n",
      "    blue_S2        (y, x) float32 dask.array<chunksize=(4800, 4800), meta=np.ndarray>\n",
      "    green_S2       (y, x) float32 dask.array<chunksize=(4800, 4800), meta=np.ndarray>\n",
      "    nir_S2         (y, x) float32 dask.array<chunksize=(4800, 4800), meta=np.ndarray>\n",
      "    swir_1_S2      (y, x) float32 dask.array<chunksize=(4800, 4800), meta=np.ndarray>\n",
      "    swir_2_S2      (y, x) float32 dask.array<chunksize=(4800, 4800), meta=np.ndarray>\n",
      "    red_edge_1_S2  (y, x) float32 dask.array<chunksize=(4800, 4800), meta=np.ndarray>\n",
      "    red_edge_2_S2  (y, x) float32 dask.array<chunksize=(4800, 4800), meta=np.ndarray>\n",
      "    red_edge_3_S2  (y, x) float32 dask.array<chunksize=(4800, 4800), meta=np.ndarray>\n",
      "    edev_S2        (y, x) float32 dask.array<chunksize=(4800, 4800), meta=np.ndarray>\n",
      "    sdev_S2        (y, x) float32 dask.array<chunksize=(4800, 4800), meta=np.ndarray>\n",
      "    bcdev_S2       (y, x) float32 dask.array<chunksize=(4800, 4800), meta=np.ndarray>\n",
      "    NDVI_S2        (y, x) float32 dask.array<chunksize=(4800, 4800), meta=np.ndarray>\n",
      "    LAI_S2         (y, x) float32 dask.array<chunksize=(4800, 4800), meta=np.ndarray>\n",
      "    MNDWI_S2       (y, x) float32 dask.array<chunksize=(4800, 4800), meta=np.ndarray>\n",
      "    rain_S2        (y, x) float32 dask.array<chunksize=(4800, 4800), meta=np.ndarray>\n",
      "    slope          (y, x) float32 dask.array<chunksize=(4800, 4800), meta=np.ndarray>\n",
      "Attributes:\n",
      "    grid_mapping:  spatial_ref\n"
     ]
    }
   ],
   "source": [
    "print(predicted)"
   ]
  },
  {
   "cell_type": "markdown",
   "metadata": {},
   "source": [
    "## Post processing"
   ]
  },
  {
   "cell_type": "code",
   "execution_count": 13,
   "metadata": {},
   "outputs": [],
   "source": [
    "# there some minor issue with dask_ml functions to raise the warning.\n",
    "predict, proba, mode = post_process(data, predicted, config, geobox)"
   ]
  },
  {
   "cell_type": "code",
   "execution_count": null,
   "metadata": {},
   "outputs": [],
   "source": [
    "print(prob)"
   ]
  },
  {
   "cell_type": "markdown",
   "metadata": {},
   "source": [
    "## save data\n",
    "- result will be in: \n",
    "```/home/jovyan/wa/u23/data/crop_mask_eastern/v0.1.7/x+029/y+000/2019```"
   ]
  },
  {
   "cell_type": "code",
   "execution_count": null,
   "metadata": {},
   "outputs": [],
   "source": [
    "# pff.save_data(subfld, predict, prob, geobox)"
   ]
  },
  {
   "cell_type": "code",
   "execution_count": null,
   "metadata": {},
   "outputs": [],
   "source": [
    "# !ls /home/jovyan/wa/u23/data/crop_mask_eastern/v0.1.7/x+029/y+000/2019"
   ]
  }
 ],
 "metadata": {
  "kernelspec": {
   "display_name": "Python 3",
   "language": "python",
   "name": "python3"
  },
  "language_info": {
   "codemirror_mode": {
    "name": "ipython",
    "version": 3
   },
   "file_extension": ".py",
   "mimetype": "text/x-python",
   "name": "python",
   "nbconvert_exporter": "python",
   "pygments_lexer": "ipython3",
   "version": "3.6.9"
  }
 },
 "nbformat": 4,
 "nbformat_minor": 4
}
