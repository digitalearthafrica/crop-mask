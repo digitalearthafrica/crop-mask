{
 "cells": [
  {
   "cell_type": "markdown",
   "metadata": {},
   "source": [
    "## Import libaries"
   ]
  },
  {
   "cell_type": "code",
   "execution_count": null,
   "metadata": {},
   "outputs": [],
   "source": [
    "# !pip uninstall dea_ml -y\n",
    "# !pip install -e dea_ml\n",
    "# !pip install git+https://github.com/digitalearthafrica/deafrica-sandbox-notebooks.git@minty-fresh-sandbox#subdirectory=Tools"
   ]
  },
  {
   "cell_type": "code",
   "execution_count": 1,
   "metadata": {},
   "outputs": [],
   "source": [
    "import warnings\n",
    "warnings.filterwarnings(\"ignore\")\n",
    "\n",
    "import json\n",
    "import joblib\n",
    "import fsspec\n",
    "from odc.io.cgroups import get_cpu_quota\n",
    "\n",
    "from dea_ml.core.feature_layer import create_features, get_xy_from_task\n",
    "from dea_ml.helpers.json_to_taskstr import extract_taskstr_from_geojson\n",
    "from dea_ml.helpers.io import download_file\n",
    "from dea_ml.core.africa_geobox import AfricaGeobox\n",
    "from dea_ml.core.predict_from_feature import PredictContext, predict_with_model\n",
    "from dea_ml.config.product_feature_config import FeaturePathConfig\n",
    "\n",
    "%load_ext autoreload\n",
    "%autoreload 2 "
   ]
  },
  {
   "cell_type": "markdown",
   "metadata": {},
   "source": [
    "## Analysis Params\n"
   ]
  },
  {
   "cell_type": "code",
   "execution_count": 2,
   "metadata": {},
   "outputs": [],
   "source": [
    "# define the feature layer fucntion\n",
    "from feature_layer_functions import gm_mads_two_seasons_prediction\n",
    "\n",
    "#define the post_processing function\n",
    "from post_processing import post_processing\n",
    "\n",
    "tiles_geojson = '../testing/eastern_cropmask/data/s2_tiles_eastern_aez.geojson'\n",
    "\n",
    "model_path = '../testing/eastern_cropmask/results/gm_mads_two_seasons_ml_model_20210401.joblib'\n",
    "\n",
    "#define the chunks to use for dask\n",
    "dask_chunks = {'x': 5000, 'y':5000}\n"
   ]
  },
  {
   "cell_type": "markdown",
   "metadata": {},
   "source": [
    "## Initiate configuration class"
   ]
  },
  {
   "cell_type": "code",
   "execution_count": 3,
   "metadata": {},
   "outputs": [
    {
     "data": {
      "text/plain": [
       "dea_ml.config.product_feature_config.FeaturePathConfig"
      ]
     },
     "execution_count": 3,
     "metadata": {},
     "output_type": "execute_result"
    }
   ],
   "source": [
    "# import the configuration\n",
    "config = FeaturePathConfig\n",
    "config"
   ]
  },
  {
   "cell_type": "markdown",
   "metadata": {},
   "source": [
    "## Open tiles and model"
   ]
  },
  {
   "cell_type": "code",
   "execution_count": 4,
   "metadata": {},
   "outputs": [],
   "source": [
    "config.tiles_geojson = tiles_geojson\n",
    "\n",
    "tile_geojson_url= config.tiles_geojson \n",
    "\n",
    "with fsspec.open(tile_geojson_url) as fh:\n",
    "    tiles_geojson_dict = json.load(fh)"
   ]
  },
  {
   "cell_type": "code",
   "execution_count": 5,
   "metadata": {},
   "outputs": [
    {
     "name": "stdout",
     "output_type": "stream",
     "text": [
      "RandomForestClassifier(max_features='log2', n_estimators=300, n_jobs=15,\n",
      "                       random_state=1)\n"
     ]
    }
   ],
   "source": [
    "# Open model\n",
    "config.model_path = model_path\n",
    "ml_model_url = config.model_path\n",
    "\n",
    "with fsspec.open(ml_model_url) as fh:\n",
    "    model = joblib.load(fh)\n",
    "model.n_jobs = round(get_cpu_quota()) #update model with cpus available on this machine\n",
    "print(model)"
   ]
  },
  {
   "cell_type": "markdown",
   "metadata": {},
   "source": [
    "## Generate 'tasks' based on tiles\n"
   ]
  },
  {
   "cell_type": "code",
   "execution_count": 6,
   "metadata": {},
   "outputs": [
    {
     "data": {
      "text/plain": [
       "390"
      ]
     },
     "execution_count": 6,
     "metadata": {},
     "output_type": "execute_result"
    }
   ],
   "source": [
    "tasks = extract_taskstr_from_geojson(time_range='2019-01--P6M', geojson=tiles_geojson_dict)\n",
    "len(tasks)"
   ]
  },
  {
   "cell_type": "markdown",
   "metadata": {},
   "source": [
    "## Generate features for model\n"
   ]
  },
  {
   "cell_type": "markdown",
   "metadata": {},
   "source": [
    "First generate a dictionary of geobox's for each tile"
   ]
  },
  {
   "cell_type": "code",
   "execution_count": 7,
   "metadata": {},
   "outputs": [
    {
     "name": "stdout",
     "output_type": "stream",
     "text": [
      "210 77\n"
     ]
    }
   ],
   "source": [
    "x, y = get_xy_from_task(tasks[0])\n",
    "\n",
    "#update tile id\n",
    "x = x+181\n",
    "y = y+77\n",
    "print(x,y)\n",
    "\n",
    "geobox_dict = AfricaGeobox().geobox_dict"
   ]
  },
  {
   "cell_type": "markdown",
   "metadata": {},
   "source": [
    "### Display Dask Client\n",
    "\n",
    "You can  use this to monitor the progress of computations"
   ]
  },
  {
   "cell_type": "code",
   "execution_count": 8,
   "metadata": {},
   "outputs": [
    {
     "data": {
      "text/html": [
       "<table style=\"border: 2px solid white;\">\n",
       "<tr>\n",
       "<td style=\"vertical-align: top; border: 0px solid white\">\n",
       "<h3 style=\"text-align: left;\">Client</h3>\n",
       "<ul style=\"text-align: left; list-style: none; margin: 0; padding: 0;\">\n",
       "  <li><b>Scheduler: </b>inproc://10.85.98.168/9625/1</li>\n",
       "  <li><b>Dashboard: </b><a href='/user/chad/proxy/8787/status' target='_blank'>/user/chad/proxy/8787/status</a></li>\n",
       "</ul>\n",
       "</td>\n",
       "<td style=\"vertical-align: top; border: 0px solid white\">\n",
       "<h3 style=\"text-align: left;\">Cluster</h3>\n",
       "<ul style=\"text-align: left; list-style:none; margin: 0; padding: 0;\">\n",
       "  <li><b>Workers: </b>1</li>\n",
       "  <li><b>Cores: </b>15</li>\n",
       "  <li><b>Memory: </b>96.64 GB</li>\n",
       "</ul>\n",
       "</td>\n",
       "</tr>\n",
       "</table>"
      ],
      "text/plain": [
       "<Client: 'inproc://10.85.98.168/9625/1' processes=1 threads=15, memory=96.64 GB>"
      ]
     },
     "execution_count": 8,
     "metadata": {},
     "output_type": "execute_result"
    }
   ],
   "source": [
    "pff = PredictContext(config, geobox_dict)\n",
    "pff.client"
   ]
  },
  {
   "cell_type": "markdown",
   "metadata": {},
   "source": [
    "Pass the feature layer function into the `create_features` function\n",
    "\n",
    "**Note:** This will take a couple of minutes to run.\n"
   ]
  },
  {
   "cell_type": "code",
   "execution_count": 9,
   "metadata": {},
   "outputs": [
    {
     "name": "stdout",
     "output_type": "stream",
     "text": [
      "[2021-04-19 05:28:16,943] {__init__.py:221} WARNING - CPLE_AppDefined in No UNIDATA NC_GLOBAL:Conventions attribute\n",
      "[2021-04-19 05:28:20,454] {__init__.py:221} WARNING - CPLE_AppDefined in No UNIDATA NC_GLOBAL:Conventions attribute\n",
      "<xarray.Dataset>\n",
      "Dimensions:        (x: 9600, y: 9600)\n",
      "Coordinates:\n",
      "    time           datetime64[ns] 2019-04-01T11:59:59.999999\n",
      "  * y              (y) float64 9.6e+04 9.598e+04 9.598e+04 ... 25.0 15.0 5.0\n",
      "  * x              (x) float64 2.784e+06 2.784e+06 ... 2.88e+06 2.88e+06\n",
      "    spatial_ref    int32 6933\n",
      "    band           int64 1\n",
      "Data variables:\n",
      "    blue_S1        (y, x) float32 dask.array<chunksize=(5000, 5000), meta=np.ndarray>\n",
      "    green_S1       (y, x) float32 dask.array<chunksize=(5000, 5000), meta=np.ndarray>\n",
      "    red_S1         (y, x) float32 dask.array<chunksize=(5000, 5000), meta=np.ndarray>\n",
      "    nir_S1         (y, x) float32 dask.array<chunksize=(5000, 5000), meta=np.ndarray>\n",
      "    swir_1_S1      (y, x) float32 dask.array<chunksize=(5000, 5000), meta=np.ndarray>\n",
      "    swir_2_S1      (y, x) float32 dask.array<chunksize=(5000, 5000), meta=np.ndarray>\n",
      "    red_edge_1_S1  (y, x) float32 dask.array<chunksize=(5000, 5000), meta=np.ndarray>\n",
      "    red_edge_2_S1  (y, x) float32 dask.array<chunksize=(5000, 5000), meta=np.ndarray>\n",
      "    red_edge_3_S1  (y, x) float32 dask.array<chunksize=(5000, 5000), meta=np.ndarray>\n",
      "    bcdev_S1       (y, x) float32 dask.array<chunksize=(5000, 5000), meta=np.ndarray>\n",
      "    edev_S1        (y, x) float32 dask.array<chunksize=(5000, 5000), meta=np.ndarray>\n",
      "    sdev_S1        (y, x) float32 dask.array<chunksize=(5000, 5000), meta=np.ndarray>\n",
      "    NDVI_S1        (y, x) float32 dask.array<chunksize=(5000, 5000), meta=np.ndarray>\n",
      "    LAI_S1         (y, x) float32 dask.array<chunksize=(5000, 5000), meta=np.ndarray>\n",
      "    MNDWI_S1       (y, x) float32 dask.array<chunksize=(5000, 5000), meta=np.ndarray>\n",
      "    rain_S1        (y, x) float32 dask.array<chunksize=(5000, 5000), meta=np.ndarray>\n",
      "    blue_S2        (y, x) float32 dask.array<chunksize=(5000, 5000), meta=np.ndarray>\n",
      "    green_S2       (y, x) float32 dask.array<chunksize=(5000, 5000), meta=np.ndarray>\n",
      "    red_S2         (y, x) float32 dask.array<chunksize=(5000, 5000), meta=np.ndarray>\n",
      "    nir_S2         (y, x) float32 dask.array<chunksize=(5000, 5000), meta=np.ndarray>\n",
      "    swir_1_S2      (y, x) float32 dask.array<chunksize=(5000, 5000), meta=np.ndarray>\n",
      "    swir_2_S2      (y, x) float32 dask.array<chunksize=(5000, 5000), meta=np.ndarray>\n",
      "    red_edge_1_S2  (y, x) float32 dask.array<chunksize=(5000, 5000), meta=np.ndarray>\n",
      "    red_edge_2_S2  (y, x) float32 dask.array<chunksize=(5000, 5000), meta=np.ndarray>\n",
      "    red_edge_3_S2  (y, x) float32 dask.array<chunksize=(5000, 5000), meta=np.ndarray>\n",
      "    bcdev_S2       (y, x) float32 dask.array<chunksize=(5000, 5000), meta=np.ndarray>\n",
      "    edev_S2        (y, x) float32 dask.array<chunksize=(5000, 5000), meta=np.ndarray>\n",
      "    sdev_S2        (y, x) float32 dask.array<chunksize=(5000, 5000), meta=np.ndarray>\n",
      "    NDVI_S2        (y, x) float32 dask.array<chunksize=(5000, 5000), meta=np.ndarray>\n",
      "    LAI_S2         (y, x) float32 dask.array<chunksize=(5000, 5000), meta=np.ndarray>\n",
      "    MNDWI_S2       (y, x) float32 dask.array<chunksize=(5000, 5000), meta=np.ndarray>\n",
      "    rain_S2        (y, x) float32 dask.array<chunksize=(5000, 5000), meta=np.ndarray>\n",
      "    slope          (y, x) float32 dask.array<chunksize=(5000, 5000), meta=np.ndarray>\n",
      "CPU times: user 9.57 s, sys: 1.46 s, total: 11 s\n",
      "Wall time: 30.1 s\n"
     ]
    }
   ],
   "source": [
    "%%time\n",
    "subfld, geobox, data = create_features(x,\n",
    "                                       y,\n",
    "                                       config,\n",
    "                                       geobox_dict,\n",
    "                                       feature_func=gm_mads_two_seasons_prediction,\n",
    "                                       dask_chunks=dask_chunks) \n",
    "\n",
    "print(data)"
   ]
  },
  {
   "cell_type": "markdown",
   "metadata": {},
   "source": [
    "## Run prediction\n",
    "\n",
    "**Note:** This will take a couple of minutes to run as the calculations are computed and brought into memory"
   ]
  },
  {
   "cell_type": "code",
   "execution_count": 10,
   "metadata": {},
   "outputs": [
    {
     "name": "stdout",
     "output_type": "stream",
     "text": [
      "predicting...\n",
      "   probabilities...\n",
      "   input features...\n"
     ]
    },
    {
     "name": "stderr",
     "output_type": "stream",
     "text": [
      "distributed.comm.inproc - WARNING - Closing dangling queue in <InProc  local=inproc://10.85.98.168/9625/1 remote=inproc://10.85.98.168/9625/10>\n"
     ]
    },
    {
     "name": "stdout",
     "output_type": "stream",
     "text": [
      "<xarray.Dataset>\n",
      "Dimensions:        (x: 9600, y: 9600)\n",
      "Coordinates:\n",
      "  * x              (x) float64 2.784e+06 2.784e+06 ... 2.88e+06 2.88e+06\n",
      "  * y              (y) float64 9.6e+04 9.598e+04 9.598e+04 ... 25.0 15.0 5.0\n",
      "    spatial_ref    int32 0\n",
      "Data variables:\n",
      "    Predictions    (y, x) int8 0 0 0 0 0 0 0 0 0 0 0 0 ... 0 0 0 0 0 0 0 0 0 0 0\n",
      "    Probabilities  (y, x) float32 88.0 91.333336 90.666664 ... 57.0 75.0\n",
      "    red_S1         (y, x) float32 0.0387 0.039 0.0376 ... 0.084 0.0815 0.0844\n",
      "    blue_S1        (y, x) float32 0.0418 0.0411 0.04 ... 0.0591 0.0582 0.0603\n",
      "    green_S1       (y, x) float32 0.0531 0.054 0.0524 ... 0.0794 0.0795 0.0799\n",
      "    nir_S1         (y, x) float32 0.2399 0.2502 0.2529 ... 0.2287 0.2583 0.2404\n",
      "    swir_1_S1      (y, x) float32 0.1338 0.1349 0.1351 ... 0.2272 0.2289 0.2275\n",
      "    swir_2_S1      (y, x) float32 0.0621 0.0625 0.0623 ... 0.1599 0.1575 0.1626\n",
      "    red_edge_1_S1  (y, x) float32 0.0763 0.0772 0.077 ... 0.1205 0.1232 0.1291\n",
      "    red_edge_2_S1  (y, x) float32 0.1918 0.1951 0.1963 ... 0.198 0.2095 0.1986\n",
      "    red_edge_3_S1  (y, x) float32 0.245 0.2483 0.2498 ... 0.2277 0.2414 0.2316\n",
      "    edev_S1        (y, x) float32 2.7110844 2.7654912 ... 2.7073016 2.9520268\n",
      "    sdev_S1        (y, x) float32 6.5919094 6.5944896 ... 5.9848065 6.314086\n",
      "    bcdev_S1       (y, x) float32 2.7480693 2.7454925 ... 2.9610436 3.0616586\n",
      "    NDVI_S1        (y, x) float32 0.72218233 0.7302905 ... 0.52030605 0.48029557\n",
      "    LAI_S1         (y, x) float32 1.4527354 1.5064772 ... 1.1019847 0.9719695\n",
      "    MNDWI_S1       (y, x) float32 -0.4317817 -0.42826894 ... -0.48015615\n",
      "    rain_S1        (y, x) float32 744.2355 744.24194 ... 411.3024 411.28183\n",
      "    red_S2         (y, x) float32 0.0332 0.0337 0.0344 ... 0.0533 0.0574 0.0633\n",
      "    blue_S2        (y, x) float32 0.0405 0.0405 0.041 ... 0.0508 0.0516 0.0537\n",
      "    green_S2       (y, x) float32 0.0515 0.0514 0.052 ... 0.0732 0.0731 0.0725\n",
      "    nir_S2         (y, x) float32 0.24 0.2506 0.2601 ... 0.3396 0.3162 0.2802\n",
      "    swir_1_S2      (y, x) float32 0.1283 0.131 0.1329 ... 0.1986 0.2011 0.2083\n",
      "    swir_2_S2      (y, x) float32 0.057 0.0583 0.0593 ... 0.1152 0.1155 0.1332\n",
      "    red_edge_1_S2  (y, x) float32 0.0693 0.0724 0.074 ... 0.1058 0.108 0.1159\n",
      "    red_edge_2_S2  (y, x) float32 0.1893 0.1975 0.2009 ... 0.2613 0.2633 0.2331\n",
      "    red_edge_3_S2  (y, x) float32 0.24 0.2518 0.2565 ... 0.313 0.3154 0.2731\n",
      "    edev_S2        (y, x) float32 2.715889 2.835731 ... 2.6999118 2.7284956\n",
      "    sdev_S2        (y, x) float32 7.0642257 7.3087153 ... 6.7659287 7.0383496\n",
      "    bcdev_S2       (y, x) float32 2.6659164 2.8482215 ... 3.044986 3.034797\n",
      "    NDVI_S2        (y, x) float32 0.7569546 0.76292646 ... 0.69271946 0.63144106\n",
      "    LAI_S2         (y, x) float32 1.5293697 1.5893761 ... 1.7199758 1.4424379\n",
      "    MNDWI_S2       (y, x) float32 -0.42714128 -0.4364035 ... -0.48361823\n",
      "    rain_S2        (y, x) float32 979.3197 979.30945 ... 531.8461 531.822\n",
      "    slope          (y, x) float32 8.333333 8.333333 ... 4.1666665 4.1666665\n",
      "Attributes:\n",
      "    grid_mapping:  spatial_ref\n",
      "CPU times: user 1h 24min 7s, sys: 1min 46s, total: 1h 25min 54s\n",
      "Wall time: 6min 2s\n"
     ]
    }
   ],
   "source": [
    "%%time\n",
    "predicted = predict_with_model(config,model,data).compute()\n",
    "print(predicted)"
   ]
  },
  {
   "cell_type": "markdown",
   "metadata": {},
   "source": [
    "## Post processing"
   ]
  },
  {
   "cell_type": "code",
   "execution_count": 11,
   "metadata": {},
   "outputs": [
    {
     "name": "stdout",
     "output_type": "stream",
     "text": [
      "[2021-04-19 05:35:50,013] {env.py:433} WARNING - CPLE_NotSupported in driver GTiff does not support creation option WIDTH\n",
      "[2021-04-19 05:35:50,014] {env.py:433} WARNING - CPLE_NotSupported in driver GTiff does not support creation option HEIGHT\n",
      "[2021-04-19 05:35:50,014] {env.py:433} WARNING - CPLE_NotSupported in driver GTiff does not support creation option COUNT\n",
      "[2021-04-19 05:35:50,015] {env.py:433} WARNING - CPLE_NotSupported in driver GTiff does not support creation option DTYPE\n",
      "[2021-04-19 05:35:50,016] {env.py:433} WARNING - CPLE_NotSupported in driver GTiff does not support creation option CRS\n",
      "[2021-04-19 05:35:50,017] {env.py:433} WARNING - CPLE_NotSupported in driver GTiff does not support creation option TRANSFORM\n",
      "  image segmentation...\n",
      "  calculating mode...\n",
      "  masking with WOfS,slope,elevation\n",
      "CPU times: user 9min 54s, sys: 16.3 s, total: 10min 11s\n",
      "Wall time: 10min 7s\n"
     ]
    }
   ],
   "source": [
    "%%time\n",
    "predict, proba, filtered = post_processing(predicted, geobox)"
   ]
  },
  {
   "cell_type": "markdown",
   "metadata": {},
   "source": [
    "## save data"
   ]
  },
  {
   "cell_type": "code",
   "execution_count": null,
   "metadata": {},
   "outputs": [],
   "source": [
    "pff.save_data(subfld, predict, proba, filtered, geobox)"
   ]
  },
  {
   "cell_type": "code",
   "execution_count": null,
   "metadata": {},
   "outputs": [],
   "source": []
  },
  {
   "cell_type": "code",
   "execution_count": null,
   "metadata": {},
   "outputs": [],
   "source": [
    "# import xarray as xr\n",
    "# xr.open_rasterio('/g/data/crop_mask_eastern_data/crop_mask_eastern/v0.1.8/x210/y077/2019/crop_mask_eastern_x210_y077_2019_prob.tif').plot(size=10)"
   ]
  },
  {
   "cell_type": "code",
   "execution_count": null,
   "metadata": {},
   "outputs": [],
   "source": [
    "# !ls /home/jovyan/wa/u23/data/crop_mask_eastern/v0.1.7/x+029/y+000/2019"
   ]
  },
  {
   "cell_type": "code",
   "execution_count": null,
   "metadata": {},
   "outputs": [],
   "source": []
  }
 ],
 "metadata": {
  "kernelspec": {
   "display_name": "Python 3",
   "language": "python",
   "name": "python3"
  },
  "language_info": {
   "codemirror_mode": {
    "name": "ipython",
    "version": 3
   },
   "file_extension": ".py",
   "mimetype": "text/x-python",
   "name": "python",
   "nbconvert_exporter": "python",
   "pygments_lexer": "ipython3",
   "version": "3.6.9"
  }
 },
 "nbformat": 4,
 "nbformat_minor": 4
}
