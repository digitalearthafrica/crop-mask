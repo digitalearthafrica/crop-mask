{
 "cells": [
  {
   "cell_type": "markdown",
   "metadata": {},
   "source": [
    "# Sync locally produced Cropmask data to S3\n",
    "--- "
   ]
  },
  {
   "cell_type": "markdown",
   "metadata": {},
   "source": [
    "This notebook documents how to sync locally produced crop mask to S3 so it's available to public and can be indexed in ODC."
   ]
  },
  {
   "cell_type": "markdown",
   "metadata": {},
   "source": [
    "## Crop-mask prediction result \n",
    "\n",
    "AWS S3 data sync from Sandbox or devbox onto S3 buckets\n",
    "We can use ```awscli``` to sync seed data into s3 to validate the s3 path as well as other setups.\n",
    "The s3 url link of the stac json was also included in the stac json it self, like below\n",
    "\n",
    "```json\n",
    "\"s3://deafrica-data-dev-af/crop_mask_eastern/v0.1.3/x048/y010/2019/crop_mask_eastern_x048_y010_2019.json\"\n",
    "```\n",
    "The link parts include\n",
    "1. bucket name\n",
    "2. product name\n",
    "3. product version\n",
    "4. ```<x>/<y>``` tile index, the new indexing will be all positive value without sign. The relation ship are,\n",
    "$$\n",
    "x_{new} = x_{old}  + 181 \\\\\n",
    "y_{new} = y_{old} + 77 \\\\\n",
    "$$\n",
    "5. time range, ```2019``` here is for the whole year. Otherwise, put something like, ```2019-01--P12M```, which was defined\n",
    "  in the ```odc.stats.model.DatatimeRange```.\n",
    "\n",
    "It is possible to use localstack to mock s3. But it needs extra tweaking.\n",
    "\n",
    "Ideally, we do the mock s3 as below,\n",
    "1. create the local mirror bucket\n",
    "\n",
    "  ```bash\n",
    "  aws s3 mb s3://deafrica-data-dev-af --endpoint-url=htp://192.168.0.19:4566\n",
    "  ```\n",
    "\n",
    "2. sync data onto the bucket\n",
    "  ```bash\n",
    "  aws s3 sync src/seed/v0.1.4 s3://deafrica-data-dev-af/crop_mask_eastern/v0.1.4 --endpoint-url=htp://192.168.0.19:4566 \\\n",
    "   --acl public-read\n",
    "  ```\n",
    "  \n",
    "---"
   ]
  },
  {
   "cell_type": "markdown",
   "metadata": {},
   "source": [
    "### Notes\n",
    "Remember to add ``` --acl public-read``` when sync the data to real s3. Prepare the data in ```v0.1.4``` with the\n",
    "exact folder structure as the s3 key prefix you want. Then, sync data,\n",
    "  ```bash\n",
    "  aws s3 sync v0.1.4/ s3://deafrica-data-dev-af/crop_mask_eastern/v0.1.4 --acl public-read\n",
    "  ```\n",
    "which just following the [aws s3 sync command](https://docs.aws.amazon.com/cli/latest/reference/s3/sync.html).\n",
    "  ```bash\n",
    "  aws s3 sync <local data path> <remote s3 bucket and prefix> --acl public-read\n",
    "  ```\n",
    "Remember to delete the data recursively when you finished the testing.\n",
    "  ```bash\n",
    "  aws s3 rm --recursive s3://deafrica-data-dev-af/crop_mask_eastern\n",
    "  ```"
   ]
  }
 ],
 "metadata": {
  "kernelspec": {
   "display_name": "Python 3",
   "language": "python",
   "name": "python3"
  },
  "language_info": {
   "codemirror_mode": {
    "name": "ipython",
    "version": 3
   },
   "file_extension": ".py",
   "mimetype": "text/x-python",
   "name": "python",
   "nbconvert_exporter": "python",
   "pygments_lexer": "ipython3",
   "version": "3.6.9"
  }
 },
 "nbformat": 4,
 "nbformat_minor": 4
}
