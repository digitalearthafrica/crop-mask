{
 "cells": [
  {
   "cell_type": "markdown",
   "metadata": {},
   "source": [
    "# Adding the crop mask to OWS (and terria maps)\n",
    "\n",
    "Once we've indexed the crop-mask into the datacube, we then need to add it to OWS and terria maps so it can be visualised on [maps.digitalearth.africa](https://maps.digitalearth.africa/), and streamed into GIS applications like QGIS and ArcGIS"
   ]
  },
  {
   "cell_type": "markdown",
   "metadata": {},
   "source": [
    "## Step 1: Update the crop-mask OWS config file"
   ]
  },
  {
   "cell_type": "markdown",
   "metadata": {},
   "source": [
    "* In DE Africa [config github repository](https://github.com/digitalearthafrica/config), navigate to the [ows_crop_mask_cfg.py](https://github.com/digitalearthafrica/config/blob/master/services/ows_refactored/agriculture/ows_crop_mask_cfg.py) file and add the new crop mask layer to the config file, following the conventions of the other crop mask layers (if re-running a crop mask that already exists then this may already exist). e.g this [code block](https://github.com/digitalearthafrica/config/blob/master/services/ows_refactored/agriculture/ows_crop_mask_cfg.py#L205-L245).  For a new crop mask, you'll need to update the `title`, `name`, and `abstract` to reflect the details of the new crop mask (countries it covers, accuracy figures, etc.)\n"
   ]
  },
  {
   "cell_type": "markdown",
   "metadata": {},
   "source": [
    "## Step 2: Update the Production and Dev inventory files"
   ]
  },
  {
   "cell_type": "markdown",
   "metadata": {},
   "source": [
    "* Add the new crop mask layer to both the [dev_af](https://github.com/digitalearthafrica/config/blob/master/services/inventory/dev_af/inventory.json) and [prod_af](https://github.com/digitalearthafrica/config/blob/master/services/inventory/prod_af/inventory.json) inventory jsons.\n",
    "* In both files you need to iterate the [total_layers_count](https://github.com/digitalearthafrica/config/blob/master/services/inventory/prod_af/inventory.json#L2), and add the new layer in the same style as the other crop-masks e.g. copy and modify this [code block](https://github.com/digitalearthafrica/config/blob/master/services/inventory/prod_af/inventory.json#L352-L363)"
   ]
  },
  {
   "cell_type": "markdown",
   "metadata": {},
   "source": [
    "## Step 3: Run `explorer-ows-update` on argo.dev"
   ]
  },
  {
   "cell_type": "markdown",
   "metadata": {},
   "source": [
    "* Once your changes to the config files have been merged through a pull request, we can now update OWS using the Argo worklfow template. Go to a\n",
    "[argo.dev](https://argo.dev.digitalearth.africa/), hit the `submit new worklfow` button and select the `explorer-ows-update` workflow.  The parameters of the workflow do not need to be changed, simply hit `submit`. This process will take about 30 mins to complete.\n",
    "\n",
    "<img align=\"center\" src=\"../figs/ows-update.PNG\" width=\"600\">"
   ]
  },
  {
   "cell_type": "markdown",
   "metadata": {},
   "source": [
    "## Step 4: Inspect the layer in DE Africa maps portal"
   ]
  },
  {
   "cell_type": "markdown",
   "metadata": {},
   "source": [
    "* At this point, the layer is only available in OWS-dev, meaning it will not automatically show up in the production maps portal at `maps.digitalearth.africa`. However, we can view it in the maps portal by manually adding the dev layers through the `my data` tab in the `explore map data` menu.\n",
    "* Add the url https://ows.dev.digitalearth.africa to the `add web data` page. Once the dev OWS layers have loaded, navigate to the new crop mask layer e.g. `Agriculture --> Cropland extent map (provisional) --> Cropland extent 2019 Southern Africa` and hit the `+` symbol to add it the maps portal.  We can then inspect and validate that the crop mask is correct and renders correctly.\n",
    "* If you can't see the layer and you've followed all the right steps, then you may need to manually restart the pod that runs the OWS web service application. See your favourite cloud developer for assistance as this is not yet a self-sevice or automated process.  \n",
    "\n",
    "<img align=\"center\" src=\"../figs/terria_dev_ows.PNG\" width=\"700\">\n"
   ]
  },
  {
   "cell_type": "markdown",
   "metadata": {},
   "source": [
    "## Step 5: Run `explorer-ows-update` on argo production"
   ]
  },
  {
   "cell_type": "markdown",
   "metadata": {},
   "source": [
    "* If you're happy with the crop mask after exploring it through OWS-dev, its now time to move the crop mask into the production OWS - this will make the crop mask public to everyone on the maps portal.\n",
    "* Before running the next step, the dataset needs to be indexed into the production database, you may or may not have done this in the `2_indexing_results_into_datcube.ipynb` step. If not, revisit that step and index the dataset using the `s3-indexing` workflow on production Argo.\n",
    "* Assumng the dataset is in the production database, go to the production Argo webpage: https://argo.digitalearth.africa, and run the same workflow as you did for the argo.dev i.e run the `explorer-ows-update` workflow."
   ]
  },
  {
   "cell_type": "markdown",
   "metadata": {},
   "source": [
    "## Step 6: Update terria catalogue"
   ]
  },
  {
   "cell_type": "markdown",
   "metadata": {},
   "source": [
    "* Next, we need to update the terria catalogue so the new product will be listed on the maps portal\n",
    "* Add the new crop mask to the [config/terria/africa-prod.json](https://github.com/digitalearthafrica/config/blob/master/terria/africa-prod.json) file following the same pattern as the other crop masks in the catalogue, e.g. this [code block](https://github.com/digitalearthafrica/config/blob/181d3eacd0f7930ac8bcf269b913941f78ae2bd1/terria/africa-prod.json#L597-L613)"
   ]
  },
  {
   "cell_type": "markdown",
   "metadata": {},
   "source": [
    "## Step 7: Trigger a new tagged release\n"
   ]
  },
  {
   "cell_type": "markdown",
   "metadata": {},
   "source": [
    "* The last step is to generate a new tagged release on the `config` repository, this will make the new layer visible on the production DE Africa maps portal.\n",
    "* On the first page of the `config` repo, hit the `tags` button\n",
    "* Then, under the `Releases` tab, hit `Draft a new release`\n",
    "* Choose a tag number that iterates on the previous tags e.g. if the last tag is `0.1.40`, then the new tag should be `0.1.41`\n",
    "* Add a title and document the release in the boxes provided, then git the green `Pulish Release` button to trigger the new release\n",
    "\n",
    "<img align=\"center\" src=\"../figs/config_tags.PNG\" width=\"700\">"
   ]
  },
  {
   "cell_type": "markdown",
   "metadata": {},
   "source": [
    "## You're finished!"
   ]
  },
  {
   "cell_type": "markdown",
   "metadata": {},
   "source": [
    "The product should now be available to view in the maps portal. If its not there, wait an hour for the ows-update and ECR sync automatic processes to complete (they happen once every hour). If its still not avialable, then again contact your friendly cloud developer and kindly ask they restart the pod running the OWS web application."
   ]
  }
 ],
 "metadata": {
  "kernelspec": {
   "display_name": "Python 3 (ipykernel)",
   "language": "python",
   "name": "python3"
  },
  "language_info": {
   "codemirror_mode": {
    "name": "ipython",
    "version": 3
   },
   "file_extension": ".py",
   "mimetype": "text/x-python",
   "name": "python",
   "nbconvert_exporter": "python",
   "pygments_lexer": "ipython3",
   "version": "3.8.10"
  }
 },
 "nbformat": 4,
 "nbformat_minor": 4
}
