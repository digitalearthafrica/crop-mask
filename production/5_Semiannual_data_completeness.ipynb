{
 "cells": [
  {
   "cell_type": "markdown",
   "metadata": {},
   "source": [
    "# Check the completeness of 2019 Semiannul geomeidian data"
   ]
  },
  {
   "cell_type": "code",
   "execution_count": 1,
   "metadata": {},
   "outputs": [],
   "source": [
    "import pandas as pd\n",
    "import boto3\n",
    "from botocore import UNSIGNED\n",
    "from botocore.config import Config\n",
    "import re"
   ]
  },
  {
   "cell_type": "code",
   "execution_count": 2,
   "metadata": {},
   "outputs": [],
   "source": [
    "s3 = boto3.resource('s3', config=Config(signature_version=UNSIGNED))"
   ]
  },
  {
   "cell_type": "code",
   "execution_count": 3,
   "metadata": {},
   "outputs": [],
   "source": [
    "bkt = s3.Bucket('deafrica-data-dev-af')"
   ]
  },
  {
   "cell_type": "code",
   "execution_count": 4,
   "metadata": {},
   "outputs": [],
   "source": [
    "objs = [o for o in bkt.objects.filter(Prefix='gm_s2_semiannual/0-1-0/')]"
   ]
  },
  {
   "cell_type": "code",
   "execution_count": 5,
   "metadata": {},
   "outputs": [
    {
     "data": {
      "text/plain": [
       "139292"
      ]
     },
     "execution_count": 5,
     "metadata": {},
     "output_type": "execute_result"
    }
   ],
   "source": [
    "len(objs)"
   ]
  },
  {
   "cell_type": "markdown",
   "metadata": {},
   "source": [
    "## Failed task according to grafana\n",
    "```\n",
    "\t2021-04-09 01:53:19\tip-10-85-41-136.af-south-1.compute.internalstats-gm-semiannual-v49kr\t\n",
    "{\"log\":\"[2021-04-08 15:53:19,178] {_cli_run.py:157} INFO - Skipped task #74: x207/y103/2019-07--P6M eabcdd59-c236-5860-b608-767181235798\n",
    "\",\"stream\":\"stdout\"}\n",
    "\t\n",
    "2021-04-09 01:53:19\tip-10-85-41-136.af-south-1.compute.internalstats-gm-semiannual-v49kr\t\n",
    "{\"log\":\"[2021-04-08 15:53:19,172] {proc.py:185} INFO - Skipped task @ s3://deafrica-data-dev-af/gm_s2_semiannual/0-1-0/x207/y103/2019-07--P6M/gm_s2_semiannual_x207y103_2019-07--P6M.json\n",
    "\",\"stream\":\"stdout\"}\n",
    "\t\n",
    "2021-04-09 01:53:19\tip-10-85-41-136.af-south-1.compute.internalstats-gm-semiannual-v49kr\t\n",
    "{\"log\":\"[2021-04-08 15:53:19,144] {proc.py:174} INFO - Starting processing of x207/y103/2019-07--P6M\n",
    "\",\"stream\":\"stdout\"}\n",
    "\t\n",
    "2021-04-09 01:53:04\tip-10-85-81-129.af-south-1.compute.internalstats-gm-semiannual-pgxgq\t\n",
    "{\"log\":\"[2021-04-08 15:53:04,292] {_cli_run.py:163} ERROR - Failed task #69: x207/y103/2019-07--P6M eabcdd59-c236-5860-b608-767181235798\n",
    "\",\"stream\":\"stdout\"}\n",
    "\t\n",
    "2021-04-09 01:53:04\tip-10-85-81-129.af-south-1.compute.internalstats-gm-semiannual-pgxgq\t\n",
    "{\"log\":\"[2021-04-08 15:53:04,235] {proc.py:162} ERROR - Error during processing of x207/y103/2019-07--P6M Timed out trying to connect to 'inproc://10.85.86.166/1/1' after 10 s: Timed out trying to connect to 'inproc://10.85.86.166/1/1' after 10 s: connect() didn't finish in time\n",
    "\",\"stream\":\"stdout\"}\n",
    "\t\n",
    "2021-04-09 01:45:53\tip-10-85-81-129.af-south-1.compute.internalstats-gm-semiannual-pgxgq\t\n",
    "{\"log\":\"[2021-04-08 15:45:53,761] {proc.py:174} INFO - Starting processing of x207/y103/2019-07--P6M\n",
    "\",\"stream\":\"stdout\"}Show context\n",
    "```"
   ]
  },
  {
   "cell_type": "code",
   "execution_count": 6,
   "metadata": {},
   "outputs": [],
   "source": [
    "df = pd.read_csv('../testing/eastern_cropmask/data/s2_l2a_all.csv')"
   ]
  },
  {
   "cell_type": "code",
   "execution_count": 7,
   "metadata": {},
   "outputs": [],
   "source": [
    "df2019 = df[df['T'].apply(lambda T: T.startswith('2019'))]"
   ]
  },
  {
   "cell_type": "code",
   "execution_count": 8,
   "metadata": {},
   "outputs": [
    {
     "data": {
      "text/html": [
       "<div>\n",
       "<style scoped>\n",
       "    .dataframe tbody tr th:only-of-type {\n",
       "        vertical-align: middle;\n",
       "    }\n",
       "\n",
       "    .dataframe tbody tr th {\n",
       "        vertical-align: top;\n",
       "    }\n",
       "\n",
       "    .dataframe thead th {\n",
       "        text-align: right;\n",
       "    }\n",
       "</style>\n",
       "<table border=\"1\" class=\"dataframe\">\n",
       "  <thead>\n",
       "    <tr style=\"text-align: right;\">\n",
       "      <th></th>\n",
       "      <th>T</th>\n",
       "      <th>X</th>\n",
       "      <th>Y</th>\n",
       "      <th>datasets</th>\n",
       "      <th>days</th>\n",
       "    </tr>\n",
       "  </thead>\n",
       "  <tbody>\n",
       "    <tr>\n",
       "      <th>17599</th>\n",
       "      <td>2019-01--P6M</td>\n",
       "      <td>153</td>\n",
       "      <td>98</td>\n",
       "      <td>36</td>\n",
       "      <td>36</td>\n",
       "    </tr>\n",
       "    <tr>\n",
       "      <th>17600</th>\n",
       "      <td>2019-01--P6M</td>\n",
       "      <td>153</td>\n",
       "      <td>99</td>\n",
       "      <td>74</td>\n",
       "      <td>36</td>\n",
       "    </tr>\n",
       "    <tr>\n",
       "      <th>17601</th>\n",
       "      <td>2019-01--P6M</td>\n",
       "      <td>153</td>\n",
       "      <td>100</td>\n",
       "      <td>36</td>\n",
       "      <td>36</td>\n",
       "    </tr>\n",
       "    <tr>\n",
       "      <th>17602</th>\n",
       "      <td>2019-01--P6M</td>\n",
       "      <td>154</td>\n",
       "      <td>95</td>\n",
       "      <td>4</td>\n",
       "      <td>2</td>\n",
       "    </tr>\n",
       "    <tr>\n",
       "      <th>17603</th>\n",
       "      <td>2019-01--P6M</td>\n",
       "      <td>154</td>\n",
       "      <td>96</td>\n",
       "      <td>52</td>\n",
       "      <td>36</td>\n",
       "    </tr>\n",
       "  </tbody>\n",
       "</table>\n",
       "</div>"
      ],
      "text/plain": [
       "                  T    X    Y  datasets  days\n",
       "17599  2019-01--P6M  153   98        36    36\n",
       "17600  2019-01--P6M  153   99        74    36\n",
       "17601  2019-01--P6M  153  100        36    36\n",
       "17602  2019-01--P6M  154   95         4     2\n",
       "17603  2019-01--P6M  154   96        52    36"
      ]
     },
     "execution_count": 8,
     "metadata": {},
     "output_type": "execute_result"
    }
   ],
   "source": [
    "df2019.head()"
   ]
  },
  {
   "cell_type": "code",
   "execution_count": 9,
   "metadata": {},
   "outputs": [
    {
     "data": {
      "text/plain": [
       "8727"
      ]
     },
     "execution_count": 9,
     "metadata": {},
     "output_type": "execute_result"
    }
   ],
   "source": [
    "len(df2019)"
   ]
  },
  {
   "cell_type": "code",
   "execution_count": 10,
   "metadata": {},
   "outputs": [],
   "source": [
    "m = re.compile(r'x\\d{3}/y\\d{3}')"
   ]
  },
  {
   "cell_type": "code",
   "execution_count": 11,
   "metadata": {},
   "outputs": [],
   "source": [
    "jsons = [o for o in objs if o.key.endswith('json') and m.search(o.key)]"
   ]
  },
  {
   "cell_type": "code",
   "execution_count": 12,
   "metadata": {},
   "outputs": [
    {
     "data": {
      "text/plain": [
       "8705"
      ]
     },
     "execution_count": 12,
     "metadata": {},
     "output_type": "execute_result"
    }
   ],
   "source": [
    "len(jsons)"
   ]
  },
  {
   "cell_type": "code",
   "execution_count": 14,
   "metadata": {},
   "outputs": [
    {
     "data": {
      "text/plain": [
       "22"
      ]
     },
     "execution_count": 14,
     "metadata": {},
     "output_type": "execute_result"
    }
   ],
   "source": [
    "len(df2019) - len(jsons)"
   ]
  },
  {
   "cell_type": "code",
   "execution_count": 35,
   "metadata": {},
   "outputs": [
    {
     "data": {
      "text/plain": [
       "[s3.ObjectSummary(bucket_name='deafrica-data-dev-af', key='gm_s2_semiannual/0-1-0/x153/y098/2019-01--P6M/gm_s2_semiannual_x153y098_2019-01--P6M.json'),\n",
       " s3.ObjectSummary(bucket_name='deafrica-data-dev-af', key='gm_s2_semiannual/0-1-0/x153/y098/2019-07--P6M/gm_s2_semiannual_x153y098_2019-07--P6M.json'),\n",
       " s3.ObjectSummary(bucket_name='deafrica-data-dev-af', key='gm_s2_semiannual/0-1-0/x153/y099/2019-01--P6M/gm_s2_semiannual_x153y099_2019-01--P6M.json'),\n",
       " s3.ObjectSummary(bucket_name='deafrica-data-dev-af', key='gm_s2_semiannual/0-1-0/x153/y099/2019-07--P6M/gm_s2_semiannual_x153y099_2019-07--P6M.json'),\n",
       " s3.ObjectSummary(bucket_name='deafrica-data-dev-af', key='gm_s2_semiannual/0-1-0/x153/y100/2019-01--P6M/gm_s2_semiannual_x153y100_2019-01--P6M.json'),\n",
       " s3.ObjectSummary(bucket_name='deafrica-data-dev-af', key='gm_s2_semiannual/0-1-0/x153/y100/2019-07--P6M/gm_s2_semiannual_x153y100_2019-07--P6M.json'),\n",
       " s3.ObjectSummary(bucket_name='deafrica-data-dev-af', key='gm_s2_semiannual/0-1-0/x154/y095/2019-01--P6M/gm_s2_semiannual_x154y095_2019-01--P6M.json'),\n",
       " s3.ObjectSummary(bucket_name='deafrica-data-dev-af', key='gm_s2_semiannual/0-1-0/x154/y095/2019-07--P6M/gm_s2_semiannual_x154y095_2019-07--P6M.json'),\n",
       " s3.ObjectSummary(bucket_name='deafrica-data-dev-af', key='gm_s2_semiannual/0-1-0/x154/y096/2019-01--P6M/gm_s2_semiannual_x154y096_2019-01--P6M.json'),\n",
       " s3.ObjectSummary(bucket_name='deafrica-data-dev-af', key='gm_s2_semiannual/0-1-0/x154/y096/2019-07--P6M/gm_s2_semiannual_x154y096_2019-07--P6M.json'),\n",
       " s3.ObjectSummary(bucket_name='deafrica-data-dev-af', key='gm_s2_semiannual/0-1-0/x154/y097/2019-01--P6M/gm_s2_semiannual_x154y097_2019-01--P6M.json'),\n",
       " s3.ObjectSummary(bucket_name='deafrica-data-dev-af', key='gm_s2_semiannual/0-1-0/x154/y097/2019-07--P6M/gm_s2_semiannual_x154y097_2019-07--P6M.json'),\n",
       " s3.ObjectSummary(bucket_name='deafrica-data-dev-af', key='gm_s2_semiannual/0-1-0/x154/y098/2019-01--P6M/gm_s2_semiannual_x154y098_2019-01--P6M.json'),\n",
       " s3.ObjectSummary(bucket_name='deafrica-data-dev-af', key='gm_s2_semiannual/0-1-0/x154/y098/2019-07--P6M/gm_s2_semiannual_x154y098_2019-07--P6M.json'),\n",
       " s3.ObjectSummary(bucket_name='deafrica-data-dev-af', key='gm_s2_semiannual/0-1-0/x154/y099/2019-01--P6M/gm_s2_semiannual_x154y099_2019-01--P6M.json')]"
      ]
     },
     "execution_count": 35,
     "metadata": {},
     "output_type": "execute_result"
    }
   ],
   "source": [
    "jsons[:15]"
   ]
  },
  {
   "cell_type": "code",
   "execution_count": 36,
   "metadata": {},
   "outputs": [],
   "source": [
    "from collections import defaultdict"
   ]
  },
  {
   "cell_type": "code",
   "execution_count": 43,
   "metadata": {},
   "outputs": [],
   "source": [
    "key_m = re.compile(r'x\\d{3}/y\\d{3}/2019-\\d{2}--P6M')\n",
    "check_dict = defaultdict(list)\n",
    "\n",
    "for o in objs:\n",
    "    groups = key_m.search(o.key)\n",
    "    if groups:\n",
    "        check_dict[groups[0]].append(o)\n",
    "        "
   ]
  },
  {
   "cell_type": "code",
   "execution_count": 44,
   "metadata": {},
   "outputs": [
    {
     "data": {
      "text/plain": [
       "'x246/y051/2019-07--P6M'"
      ]
     },
     "execution_count": 44,
     "metadata": {},
     "output_type": "execute_result"
    }
   ],
   "source": [
    "groups[0]"
   ]
  },
  {
   "cell_type": "code",
   "execution_count": 45,
   "metadata": {},
   "outputs": [
    {
     "data": {
      "text/plain": [
       "8705"
      ]
     },
     "execution_count": 45,
     "metadata": {},
     "output_type": "execute_result"
    }
   ],
   "source": [
    "len(check_dict)"
   ]
  },
  {
   "cell_type": "code",
   "execution_count": 46,
   "metadata": {},
   "outputs": [
    {
     "data": {
      "text/plain": [
       "[s3.ObjectSummary(bucket_name='deafrica-data-dev-af', key='gm_s2_semiannual/0-1-0/x246/y051/2019-07--P6M/gm_s2_semiannual_x246y051_2019-07--P6M.json'),\n",
       " s3.ObjectSummary(bucket_name='deafrica-data-dev-af', key='gm_s2_semiannual/0-1-0/x246/y051/2019-07--P6M/gm_s2_semiannual_x246y051_2019-07--P6M_B02.tif'),\n",
       " s3.ObjectSummary(bucket_name='deafrica-data-dev-af', key='gm_s2_semiannual/0-1-0/x246/y051/2019-07--P6M/gm_s2_semiannual_x246y051_2019-07--P6M_B03.tif'),\n",
       " s3.ObjectSummary(bucket_name='deafrica-data-dev-af', key='gm_s2_semiannual/0-1-0/x246/y051/2019-07--P6M/gm_s2_semiannual_x246y051_2019-07--P6M_B04.tif'),\n",
       " s3.ObjectSummary(bucket_name='deafrica-data-dev-af', key='gm_s2_semiannual/0-1-0/x246/y051/2019-07--P6M/gm_s2_semiannual_x246y051_2019-07--P6M_B05.tif'),\n",
       " s3.ObjectSummary(bucket_name='deafrica-data-dev-af', key='gm_s2_semiannual/0-1-0/x246/y051/2019-07--P6M/gm_s2_semiannual_x246y051_2019-07--P6M_B06.tif'),\n",
       " s3.ObjectSummary(bucket_name='deafrica-data-dev-af', key='gm_s2_semiannual/0-1-0/x246/y051/2019-07--P6M/gm_s2_semiannual_x246y051_2019-07--P6M_B07.tif'),\n",
       " s3.ObjectSummary(bucket_name='deafrica-data-dev-af', key='gm_s2_semiannual/0-1-0/x246/y051/2019-07--P6M/gm_s2_semiannual_x246y051_2019-07--P6M_B08.tif'),\n",
       " s3.ObjectSummary(bucket_name='deafrica-data-dev-af', key='gm_s2_semiannual/0-1-0/x246/y051/2019-07--P6M/gm_s2_semiannual_x246y051_2019-07--P6M_B11.tif'),\n",
       " s3.ObjectSummary(bucket_name='deafrica-data-dev-af', key='gm_s2_semiannual/0-1-0/x246/y051/2019-07--P6M/gm_s2_semiannual_x246y051_2019-07--P6M_B12.tif'),\n",
       " s3.ObjectSummary(bucket_name='deafrica-data-dev-af', key='gm_s2_semiannual/0-1-0/x246/y051/2019-07--P6M/gm_s2_semiannual_x246y051_2019-07--P6M_B8A.tif'),\n",
       " s3.ObjectSummary(bucket_name='deafrica-data-dev-af', key='gm_s2_semiannual/0-1-0/x246/y051/2019-07--P6M/gm_s2_semiannual_x246y051_2019-07--P6M_BCMAD.tif'),\n",
       " s3.ObjectSummary(bucket_name='deafrica-data-dev-af', key='gm_s2_semiannual/0-1-0/x246/y051/2019-07--P6M/gm_s2_semiannual_x246y051_2019-07--P6M_COUNT.tif'),\n",
       " s3.ObjectSummary(bucket_name='deafrica-data-dev-af', key='gm_s2_semiannual/0-1-0/x246/y051/2019-07--P6M/gm_s2_semiannual_x246y051_2019-07--P6M_EMAD.tif'),\n",
       " s3.ObjectSummary(bucket_name='deafrica-data-dev-af', key='gm_s2_semiannual/0-1-0/x246/y051/2019-07--P6M/gm_s2_semiannual_x246y051_2019-07--P6M_SMAD.tif'),\n",
       " s3.ObjectSummary(bucket_name='deafrica-data-dev-af', key='gm_s2_semiannual/0-1-0/x246/y051/2019-07--P6M/gm_s2_semiannual_x246y051_2019-07--P6M_rgba.tif')]"
      ]
     },
     "execution_count": 46,
     "metadata": {},
     "output_type": "execute_result"
    }
   ],
   "source": [
    "check_dict[groups[0]]"
   ]
  },
  {
   "cell_type": "code",
   "execution_count": 47,
   "metadata": {},
   "outputs": [
    {
     "data": {
      "text/plain": [
       "16"
      ]
     },
     "execution_count": 47,
     "metadata": {},
     "output_type": "execute_result"
    }
   ],
   "source": [
    "len(check_dict[groups[0]])"
   ]
  },
  {
   "cell_type": "code",
   "execution_count": 48,
   "metadata": {},
   "outputs": [],
   "source": [
    "for key in check_dict:\n",
    "    assert len(check_dict[key]) == 16"
   ]
  },
  {
   "cell_type": "code",
   "execution_count": 51,
   "metadata": {},
   "outputs": [
    {
     "data": {
      "text/html": [
       "<div>\n",
       "<style scoped>\n",
       "    .dataframe tbody tr th:only-of-type {\n",
       "        vertical-align: middle;\n",
       "    }\n",
       "\n",
       "    .dataframe tbody tr th {\n",
       "        vertical-align: top;\n",
       "    }\n",
       "\n",
       "    .dataframe thead th {\n",
       "        text-align: right;\n",
       "    }\n",
       "</style>\n",
       "<table border=\"1\" class=\"dataframe\">\n",
       "  <thead>\n",
       "    <tr style=\"text-align: right;\">\n",
       "      <th></th>\n",
       "      <th>X</th>\n",
       "      <th>Y</th>\n",
       "      <th>T</th>\n",
       "    </tr>\n",
       "  </thead>\n",
       "  <tbody>\n",
       "    <tr>\n",
       "      <th>17599</th>\n",
       "      <td>153</td>\n",
       "      <td>98</td>\n",
       "      <td>2019-01--P6M</td>\n",
       "    </tr>\n",
       "    <tr>\n",
       "      <th>17600</th>\n",
       "      <td>153</td>\n",
       "      <td>99</td>\n",
       "      <td>2019-01--P6M</td>\n",
       "    </tr>\n",
       "    <tr>\n",
       "      <th>17601</th>\n",
       "      <td>153</td>\n",
       "      <td>100</td>\n",
       "      <td>2019-01--P6M</td>\n",
       "    </tr>\n",
       "    <tr>\n",
       "      <th>17602</th>\n",
       "      <td>154</td>\n",
       "      <td>95</td>\n",
       "      <td>2019-01--P6M</td>\n",
       "    </tr>\n",
       "    <tr>\n",
       "      <th>17603</th>\n",
       "      <td>154</td>\n",
       "      <td>96</td>\n",
       "      <td>2019-01--P6M</td>\n",
       "    </tr>\n",
       "    <tr>\n",
       "      <th>...</th>\n",
       "      <td>...</td>\n",
       "      <td>...</td>\n",
       "      <td>...</td>\n",
       "    </tr>\n",
       "    <tr>\n",
       "      <th>26321</th>\n",
       "      <td>244</td>\n",
       "      <td>51</td>\n",
       "      <td>2019-07--P6M</td>\n",
       "    </tr>\n",
       "    <tr>\n",
       "      <th>26322</th>\n",
       "      <td>245</td>\n",
       "      <td>50</td>\n",
       "      <td>2019-07--P6M</td>\n",
       "    </tr>\n",
       "    <tr>\n",
       "      <th>26323</th>\n",
       "      <td>245</td>\n",
       "      <td>51</td>\n",
       "      <td>2019-07--P6M</td>\n",
       "    </tr>\n",
       "    <tr>\n",
       "      <th>26324</th>\n",
       "      <td>246</td>\n",
       "      <td>50</td>\n",
       "      <td>2019-07--P6M</td>\n",
       "    </tr>\n",
       "    <tr>\n",
       "      <th>26325</th>\n",
       "      <td>246</td>\n",
       "      <td>51</td>\n",
       "      <td>2019-07--P6M</td>\n",
       "    </tr>\n",
       "  </tbody>\n",
       "</table>\n",
       "<p>8727 rows × 3 columns</p>\n",
       "</div>"
      ],
      "text/plain": [
       "         X    Y             T\n",
       "17599  153   98  2019-01--P6M\n",
       "17600  153   99  2019-01--P6M\n",
       "17601  153  100  2019-01--P6M\n",
       "17602  154   95  2019-01--P6M\n",
       "17603  154   96  2019-01--P6M\n",
       "...    ...  ...           ...\n",
       "26321  244   51  2019-07--P6M\n",
       "26322  245   50  2019-07--P6M\n",
       "26323  245   51  2019-07--P6M\n",
       "26324  246   50  2019-07--P6M\n",
       "26325  246   51  2019-07--P6M\n",
       "\n",
       "[8727 rows x 3 columns]"
      ]
     },
     "execution_count": 51,
     "metadata": {},
     "output_type": "execute_result"
    }
   ],
   "source": [
    "df2019[['X', 'Y', 'T']]"
   ]
  },
  {
   "cell_type": "code",
   "execution_count": 58,
   "metadata": {},
   "outputs": [],
   "source": [
    "missing = []\n",
    "\n",
    "for row in df2019.itertuples():\n",
    "    fake_key = f'x{row.X:03d}/y{row.Y:03d}/{row.T}'\n",
    "    if fake_key not in check_dict:\n",
    "        missing.append((row.Index, fake_key))"
   ]
  },
  {
   "cell_type": "code",
   "execution_count": 59,
   "metadata": {},
   "outputs": [
    {
     "data": {
      "text/plain": [
       "Pandas(Index=26325, T='2019-07--P6M', X=246, Y=51, datasets=62, days=35)"
      ]
     },
     "execution_count": 59,
     "metadata": {},
     "output_type": "execute_result"
    }
   ],
   "source": [
    "row"
   ]
  },
  {
   "cell_type": "code",
   "execution_count": 62,
   "metadata": {},
   "outputs": [],
   "source": [
    "indices_miss = sorted([row[0] for row in missing])"
   ]
  },
  {
   "cell_type": "code",
   "execution_count": 70,
   "metadata": {},
   "outputs": [],
   "source": [
    "task_indices = []\n",
    "\n",
    "start = indices_miss[0]\n",
    "\n",
    "for a, b in zip(indices_miss[:-1], indices_miss[1:]):\n",
    "    if b - a > 1:\n",
    "        task_indices.append((start, a+1))\n",
    "        start = b\n",
    "        \n",
    "if start <= indices_miss[-1]:\n",
    "    task_indices.append((start, indices_miss[-1]+1))\n",
    "        "
   ]
  },
  {
   "cell_type": "code",
   "execution_count": 71,
   "metadata": {},
   "outputs": [
    {
     "data": {
      "text/plain": [
       "[(18184, 18186),\n",
       " (18229, 18234),\n",
       " (18276, 18280),\n",
       " (22542, 22544),\n",
       " (22587, 22592),\n",
       " (22634, 22638)]"
      ]
     },
     "execution_count": 71,
     "metadata": {},
     "output_type": "execute_result"
    }
   ],
   "source": [
    "task_indices"
   ]
  },
  {
   "cell_type": "code",
   "execution_count": 69,
   "metadata": {},
   "outputs": [
    {
     "data": {
      "text/plain": [
       "[18184,\n",
       " 18185,\n",
       " 18229,\n",
       " 18230,\n",
       " 18231,\n",
       " 18232,\n",
       " 18233,\n",
       " 18276,\n",
       " 18277,\n",
       " 18278,\n",
       " 18279,\n",
       " 22542,\n",
       " 22543,\n",
       " 22587,\n",
       " 22588,\n",
       " 22589,\n",
       " 22590,\n",
       " 22591,\n",
       " 22634,\n",
       " 22635,\n",
       " 22636,\n",
       " 22637]"
      ]
     },
     "execution_count": 69,
     "metadata": {},
     "output_type": "execute_result"
    }
   ],
   "source": [
    "indices_miss"
   ]
  },
  {
   "cell_type": "code",
   "execution_count": 73,
   "metadata": {},
   "outputs": [
    {
     "data": {
      "text/plain": [
       "[(18184, 'x177/y060/2019-01--P6M'),\n",
       " (18185, 'x177/y061/2019-01--P6M'),\n",
       " (18229, 'x178/y057/2019-01--P6M'),\n",
       " (18230, 'x178/y058/2019-01--P6M'),\n",
       " (18231, 'x178/y059/2019-01--P6M'),\n",
       " (18232, 'x178/y060/2019-01--P6M'),\n",
       " (18233, 'x178/y061/2019-01--P6M'),\n",
       " (18276, 'x179/y058/2019-01--P6M'),\n",
       " (18277, 'x179/y059/2019-01--P6M'),\n",
       " (18278, 'x179/y060/2019-01--P6M'),\n",
       " (18279, 'x179/y061/2019-01--P6M'),\n",
       " (22542, 'x177/y060/2019-07--P6M'),\n",
       " (22543, 'x177/y061/2019-07--P6M'),\n",
       " (22587, 'x178/y057/2019-07--P6M'),\n",
       " (22588, 'x178/y058/2019-07--P6M'),\n",
       " (22589, 'x178/y059/2019-07--P6M'),\n",
       " (22590, 'x178/y060/2019-07--P6M'),\n",
       " (22591, 'x178/y061/2019-07--P6M'),\n",
       " (22634, 'x179/y058/2019-07--P6M'),\n",
       " (22635, 'x179/y059/2019-07--P6M'),\n",
       " (22636, 'x179/y060/2019-07--P6M'),\n",
       " (22637, 'x179/y061/2019-07--P6M')]"
      ]
     },
     "execution_count": 73,
     "metadata": {},
     "output_type": "execute_result"
    }
   ],
   "source": [
    "missing"
   ]
  },
  {
   "cell_type": "code",
   "execution_count": 87,
   "metadata": {},
   "outputs": [],
   "source": [
    "lines = \"\"\"\n",
    "2021-04-09 15:40:11\tip-10-85-99-15.af-south-1.compute.internalstats-gm-semiannual-chks9\t\n",
    "{\"log\":\"[2021-04-09 05:40:11,062] {_rio.py:202} ERROR - Error opening source dataset: s3://deafrica-sentinel-2/sentinel-s2-l2a-cogs/30/L/XK/2019/4/S2B_30LXK_20190419_0_L2A/B12.tif\n",
    "\",\"stream\":\"stdout\"}\n",
    "\t\n",
    "2021-04-09 15:40:11\tip-10-85-99-15.af-south-1.compute.internalstats-gm-semiannual-chks9\t\n",
    "{\"log\":\"[2021-04-09 05:40:11,055] {_rio.py:202} ERROR - Error opening source dataset: s3://deafrica-sentinel-2/sentinel-s2-l2a-cogs/30/L/XK/2019/6/S2B_30LXK_20190628_0_L2A/B12.tif\n",
    "\",\"stream\":\"stdout\"}\n",
    "\t\n",
    "2021-04-09 15:40:11\tip-10-85-99-15.af-south-1.compute.internalstats-gm-semiannual-chks9\t\n",
    "{\"log\":\"[2021-04-09 05:40:11,046] {_rio.py:202} ERROR - Error opening source dataset: s3://deafrica-sentinel-2/sentinel-s2-l2a-cogs/30/L/XK/2019/6/S2B_30LXK_20190608_0_L2A/B12.tif\n",
    "\",\"stream\":\"stdout\"}\n",
    "\t\n",
    "2021-04-09 15:40:11\tip-10-85-99-15.af-south-1.compute.internalstats-gm-semiannual-chks9\t\n",
    "{\"log\":\"[2021-04-09 05:40:11,037] {_rio.py:202} ERROR - Error opening source dataset: s3://deafrica-sentinel-2/sentinel-s2-l2a-cogs/30/L/XK/2019/6/S2B_30LXK_20190618_0_L2A/B12.tif\n",
    "\",\"stream\":\"stdout\"}\n",
    "\t\n",
    "2021-04-09 15:40:11\tip-10-85-99-15.af-south-1.compute.internalstats-gm-semiannual-chks9\t\n",
    "{\"log\":\"[2021-04-09 05:40:11,036] {_rio.py:202} ERROR - Error opening source dataset: s3://deafrica-sentinel-2/sentinel-s2-l2a-cogs/30/L/XK/2019/4/S2B_30LXK_20190409_0_L2A/B12.tif\n",
    "\",\"stream\":\"stdout\"}\n",
    "\t\n",
    "2021-04-09 15:40:11\tip-10-85-99-15.af-south-1.compute.internalstats-gm-semiannual-chks9\t\n",
    "{\"log\":\"[2021-04-09 05:40:11,024] {_rio.py:202} ERROR - Error opening source dataset: s3://deafrica-sentinel-2/sentinel-s2-l2a-cogs/30/L/XK/2019/5/S2B_30LXK_20190509_0_L2A/B12.tif\n",
    "\",\"stream\":\"stdout\"}\n",
    "\t\n",
    "2021-04-09 15:40:11\tip-10-85-99-15.af-south-1.compute.internalstats-gm-semiannual-chks9\t\n",
    "{\"log\":\"[2021-04-09 05:40:11,014] {_rio.py:202} ERROR - Error opening source dataset: s3://deafrica-sentinel-2/sentinel-s2-l2a-cogs/30/L/XK/2019/5/S2B_30LXK_20190519_0_L2A/B12.tif\n",
    "\",\"stream\":\"stdout\"}\n",
    "\t\n",
    "2021-04-09 15:40:11\tip-10-85-99-15.af-south-1.compute.internalstats-gm-semiannual-chks9\t\n",
    "{\"log\":\"[2021-04-09 05:40:11,013] {proc.py:162} ERROR - Error during processing of x179/y058/2019-01--P6M '/vsis3/deafrica-sentinel-2/sentinel-s2-l2a-cogs/30/L/XK/2019/3/S2B_30LXK_20190330_0_L2A/SCL.tif' not recognized as a supported file format.\n",
    "\",\"stream\":\"stdout\"}\n",
    "\t\n",
    "2021-04-09 15:40:11\tip-10-85-99-15.af-south-1.compute.internalstats-gm-semiannual-chks9\t\n",
    "{\"log\":\"[2021-04-09 05:40:11,004] {_rio.py:202} ERROR - Error opening source dataset: s3://deafrica-sentinel-2/sentinel-s2-l2a-cogs/30/L/XK/2019/5/S2B_30LXK_20190529_0_L2A/B12.tif\n",
    "\",\"stream\":\"stdout\"}\n",
    "\t\n",
    "2021-04-09 15:40:11\tip-10-85-99-15.af-south-1.compute.internalstats-gm-semiannual-chks9\t\n",
    "{\"log\":\"[2021-04-09 05:40:10,994] {_rio.py:202} ERROR - Error opening source dataset: s3://deafrica-sentinel-2/sentinel-s2-l2a-cogs/30/L/XK/2019/4/S2B_30LXK_20190429_0_L2A/B12.tif\n",
    "\",\"stream\":\"stdout\"}\n",
    "\t\n",
    "2021-04-09 15:40:11\tip-10-85-99-15.af-south-1.compute.internalstats-gm-semiannual-chks9\t\n",
    "{\"log\":\"[2021-04-09 05:40:10,976] {_rio.py:202} ERROR - Error opening source dataset: s3://deafrica-sentinel-2/sentinel-s2-l2a-cogs/30/L/XK/2019/2/S2B_30LXK_20190208_0_L2A/B12.tif\n",
    "\",\"stream\":\"stdout\"}\n",
    "\t\n",
    "2021-04-09 15:40:11\tip-10-85-99-15.af-south-1.compute.internalstats-gm-semiannual-chks9\t\n",
    "{\"log\":\"[2021-04-09 05:40:10,976] {_rio.py:202} ERROR - Error opening source dataset: s3://deafrica-sentinel-2/sentinel-s2-l2a-cogs/30/L/XK/2019/3/S2B_30LXK_20190330_0_L2A/B12.tif\n",
    "\",\"stream\":\"stdout\"}\n",
    "\t\n",
    "2021-04-09 15:40:11\tip-10-85-99-15.af-south-1.compute.internalstats-gm-semiannual-chks9\t\n",
    "{\"log\":\"[2021-04-09 05:40:10,969] {_rio.py:202} ERROR - Error opening source dataset: s3://deafrica-sentinel-2/sentinel-s2-l2a-cogs/30/L/XK/2019/2/S2B_30LXK_20190228_0_L2A/B12.tif\n",
    "\",\"stream\":\"stdout\"}\n",
    "\t\n",
    "2021-04-09 15:40:11\tip-10-85-99-15.af-south-1.compute.internalstats-gm-semiannual-chks9\t\n",
    "{\"log\":\"[2021-04-09 05:40:10,969] {_rio.py:202} ERROR - Error opening source dataset: s3://deafrica-sentinel-2/sentinel-s2-l2a-cogs/30/L/XK/2019/6/S2B_30LXK_20190608_0_L2A/B11.tif\n",
    "\",\"stream\":\"stdout\"}\n",
    "\t\n",
    "2021-04-09 15:40:11\tip-10-85-99-15.af-south-1.compute.internalstats-gm-semiannual-chks9\t\n",
    "{\"log\":\"[2021-04-09 05:40:10,955] {_rio.py:202} ERROR - Error opening source dataset: s3://deafrica-sentinel-2/sentinel-s2-l2a-cogs/30/L/XK/2019/3/S2B_30LXK_20190320_0_L2A/B12.tif\n",
    "\",\"stream\":\"stdout\"}\n",
    "\t\n",
    "2021-04-09 15:40:11\tip-10-85-99-15.af-south-1.compute.internalstats-gm-semiannual-chks9\t\n",
    "{\"log\":\"[2021-04-09 05:40:10,954] {_rio.py:202} ERROR - Error opening source dataset: s3://deafrica-sentinel-2/sentinel-s2-l2a-cogs/30/L/XK/2019/6/S2B_30LXK_20190618_0_L2A/B11.tif\n",
    "\",\"stream\":\"stdout\"}\n",
    "\t\n",
    "2021-04-09 15:40:11\tip-10-85-99-15.af-south-1.compute.internalstats-gm-semiannual-chks9\t\n",
    "{\"log\":\"[2021-04-09 05:40:10,952] {_rio.py:202} ERROR - Error opening source dataset: s3://deafrica-sentinel-2/sentinel-s2-l2a-cogs/30/L/XK/2019/2/S2B_30LXK_20190218_0_L2A/B12.tif\n",
    "\",\"stream\":\"stdout\"}\n",
    "\t\n",
    "2021-04-09 15:40:11\tip-10-85-99-15.af-south-1.compute.internalstats-gm-semiannual-chks9\t\n",
    "{\"log\":\"[2021-04-09 05:40:10,945] {_rio.py:202} ERROR - Error opening source dataset: s3://deafrica-sentinel-2/sentinel-s2-l2a-cogs/30/L/XK/2019/6/S2B_30LXK_20190628_0_L2A/B11.tif\n",
    "\",\"stream\":\"stdout\"}\n",
    "\t\n",
    "2021-04-09 15:40:11\tip-10-85-99-15.af-south-1.compute.internalstats-gm-semiannual-chks9\t\n",
    "{\"log\":\"[2021-04-09 05:40:10,945] {_rio.py:202} ERROR - Error opening source dataset: s3://deafrica-sentinel-2/sentinel-s2-l2a-cogs/30/L/XK/2019/1/S2B_30LXK_20190119_0_L2A/B12.tif\n",
    "\",\"stream\":\"stdout\"}\n",
    "\t\n",
    "2021-04-09 15:40:11\tip-10-85-99-15.af-south-1.compute.internalstats-gm-semiannual-chks9\t\n",
    "{\"log\":\"[2021-04-09 05:40:10,938] {_rio.py:202} ERROR - Error opening source dataset: s3://deafrica-sentinel-2/sentinel-s2-l2a-cogs/30/L/XK/2019/1/S2B_30LXK_20190109_0_L2A/B12.tif\n",
    "\",\"stream\":\"stdout\"}\n",
    "\t\n",
    "2021-04-09 15:40:11\tip-10-85-99-15.af-south-1.compute.internalstats-gm-semiannual-chks9\t\n",
    "{\"log\":\"[2021-04-09 05:40:10,932] {_rio.py:202} ERROR - Error opening source dataset: s3://deafrica-sentinel-2/sentinel-s2-l2a-cogs/30/L/XK/2019/1/S2B_30LXK_20190129_0_L2A/B12.tif\n",
    "\",\"stream\":\"stdout\"}\n",
    "\t\n",
    "2021-04-09 15:40:11\tip-10-85-99-15.af-south-1.compute.internalstats-gm-semiannual-chks9\t\n",
    "{\"log\":\"[2021-04-09 05:40:10,920] {_rio.py:202} ERROR - Error opening source dataset: s3://deafrica-sentinel-2/sentinel-s2-l2a-cogs/30/L/XK/2019/5/S2B_30LXK_20190529_0_L2A/B11.tif\n",
    "\",\"stream\":\"stdout\"}\n",
    "\t\n",
    "2021-04-09 15:40:11\tip-10-85-99-15.af-south-1.compute.internalstats-gm-semiannual-chks9\t\n",
    "{\"log\":\"[2021-04-09 05:40:10,919] {_rio.py:202} ERROR - Error opening source dataset: s3://deafrica-sentinel-2/sentinel-s2-l2a-cogs/30/L/XK/2019/2/S2B_30LXK_20190228_0_L2A/B11.tif\n",
    "\",\"stream\":\"stdout\"}\n",
    "\t\n",
    "2021-04-09 15:40:11\tip-10-85-99-15.af-south-1.compute.internalstats-gm-semiannual-chks9\t\n",
    "{\"log\":\"[2021-04-09 05:40:10,916] {_rio.py:202} ERROR - Error opening source dataset: s3://deafrica-sentinel-2/sentinel-s2-l2a-cogs/30/L/XK/2019/5/S2B_30LXK_20190519_0_L2A/B11.tif\n",
    "\",\"stream\":\"stdout\"}\n",
    "\t\n",
    "2021-04-09 15:40:11\tip-10-85-99-15.af-south-1.compute.internalstats-gm-semiannual-chks9\t\n",
    "{\"log\":\"[2021-04-09 05:40:10,906] {_rio.py:202} ERROR - Error opening source dataset: s3://deafrica-sentinel-2/sentinel-s2-l2a-cogs/30/L/XK/2019/1/S2B_30LXK_20190119_0_L2A/B11.tif\n",
    "\",\"stream\":\"stdout\"}\n",
    "\t\n",
    "2021-04-09 15:40:11\tip-10-85-99-15.af-south-1.compute.internalstats-gm-semiannual-chks9\t\n",
    "{\"log\":\"[2021-04-09 05:40:10,906] {_rio.py:202} ERROR - Error opening source dataset: s3://deafrica-sentinel-2/sentinel-s2-l2a-cogs/30/L/XK/2019/1/S2B_30LXK_20190129_0_L2A/B11.tif\n",
    "\",\"stream\":\"stdout\"}\n",
    "\t\n",
    "2021-04-09 15:40:11\tip-10-85-99-15.af-south-1.compute.internalstats-gm-semiannual-chks9\t\n",
    "{\"log\":\"[2021-04-09 05:40:10,906] {_rio.py:202} ERROR - Error opening source dataset: s3://deafrica-sentinel-2/sentinel-s2-l2a-cogs/30/L/XK/2019/4/S2B_30LXK_20190429_0_L2A/B11.tif\n",
    "\",\"stream\":\"stdout\"}\n",
    "\t\n",
    "2021-04-09 15:40:11\tip-10-85-99-15.af-south-1.compute.internalstats-gm-semiannual-chks9\t\n",
    "{\"log\":\"[2021-04-09 05:40:10,902] {_rio.py:202} ERROR - Error opening source dataset: s3://deafrica-sentinel-2/sentinel-s2-l2a-cogs/30/L/XK/2019/4/S2B_30LXK_20190409_0_L2A/B11.tif\n",
    "\",\"stream\":\"stdout\"}\n",
    "\t\n",
    "2021-04-09 15:40:11\tip-10-85-99-15.af-south-1.compute.internalstats-gm-semiannual-chks9\t\n",
    "{\"log\":\"[2021-04-09 05:40:10,901] {_rio.py:202} ERROR - Error opening source dataset: s3://deafrica-sentinel-2/sentinel-s2-l2a-cogs/30/L/XK/2019/3/S2B_30LXK_20190320_0_L2A/B11.tif\n",
    "\",\"stream\":\"stdout\"}\n",
    "\t\n",
    "2021-04-09 15:40:11\tip-10-85-99-15.af-south-1.compute.internalstats-gm-semiannual-chks9\t\n",
    "{\"log\":\"[2021-04-09 05:40:10,894] {_rio.py:202} ERROR - Error opening source dataset: s3://deafrica-sentinel-2/sentinel-s2-l2a-cogs/30/L/XK/2019/3/S2B_30LXK_20190330_0_L2A/B11.tif\n",
    "\",\"stream\":\"stdout\"}\n",
    "\t\n",
    "2021-04-09 15:40:11\tip-10-85-99-15.af-south-1.compute.internalstats-gm-semiannual-chks9\t\n",
    "{\"log\":\"[2021-04-09 05:40:10,883] {_rio.py:202} ERROR - Error opening source dataset: s3://deafrica-sentinel-2/sentinel-s2-l2a-cogs/30/L/XK/2019/6/S2B_30LXK_20190618_0_L2A/B8A.tif\n",
    "\",\"stream\":\"stdout\"}\n",
    "\t\n",
    "2021-04-09 15:40:11\tip-10-85-99-15.af-south-1.compute.internalstats-gm-semiannual-chks9\t\n",
    "{\"log\":\"[2021-04-09 05:40:10,881] {_rio.py:202} ERROR - Error opening source dataset: s3://deafrica-sentinel-2/sentinel-s2-l2a-cogs/30/L/XK/2019/4/S2B_30LXK_20190419_0_L2A/B11.tif\n",
    "\",\"stream\":\"stdout\"}\n",
    "\t\n",
    "2021-04-09 15:40:11\tip-10-85-99-15.af-south-1.compute.internalstats-gm-semiannual-chks9\t\n",
    "{\"log\":\"[2021-04-09 05:40:10,881] {_rio.py:202} ERROR - Error opening source dataset: s3://deafrica-sentinel-2/sentinel-s2-l2a-cogs/30/L/XK/2019/4/S2B_30LXK_20190429_0_L2A/B8A.tif\n",
    "\",\"stream\":\"stdout\"}\n",
    "\t\n",
    "2021-04-09 15:40:11\tip-10-85-99-15.af-south-1.compute.internalstats-gm-semiannual-chks9\t\n",
    "{\"log\":\"[2021-04-09 05:40:10,881] {_rio.py:202} ERROR - Error opening source dataset: s3://deafrica-sentinel-2/sentinel-s2-l2a-cogs/30/L/XK/2019/5/S2B_30LXK_20190529_0_L2A/B8A.tif\n",
    "\",\"stream\":\"stdout\"}\n",
    "\t\n",
    "2021-04-09 15:40:11\tip-10-85-99-15.af-south-1.compute.internalstats-gm-semiannual-chks9\t\n",
    "{\"log\":\"[2021-04-09 05:40:10,881] {_rio.py:202} ERROR - Error opening source dataset: s3://deafrica-sentinel-2/sentinel-s2-l2a-cogs/30/L/XK/2019/1/S2B_30LXK_20190109_0_L2A/B11.tif\n",
    "\",\"stream\":\"stdout\"}\n",
    "\t\n",
    "2021-04-09 15:40:11\tip-10-85-99-15.af-south-1.compute.internalstats-gm-semiannual-chks9\t\n",
    "{\"log\":\"[2021-04-09 05:40:10,872] {_rio.py:202} ERROR - Error opening source dataset: s3://deafrica-sentinel-2/sentinel-s2-l2a-cogs/30/L/XK/2019/6/S2B_30LXK_20190628_0_L2A/B8A.tif\n",
    "\",\"stream\":\"stdout\"}\n",
    "\t\n",
    "2021-04-09 15:40:11\tip-10-85-99-15.af-south-1.compute.internalstats-gm-semiannual-chks9\t\n",
    "{\"log\":\"[2021-04-09 05:40:10,872] {_rio.py:202} ERROR - Error opening source dataset: s3://deafrica-sentinel-2/sentinel-s2-l2a-cogs/30/L/XK/2019/3/S2B_30LXK_20190330_0_L2A/B8A.tif\n",
    "\",\"stream\":\"stdout\"}\n",
    "\t\n",
    "2021-04-09 15:40:11\tip-10-85-99-15.af-south-1.compute.internalstats-gm-semiannual-chks9\t\n",
    "{\"log\":\"[2021-04-09 05:40:10,871] {_rio.py:202} ERROR - Error opening source dataset: s3://deafrica-sentinel-2/sentinel-s2-l2a-cogs/30/L/XK/2019/2/S2B_30LXK_20190208_0_L2A/B11.tif\n",
    "\",\"stream\":\"stdout\"}\n",
    "\t\n",
    "2021-04-09 15:40:11\tip-10-85-99-15.af-south-1.compute.internalstats-gm-semiannual-chks9\t\n",
    "{\"log\":\"[2021-04-09 05:40:10,871] {_rio.py:202} ERROR - Error opening source dataset: s3://deafrica-sentinel-2/sentinel-s2-l2a-cogs/30/L/XK/2019/2/S2B_30LXK_20190218_0_L2A/B11.tif\n",
    "\",\"stream\":\"stdout\"}\n",
    "\t\n",
    "2021-04-09 15:40:11\tip-10-85-99-15.af-south-1.compute.internalstats-gm-semiannual-chks9\t\n",
    "{\"log\":\"[2021-04-09 05:40:10,871] {_rio.py:202} ERROR - Error opening source dataset: s3://deafrica-sentinel-2/sentinel-s2-l2a-cogs/30/L/XK/2019/3/S2B_30LXK_20190320_0_L2A/B8A.tif\n",
    "\",\"stream\":\"stdout\"}\n",
    "\t\n",
    "2021-04-09 15:40:11\tip-10-85-99-15.af-south-1.compute.internalstats-gm-semiannual-chks9\t\n",
    "{\"log\":\"[2021-04-09 05:40:10,870] {_rio.py:202} ERROR - Error opening source dataset: s3://deafrica-sentinel-2/sentinel-s2-l2a-cogs/30/L/XK/2019/1/S2B_30LXK_20190129_0_L2A/B8A.tif\n",
    "\",\"stream\":\"stdout\"}\n",
    "\t\n",
    "2021-04-09 15:40:11\tip-10-85-99-15.af-south-1.compute.internalstats-gm-semiannual-chks9\t\n",
    "{\"log\":\"[2021-04-09 05:40:10,870] {_rio.py:202} ERROR - Error opening source dataset: s3://deafrica-sentinel-2/sentinel-s2-l2a-cogs/30/L/XK/2019/5/S2B_30LXK_20190509_0_L2A/B8A.tif\n",
    "\",\"stream\":\"stdout\"}\n",
    "\t\n",
    "2021-04-09 15:40:11\tip-10-85-99-15.af-south-1.compute.internalstats-gm-semiannual-chks9\t\n",
    "{\"log\":\"[2021-04-09 05:40:10,869] {_rio.py:202} ERROR - Error opening source dataset: s3://deafrica-sentinel-2/sentinel-s2-l2a-cogs/30/L/XK/2019/4/S2B_30LXK_20190409_0_L2A/B8A.tif\n",
    "\",\"stream\":\"stdout\"}\n",
    "\t\n",
    "2021-04-09 15:40:11\tip-10-85-99-15.af-south-1.compute.internalstats-gm-semiannual-chks9\t\n",
    "{\"log\":\"[2021-04-09 05:40:10,869] {_rio.py:202} ERROR - Error opening source dataset: s3://deafrica-sentinel-2/sentinel-s2-l2a-cogs/30/L/XK/2019/2/S2B_30LXK_20190228_0_L2A/B8A.tif\n",
    "\",\"stream\":\"stdout\"}\n",
    "\t\n",
    "2021-04-09 15:40:11\tip-10-85-99-15.af-south-1.compute.internalstats-gm-semiannual-chks9\t\n",
    "{\"log\":\"[2021-04-09 05:40:10,869] {_rio.py:202} ERROR - Error opening source dataset: s3://deafrica-sentinel-2/sentinel-s2-l2a-cogs/30/L/XK/2019/6/S2B_30LXK_20190608_0_L2A/B8A.tif\n",
    "\",\"stream\":\"stdout\"}\n",
    "\t\n",
    "2021-04-09 15:40:11\tip-10-85-99-15.af-south-1.compute.internalstats-gm-semiannual-chks9\t\n",
    "{\"log\":\"[2021-04-09 05:40:10,868] {_rio.py:202} ERROR - Error opening source dataset: s3://deafrica-sentinel-2/sentinel-s2-l2a-cogs/30/L/XK/2019/5/S2B_30LXK_20190519_0_L2A/B8A.tif\n",
    "\",\"stream\":\"stdout\"}\n",
    "\t\n",
    "2021-04-09 15:40:11\tip-10-85-99-15.af-south-1.compute.internalstats-gm-semiannual-chks9\t\n",
    "{\"log\":\"[2021-04-09 05:40:10,863] {_rio.py:202} ERROR - Error opening source dataset: s3://deafrica-sentinel-2/sentinel-s2-l2a-cogs/30/L/XK/2019/4/S2B_30LXK_20190419_0_L2A/B8A.tif\n",
    "\",\"stream\":\"stdout\"}\n",
    "\t\n",
    "2021-04-09 15:40:11\tip-10-85-99-15.af-south-1.compute.internalstats-gm-semiannual-chks9\t\n",
    "{\"log\":\"[2021-04-09 05:40:10,862] {_rio.py:202} ERROR - Error opening source dataset: s3://deafrica-sentinel-2/sentinel-s2-l2a-cogs/30/L/XK/2019/2/S2B_30LXK_20190218_0_L2A/B8A.tif\n",
    "\",\"stream\":\"stdout\"}\n",
    "\t\n",
    "2021-04-09 15:40:11\tip-10-85-99-15.af-south-1.compute.internalstats-gm-semiannual-chks9\t\n",
    "{\"log\":\"[2021-04-09 05:40:10,855] {_rio.py:202} ERROR - Error opening source dataset: s3://deafrica-sentinel-2/sentinel-s2-l2a-cogs/30/L/XK/2019/5/S2B_30LXK_20190509_0_L2A/B08.tif\n",
    "\",\"stream\":\"stdout\"}\n",
    "\t\n",
    "2021-04-09 15:40:11\tip-10-85-99-15.af-south-1.compute.internalstats-gm-semiannual-chks9\t\n",
    "{\"log\":\"[2021-04-09 05:40:10,854] {_rio.py:202} ERROR - Error opening source dataset: s3://deafrica-sentinel-2/sentinel-s2-l2a-cogs/30/L/XK/2019/6/S2B_30LXK_20190608_0_L2A/B08.tif\n",
    "\",\"stream\":\"stdout\"}\n",
    "\t\n",
    "2021-04-09 15:40:11\tip-10-85-99-15.af-south-1.compute.internalstats-gm-semiannual-chks9\t\n",
    "{\"log\":\"[2021-04-09 05:40:10,850] {_rio.py:202} ERROR - Error opening source dataset: s3://deafrica-sentinel-2/sentinel-s2-l2a-cogs/30/L/XK/2019/5/S2B_30LXK_20190529_0_L2A/B08.tif\n",
    "\",\"stream\":\"stdout\"}\n",
    "\t\n",
    "2021-04-09 15:40:11\tip-10-85-99-15.af-south-1.compute.internalstats-gm-semiannual-chks9\t\n",
    "{\"log\":\"[2021-04-09 05:40:10,845] {_rio.py:202} ERROR - Error opening source dataset: s3://deafrica-sentinel-2/sentinel-s2-l2a-cogs/30/L/XK/2019/6/S2B_30LXK_20190618_0_L2A/B08.tif\n",
    "\",\"stream\":\"stdout\"}\n",
    "\t\n",
    "2021-04-09 15:40:11\tip-10-85-99-15.af-south-1.compute.internalstats-gm-semiannual-chks9\t\n",
    "{\"log\":\"[2021-04-09 05:40:10,837] {_rio.py:202} ERROR - Error opening source dataset: s3://deafrica-sentinel-2/sentinel-s2-l2a-cogs/30/L/XK/2019/1/S2B_30LXK_20190119_0_L2A/B8A.tif\n",
    "\",\"stream\":\"stdout\"}\n",
    "\t\n",
    "2021-04-09 15:40:11\tip-10-85-99-15.af-south-1.compute.internalstats-gm-semiannual-chks9\t\n",
    "{\"log\":\"[2021-04-09 05:40:10,836] {_rio.py:202} ERROR - Error opening source dataset: s3://deafrica-sentinel-2/sentinel-s2-l2a-cogs/30/L/XK/2019/2/S2B_30LXK_20190228_0_L2A/B08.tif\n",
    "\",\"stream\":\"stdout\"}\n",
    "\t\n",
    "2021-04-09 15:40:11\tip-10-85-99-15.af-south-1.compute.internalstats-gm-semiannual-chks9\t\n",
    "{\"log\":\"[2021-04-09 05:40:10,834] {_rio.py:202} ERROR - Error opening source dataset: s3://deafrica-sentinel-2/sentinel-s2-l2a-cogs/30/L/XK/2019/6/S2B_30LXK_20190628_0_L2A/B08.tif\n",
    "\",\"stream\":\"stdout\"}\n",
    "\t\n",
    "2021-04-09 15:40:11\tip-10-85-99-15.af-south-1.compute.internalstats-gm-semiannual-chks9\t\n",
    "{\"log\":\"[2021-04-09 05:40:10,827] {_rio.py:202} ERROR - Error opening source dataset: s3://deafrica-sentinel-2/sentinel-s2-l2a-cogs/30/L/XK/2019/2/S2B_30LXK_20190208_0_L2A/B8A.tif\n",
    "\",\"stream\":\"stdout\"}\n",
    "\"\"\""
   ]
  },
  {
   "cell_type": "code",
   "execution_count": 88,
   "metadata": {},
   "outputs": [],
   "source": [
    "lines = [l.strip() for l in lines.split('\\n') if l.strip() and 'log' in l.strip()]"
   ]
  },
  {
   "cell_type": "code",
   "execution_count": 89,
   "metadata": {},
   "outputs": [
    {
     "data": {
      "text/plain": [
       "56"
      ]
     },
     "execution_count": 89,
     "metadata": {},
     "output_type": "execute_result"
    }
   ],
   "source": [
    "len(lines)"
   ]
  },
  {
   "cell_type": "code",
   "execution_count": 90,
   "metadata": {},
   "outputs": [
    {
     "data": {
      "text/plain": [
       "['{\"log\":\"[2021-04-09 05:40:11,062] {_rio.py:202} ERROR - Error opening source dataset: s3://deafrica-sentinel-2/sentinel-s2-l2a-cogs/30/L/XK/2019/4/S2B_30LXK_20190419_0_L2A/B12.tif',\n",
       " '{\"log\":\"[2021-04-09 05:40:11,055] {_rio.py:202} ERROR - Error opening source dataset: s3://deafrica-sentinel-2/sentinel-s2-l2a-cogs/30/L/XK/2019/6/S2B_30LXK_20190628_0_L2A/B12.tif',\n",
       " '{\"log\":\"[2021-04-09 05:40:11,046] {_rio.py:202} ERROR - Error opening source dataset: s3://deafrica-sentinel-2/sentinel-s2-l2a-cogs/30/L/XK/2019/6/S2B_30LXK_20190608_0_L2A/B12.tif',\n",
       " '{\"log\":\"[2021-04-09 05:40:11,037] {_rio.py:202} ERROR - Error opening source dataset: s3://deafrica-sentinel-2/sentinel-s2-l2a-cogs/30/L/XK/2019/6/S2B_30LXK_20190618_0_L2A/B12.tif',\n",
       " '{\"log\":\"[2021-04-09 05:40:11,036] {_rio.py:202} ERROR - Error opening source dataset: s3://deafrica-sentinel-2/sentinel-s2-l2a-cogs/30/L/XK/2019/4/S2B_30LXK_20190409_0_L2A/B12.tif',\n",
       " '{\"log\":\"[2021-04-09 05:40:11,024] {_rio.py:202} ERROR - Error opening source dataset: s3://deafrica-sentinel-2/sentinel-s2-l2a-cogs/30/L/XK/2019/5/S2B_30LXK_20190509_0_L2A/B12.tif',\n",
       " '{\"log\":\"[2021-04-09 05:40:11,014] {_rio.py:202} ERROR - Error opening source dataset: s3://deafrica-sentinel-2/sentinel-s2-l2a-cogs/30/L/XK/2019/5/S2B_30LXK_20190519_0_L2A/B12.tif',\n",
       " '{\"log\":\"[2021-04-09 05:40:11,013] {proc.py:162} ERROR - Error during processing of x179/y058/2019-01--P6M \\'/vsis3/deafrica-sentinel-2/sentinel-s2-l2a-cogs/30/L/XK/2019/3/S2B_30LXK_20190330_0_L2A/SCL.tif\\' not recognized as a supported file format.',\n",
       " '{\"log\":\"[2021-04-09 05:40:11,004] {_rio.py:202} ERROR - Error opening source dataset: s3://deafrica-sentinel-2/sentinel-s2-l2a-cogs/30/L/XK/2019/5/S2B_30LXK_20190529_0_L2A/B12.tif',\n",
       " '{\"log\":\"[2021-04-09 05:40:10,994] {_rio.py:202} ERROR - Error opening source dataset: s3://deafrica-sentinel-2/sentinel-s2-l2a-cogs/30/L/XK/2019/4/S2B_30LXK_20190429_0_L2A/B12.tif',\n",
       " '{\"log\":\"[2021-04-09 05:40:10,976] {_rio.py:202} ERROR - Error opening source dataset: s3://deafrica-sentinel-2/sentinel-s2-l2a-cogs/30/L/XK/2019/2/S2B_30LXK_20190208_0_L2A/B12.tif',\n",
       " '{\"log\":\"[2021-04-09 05:40:10,976] {_rio.py:202} ERROR - Error opening source dataset: s3://deafrica-sentinel-2/sentinel-s2-l2a-cogs/30/L/XK/2019/3/S2B_30LXK_20190330_0_L2A/B12.tif',\n",
       " '{\"log\":\"[2021-04-09 05:40:10,969] {_rio.py:202} ERROR - Error opening source dataset: s3://deafrica-sentinel-2/sentinel-s2-l2a-cogs/30/L/XK/2019/2/S2B_30LXK_20190228_0_L2A/B12.tif',\n",
       " '{\"log\":\"[2021-04-09 05:40:10,969] {_rio.py:202} ERROR - Error opening source dataset: s3://deafrica-sentinel-2/sentinel-s2-l2a-cogs/30/L/XK/2019/6/S2B_30LXK_20190608_0_L2A/B11.tif',\n",
       " '{\"log\":\"[2021-04-09 05:40:10,955] {_rio.py:202} ERROR - Error opening source dataset: s3://deafrica-sentinel-2/sentinel-s2-l2a-cogs/30/L/XK/2019/3/S2B_30LXK_20190320_0_L2A/B12.tif',\n",
       " '{\"log\":\"[2021-04-09 05:40:10,954] {_rio.py:202} ERROR - Error opening source dataset: s3://deafrica-sentinel-2/sentinel-s2-l2a-cogs/30/L/XK/2019/6/S2B_30LXK_20190618_0_L2A/B11.tif',\n",
       " '{\"log\":\"[2021-04-09 05:40:10,952] {_rio.py:202} ERROR - Error opening source dataset: s3://deafrica-sentinel-2/sentinel-s2-l2a-cogs/30/L/XK/2019/2/S2B_30LXK_20190218_0_L2A/B12.tif',\n",
       " '{\"log\":\"[2021-04-09 05:40:10,945] {_rio.py:202} ERROR - Error opening source dataset: s3://deafrica-sentinel-2/sentinel-s2-l2a-cogs/30/L/XK/2019/6/S2B_30LXK_20190628_0_L2A/B11.tif',\n",
       " '{\"log\":\"[2021-04-09 05:40:10,945] {_rio.py:202} ERROR - Error opening source dataset: s3://deafrica-sentinel-2/sentinel-s2-l2a-cogs/30/L/XK/2019/1/S2B_30LXK_20190119_0_L2A/B12.tif',\n",
       " '{\"log\":\"[2021-04-09 05:40:10,938] {_rio.py:202} ERROR - Error opening source dataset: s3://deafrica-sentinel-2/sentinel-s2-l2a-cogs/30/L/XK/2019/1/S2B_30LXK_20190109_0_L2A/B12.tif',\n",
       " '{\"log\":\"[2021-04-09 05:40:10,932] {_rio.py:202} ERROR - Error opening source dataset: s3://deafrica-sentinel-2/sentinel-s2-l2a-cogs/30/L/XK/2019/1/S2B_30LXK_20190129_0_L2A/B12.tif',\n",
       " '{\"log\":\"[2021-04-09 05:40:10,920] {_rio.py:202} ERROR - Error opening source dataset: s3://deafrica-sentinel-2/sentinel-s2-l2a-cogs/30/L/XK/2019/5/S2B_30LXK_20190529_0_L2A/B11.tif',\n",
       " '{\"log\":\"[2021-04-09 05:40:10,919] {_rio.py:202} ERROR - Error opening source dataset: s3://deafrica-sentinel-2/sentinel-s2-l2a-cogs/30/L/XK/2019/2/S2B_30LXK_20190228_0_L2A/B11.tif',\n",
       " '{\"log\":\"[2021-04-09 05:40:10,916] {_rio.py:202} ERROR - Error opening source dataset: s3://deafrica-sentinel-2/sentinel-s2-l2a-cogs/30/L/XK/2019/5/S2B_30LXK_20190519_0_L2A/B11.tif',\n",
       " '{\"log\":\"[2021-04-09 05:40:10,906] {_rio.py:202} ERROR - Error opening source dataset: s3://deafrica-sentinel-2/sentinel-s2-l2a-cogs/30/L/XK/2019/1/S2B_30LXK_20190119_0_L2A/B11.tif',\n",
       " '{\"log\":\"[2021-04-09 05:40:10,906] {_rio.py:202} ERROR - Error opening source dataset: s3://deafrica-sentinel-2/sentinel-s2-l2a-cogs/30/L/XK/2019/1/S2B_30LXK_20190129_0_L2A/B11.tif',\n",
       " '{\"log\":\"[2021-04-09 05:40:10,906] {_rio.py:202} ERROR - Error opening source dataset: s3://deafrica-sentinel-2/sentinel-s2-l2a-cogs/30/L/XK/2019/4/S2B_30LXK_20190429_0_L2A/B11.tif',\n",
       " '{\"log\":\"[2021-04-09 05:40:10,902] {_rio.py:202} ERROR - Error opening source dataset: s3://deafrica-sentinel-2/sentinel-s2-l2a-cogs/30/L/XK/2019/4/S2B_30LXK_20190409_0_L2A/B11.tif',\n",
       " '{\"log\":\"[2021-04-09 05:40:10,901] {_rio.py:202} ERROR - Error opening source dataset: s3://deafrica-sentinel-2/sentinel-s2-l2a-cogs/30/L/XK/2019/3/S2B_30LXK_20190320_0_L2A/B11.tif',\n",
       " '{\"log\":\"[2021-04-09 05:40:10,894] {_rio.py:202} ERROR - Error opening source dataset: s3://deafrica-sentinel-2/sentinel-s2-l2a-cogs/30/L/XK/2019/3/S2B_30LXK_20190330_0_L2A/B11.tif',\n",
       " '{\"log\":\"[2021-04-09 05:40:10,883] {_rio.py:202} ERROR - Error opening source dataset: s3://deafrica-sentinel-2/sentinel-s2-l2a-cogs/30/L/XK/2019/6/S2B_30LXK_20190618_0_L2A/B8A.tif',\n",
       " '{\"log\":\"[2021-04-09 05:40:10,881] {_rio.py:202} ERROR - Error opening source dataset: s3://deafrica-sentinel-2/sentinel-s2-l2a-cogs/30/L/XK/2019/4/S2B_30LXK_20190419_0_L2A/B11.tif',\n",
       " '{\"log\":\"[2021-04-09 05:40:10,881] {_rio.py:202} ERROR - Error opening source dataset: s3://deafrica-sentinel-2/sentinel-s2-l2a-cogs/30/L/XK/2019/4/S2B_30LXK_20190429_0_L2A/B8A.tif',\n",
       " '{\"log\":\"[2021-04-09 05:40:10,881] {_rio.py:202} ERROR - Error opening source dataset: s3://deafrica-sentinel-2/sentinel-s2-l2a-cogs/30/L/XK/2019/5/S2B_30LXK_20190529_0_L2A/B8A.tif',\n",
       " '{\"log\":\"[2021-04-09 05:40:10,881] {_rio.py:202} ERROR - Error opening source dataset: s3://deafrica-sentinel-2/sentinel-s2-l2a-cogs/30/L/XK/2019/1/S2B_30LXK_20190109_0_L2A/B11.tif',\n",
       " '{\"log\":\"[2021-04-09 05:40:10,872] {_rio.py:202} ERROR - Error opening source dataset: s3://deafrica-sentinel-2/sentinel-s2-l2a-cogs/30/L/XK/2019/6/S2B_30LXK_20190628_0_L2A/B8A.tif',\n",
       " '{\"log\":\"[2021-04-09 05:40:10,872] {_rio.py:202} ERROR - Error opening source dataset: s3://deafrica-sentinel-2/sentinel-s2-l2a-cogs/30/L/XK/2019/3/S2B_30LXK_20190330_0_L2A/B8A.tif',\n",
       " '{\"log\":\"[2021-04-09 05:40:10,871] {_rio.py:202} ERROR - Error opening source dataset: s3://deafrica-sentinel-2/sentinel-s2-l2a-cogs/30/L/XK/2019/2/S2B_30LXK_20190208_0_L2A/B11.tif',\n",
       " '{\"log\":\"[2021-04-09 05:40:10,871] {_rio.py:202} ERROR - Error opening source dataset: s3://deafrica-sentinel-2/sentinel-s2-l2a-cogs/30/L/XK/2019/2/S2B_30LXK_20190218_0_L2A/B11.tif',\n",
       " '{\"log\":\"[2021-04-09 05:40:10,871] {_rio.py:202} ERROR - Error opening source dataset: s3://deafrica-sentinel-2/sentinel-s2-l2a-cogs/30/L/XK/2019/3/S2B_30LXK_20190320_0_L2A/B8A.tif',\n",
       " '{\"log\":\"[2021-04-09 05:40:10,870] {_rio.py:202} ERROR - Error opening source dataset: s3://deafrica-sentinel-2/sentinel-s2-l2a-cogs/30/L/XK/2019/1/S2B_30LXK_20190129_0_L2A/B8A.tif',\n",
       " '{\"log\":\"[2021-04-09 05:40:10,870] {_rio.py:202} ERROR - Error opening source dataset: s3://deafrica-sentinel-2/sentinel-s2-l2a-cogs/30/L/XK/2019/5/S2B_30LXK_20190509_0_L2A/B8A.tif',\n",
       " '{\"log\":\"[2021-04-09 05:40:10,869] {_rio.py:202} ERROR - Error opening source dataset: s3://deafrica-sentinel-2/sentinel-s2-l2a-cogs/30/L/XK/2019/4/S2B_30LXK_20190409_0_L2A/B8A.tif',\n",
       " '{\"log\":\"[2021-04-09 05:40:10,869] {_rio.py:202} ERROR - Error opening source dataset: s3://deafrica-sentinel-2/sentinel-s2-l2a-cogs/30/L/XK/2019/2/S2B_30LXK_20190228_0_L2A/B8A.tif',\n",
       " '{\"log\":\"[2021-04-09 05:40:10,869] {_rio.py:202} ERROR - Error opening source dataset: s3://deafrica-sentinel-2/sentinel-s2-l2a-cogs/30/L/XK/2019/6/S2B_30LXK_20190608_0_L2A/B8A.tif',\n",
       " '{\"log\":\"[2021-04-09 05:40:10,868] {_rio.py:202} ERROR - Error opening source dataset: s3://deafrica-sentinel-2/sentinel-s2-l2a-cogs/30/L/XK/2019/5/S2B_30LXK_20190519_0_L2A/B8A.tif',\n",
       " '{\"log\":\"[2021-04-09 05:40:10,863] {_rio.py:202} ERROR - Error opening source dataset: s3://deafrica-sentinel-2/sentinel-s2-l2a-cogs/30/L/XK/2019/4/S2B_30LXK_20190419_0_L2A/B8A.tif',\n",
       " '{\"log\":\"[2021-04-09 05:40:10,862] {_rio.py:202} ERROR - Error opening source dataset: s3://deafrica-sentinel-2/sentinel-s2-l2a-cogs/30/L/XK/2019/2/S2B_30LXK_20190218_0_L2A/B8A.tif',\n",
       " '{\"log\":\"[2021-04-09 05:40:10,855] {_rio.py:202} ERROR - Error opening source dataset: s3://deafrica-sentinel-2/sentinel-s2-l2a-cogs/30/L/XK/2019/5/S2B_30LXK_20190509_0_L2A/B08.tif',\n",
       " '{\"log\":\"[2021-04-09 05:40:10,854] {_rio.py:202} ERROR - Error opening source dataset: s3://deafrica-sentinel-2/sentinel-s2-l2a-cogs/30/L/XK/2019/6/S2B_30LXK_20190608_0_L2A/B08.tif',\n",
       " '{\"log\":\"[2021-04-09 05:40:10,850] {_rio.py:202} ERROR - Error opening source dataset: s3://deafrica-sentinel-2/sentinel-s2-l2a-cogs/30/L/XK/2019/5/S2B_30LXK_20190529_0_L2A/B08.tif',\n",
       " '{\"log\":\"[2021-04-09 05:40:10,845] {_rio.py:202} ERROR - Error opening source dataset: s3://deafrica-sentinel-2/sentinel-s2-l2a-cogs/30/L/XK/2019/6/S2B_30LXK_20190618_0_L2A/B08.tif',\n",
       " '{\"log\":\"[2021-04-09 05:40:10,837] {_rio.py:202} ERROR - Error opening source dataset: s3://deafrica-sentinel-2/sentinel-s2-l2a-cogs/30/L/XK/2019/1/S2B_30LXK_20190119_0_L2A/B8A.tif',\n",
       " '{\"log\":\"[2021-04-09 05:40:10,836] {_rio.py:202} ERROR - Error opening source dataset: s3://deafrica-sentinel-2/sentinel-s2-l2a-cogs/30/L/XK/2019/2/S2B_30LXK_20190228_0_L2A/B08.tif',\n",
       " '{\"log\":\"[2021-04-09 05:40:10,834] {_rio.py:202} ERROR - Error opening source dataset: s3://deafrica-sentinel-2/sentinel-s2-l2a-cogs/30/L/XK/2019/6/S2B_30LXK_20190628_0_L2A/B08.tif',\n",
       " '{\"log\":\"[2021-04-09 05:40:10,827] {_rio.py:202} ERROR - Error opening source dataset: s3://deafrica-sentinel-2/sentinel-s2-l2a-cogs/30/L/XK/2019/2/S2B_30LXK_20190208_0_L2A/B8A.tif']"
      ]
     },
     "execution_count": 90,
     "metadata": {},
     "output_type": "execute_result"
    }
   ],
   "source": [
    "lines"
   ]
  },
  {
   "cell_type": "code",
   "execution_count": 91,
   "metadata": {},
   "outputs": [],
   "source": [
    "dt_m = re.compile(r'\\d{8}')\n",
    "dt_dict = {}\n",
    "\n",
    "for l in lines:\n",
    "    dt_key = dt_m.search(l)[0]\n",
    "    dt_dict[dt_key] = l"
   ]
  },
  {
   "cell_type": "code",
   "execution_count": 92,
   "metadata": {},
   "outputs": [
    {
     "data": {
      "text/plain": [
       "[('20190109',\n",
       "  '{\"log\":\"[2021-04-09 05:40:10,881] {_rio.py:202} ERROR - Error opening source dataset: s3://deafrica-sentinel-2/sentinel-s2-l2a-cogs/30/L/XK/2019/1/S2B_30LXK_20190109_0_L2A/B11.tif'),\n",
       " ('20190119',\n",
       "  '{\"log\":\"[2021-04-09 05:40:10,837] {_rio.py:202} ERROR - Error opening source dataset: s3://deafrica-sentinel-2/sentinel-s2-l2a-cogs/30/L/XK/2019/1/S2B_30LXK_20190119_0_L2A/B8A.tif'),\n",
       " ('20190129',\n",
       "  '{\"log\":\"[2021-04-09 05:40:10,870] {_rio.py:202} ERROR - Error opening source dataset: s3://deafrica-sentinel-2/sentinel-s2-l2a-cogs/30/L/XK/2019/1/S2B_30LXK_20190129_0_L2A/B8A.tif'),\n",
       " ('20190208',\n",
       "  '{\"log\":\"[2021-04-09 05:40:10,827] {_rio.py:202} ERROR - Error opening source dataset: s3://deafrica-sentinel-2/sentinel-s2-l2a-cogs/30/L/XK/2019/2/S2B_30LXK_20190208_0_L2A/B8A.tif'),\n",
       " ('20190218',\n",
       "  '{\"log\":\"[2021-04-09 05:40:10,862] {_rio.py:202} ERROR - Error opening source dataset: s3://deafrica-sentinel-2/sentinel-s2-l2a-cogs/30/L/XK/2019/2/S2B_30LXK_20190218_0_L2A/B8A.tif'),\n",
       " ('20190228',\n",
       "  '{\"log\":\"[2021-04-09 05:40:10,836] {_rio.py:202} ERROR - Error opening source dataset: s3://deafrica-sentinel-2/sentinel-s2-l2a-cogs/30/L/XK/2019/2/S2B_30LXK_20190228_0_L2A/B08.tif'),\n",
       " ('20190320',\n",
       "  '{\"log\":\"[2021-04-09 05:40:10,871] {_rio.py:202} ERROR - Error opening source dataset: s3://deafrica-sentinel-2/sentinel-s2-l2a-cogs/30/L/XK/2019/3/S2B_30LXK_20190320_0_L2A/B8A.tif'),\n",
       " ('20190330',\n",
       "  '{\"log\":\"[2021-04-09 05:40:10,872] {_rio.py:202} ERROR - Error opening source dataset: s3://deafrica-sentinel-2/sentinel-s2-l2a-cogs/30/L/XK/2019/3/S2B_30LXK_20190330_0_L2A/B8A.tif'),\n",
       " ('20190409',\n",
       "  '{\"log\":\"[2021-04-09 05:40:10,869] {_rio.py:202} ERROR - Error opening source dataset: s3://deafrica-sentinel-2/sentinel-s2-l2a-cogs/30/L/XK/2019/4/S2B_30LXK_20190409_0_L2A/B8A.tif'),\n",
       " ('20190419',\n",
       "  '{\"log\":\"[2021-04-09 05:40:10,863] {_rio.py:202} ERROR - Error opening source dataset: s3://deafrica-sentinel-2/sentinel-s2-l2a-cogs/30/L/XK/2019/4/S2B_30LXK_20190419_0_L2A/B8A.tif'),\n",
       " ('20190429',\n",
       "  '{\"log\":\"[2021-04-09 05:40:10,881] {_rio.py:202} ERROR - Error opening source dataset: s3://deafrica-sentinel-2/sentinel-s2-l2a-cogs/30/L/XK/2019/4/S2B_30LXK_20190429_0_L2A/B8A.tif'),\n",
       " ('20190509',\n",
       "  '{\"log\":\"[2021-04-09 05:40:10,855] {_rio.py:202} ERROR - Error opening source dataset: s3://deafrica-sentinel-2/sentinel-s2-l2a-cogs/30/L/XK/2019/5/S2B_30LXK_20190509_0_L2A/B08.tif'),\n",
       " ('20190519',\n",
       "  '{\"log\":\"[2021-04-09 05:40:10,868] {_rio.py:202} ERROR - Error opening source dataset: s3://deafrica-sentinel-2/sentinel-s2-l2a-cogs/30/L/XK/2019/5/S2B_30LXK_20190519_0_L2A/B8A.tif'),\n",
       " ('20190529',\n",
       "  '{\"log\":\"[2021-04-09 05:40:10,850] {_rio.py:202} ERROR - Error opening source dataset: s3://deafrica-sentinel-2/sentinel-s2-l2a-cogs/30/L/XK/2019/5/S2B_30LXK_20190529_0_L2A/B08.tif'),\n",
       " ('20190608',\n",
       "  '{\"log\":\"[2021-04-09 05:40:10,854] {_rio.py:202} ERROR - Error opening source dataset: s3://deafrica-sentinel-2/sentinel-s2-l2a-cogs/30/L/XK/2019/6/S2B_30LXK_20190608_0_L2A/B08.tif'),\n",
       " ('20190618',\n",
       "  '{\"log\":\"[2021-04-09 05:40:10,845] {_rio.py:202} ERROR - Error opening source dataset: s3://deafrica-sentinel-2/sentinel-s2-l2a-cogs/30/L/XK/2019/6/S2B_30LXK_20190618_0_L2A/B08.tif'),\n",
       " ('20190628',\n",
       "  '{\"log\":\"[2021-04-09 05:40:10,834] {_rio.py:202} ERROR - Error opening source dataset: s3://deafrica-sentinel-2/sentinel-s2-l2a-cogs/30/L/XK/2019/6/S2B_30LXK_20190628_0_L2A/B08.tif')]"
      ]
     },
     "execution_count": 92,
     "metadata": {},
     "output_type": "execute_result"
    }
   ],
   "source": [
    "sorted(dt_dict.items())"
   ]
  },
  {
   "cell_type": "code",
   "execution_count": null,
   "metadata": {},
   "outputs": [],
   "source": []
  }
 ],
 "metadata": {
  "kernelspec": {
   "display_name": "Python 3",
   "language": "python",
   "name": "python3"
  },
  "language_info": {
   "codemirror_mode": {
    "name": "ipython",
    "version": 3
   },
   "file_extension": ".py",
   "mimetype": "text/x-python",
   "name": "python",
   "nbconvert_exporter": "python",
   "pygments_lexer": "ipython3",
   "version": "3.6.9"
  }
 },
 "nbformat": 4,
 "nbformat_minor": 4
}
