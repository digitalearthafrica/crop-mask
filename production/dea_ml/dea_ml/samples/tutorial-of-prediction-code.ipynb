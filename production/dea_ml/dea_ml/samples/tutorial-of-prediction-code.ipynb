{
 "cells": [
  {
   "cell_type": "markdown",
   "metadata": {},
   "source": [
    "# Prediction code sample\n",
    "\n",
    "- This is the code only run for estern Africa region\n",
    "\n",
    "## todo:\n",
    "\n",
    "1.  TODO: split function\n",
    "    - TODO: 1. feature layer prepare\n",
    "    - TODO: 2. prediction\n",
    "    - TODO: 3. post processing\n",
    "    \n",
    "2. add geojson and task json with static github url\n",
    "\n",
    "3. align dea_ml and deafrica_tools avoid duplicates.\n",
    "\n",
    "4. TODO: local run pipeline script\n",
    "\n",
    "5. TODO:docker run pipline -> k8s, docker image building test for k8s, add the yaml and other config into the crop-mask repo\n",
    "\n",
    "6. add one notebook on data prepare for the prediction to run\n",
    "\n",
    "7. add one notebook to explain configuration and stac files on s3. Explain how the odc-stats OutputProduct fit into the stac_transform function.\n",
    "\n",
    "8. (?) explain local files indexing. (Or leave it to core team's k8s stack."
   ]
  },
  {
   "cell_type": "code",
   "execution_count": 10,
   "metadata": {},
   "outputs": [
    {
     "name": "stderr",
     "output_type": "stream",
     "text": [
      "/usr/lib/python3.6/importlib/_bootstrap.py:219: RuntimeWarning: numpy.ufunc size changed, may indicate binary incompatibility. Expected 192 from C header, got 216 from PyObject\n",
      "  return f(*args, **kwds)\n",
      "/usr/lib/python3.6/importlib/_bootstrap.py:219: RuntimeWarning: numpy.ufunc size changed, may indicate binary incompatibility. Expected 192 from C header, got 216 from PyObject\n",
      "  return f(*args, **kwds)\n",
      "/usr/lib/python3.6/importlib/_bootstrap.py:219: RuntimeWarning: numpy.ufunc size changed, may indicate binary incompatibility. Expected 192 from C header, got 216 from PyObject\n",
      "  return f(*args, **kwds)\n"
     ]
    }
   ],
   "source": [
    "import glob\n",
    "import json\n",
    "import logging\n",
    "import math\n",
    "import os\n",
    "import os.path as osp\n",
    "import time\n",
    "\n",
    "import psutil\n",
    "from datacube.utils.dask import start_local_dask\n",
    "from odc.io.cgroups import get_cpu_quota, get_mem_quota\n",
    "from odc.stats._cli_common import setup_logging\n",
    "\n",
    "from dea_ml.core.merge_tifs_to_ds import PredictFromFeature\n",
    "from dea_ml.core.product_feature_config import FeaturePathConfig\n",
    "from distributed import Client, LocalCluster"
   ]
  },
  {
   "cell_type": "code",
   "execution_count": 11,
   "metadata": {},
   "outputs": [],
   "source": [
    "import json\n",
    "from typing import Dict, Tuple\n",
    "\n",
    "def geofeature_to_tileidx(feature: Dict) -> Tuple[int, int]:\n",
    "    title = feature[\"properties\"][\"title\"]\n",
    "    x_str, y_str = title.split(\",\")\n",
    "    return int(x_str), int(y_str)\n",
    "\n",
    "\n",
    "with open(\"/home/jovyan/wa/u23/crop-mask/eastern_cropmask/data/s2_tiles_eastern_aez.geojson\") as fhin:\n",
    "    raw = json.load(fhin)\n",
    "    tile_indicies = [geofeature_to_tileidx(feature) for feature in raw['features']]\n",
    "    tasks = [f'x{x:+04d}/y{y:+04d}' for x, y in tile_indicies]"
   ]
  },
  {
   "cell_type": "code",
   "execution_count": 12,
   "metadata": {},
   "outputs": [
    {
     "data": {
      "text/plain": [
       "['x+047/y+010', 'x+048/y+010']"
      ]
     },
     "execution_count": 12,
     "metadata": {},
     "output_type": "execute_result"
    }
   ],
   "source": [
    "tasks[-2:]"
   ]
  },
  {
   "cell_type": "code",
   "execution_count": 13,
   "metadata": {},
   "outputs": [
    {
     "ename": "SyntaxError",
     "evalue": "invalid syntax (<ipython-input-13-4ac874733eb0>, line 13)",
     "output_type": "error",
     "traceback": [
      "\u001b[0;36m  File \u001b[0;32m\"<ipython-input-13-4ac874733eb0>\"\u001b[0;36m, line \u001b[0;32m13\u001b[0m\n\u001b[0;31m    FeaturePathConfig.product.name,\u001b[0m\n\u001b[0m                    ^\u001b[0m\n\u001b[0;31mSyntaxError\u001b[0m\u001b[0;31m:\u001b[0m invalid syntax\n"
     ]
    }
   ],
   "source": [
    "\n",
    "setup_logging()\n",
    "\n",
    "_log = logging.getLogger(__name__)\n",
    "\n",
    "# nthreads = get_max_cpu()\n",
    "# memory_limit = get_max_mem()\n",
    "\n",
    "with open(\"/home/jovyan/wa/u23/notebooks/s2_tiles_eastern_aez_tasks.json\") as fhin:\n",
    "    tasks = json.load(fhin)\n",
    "\n",
    "output_fld = osp.join(\n",
    "    FeaturePathConfig.DATA_PATH,\n",
    "    FeaturePathConfig.product.name,\n",
    "    FeaturePathConfig.product.version,\n",
    ")\n",
    "\n",
    "\n",
    "# manually add tasks\n",
    "# tasks = [\"x+029/y+000/2019-P6M\", \"x+048/y+010\"]\n",
    "\n",
    "with LocalCluster() as cluster:\n",
    "    with Client(cluster) as client:\n",
    "        worker = PredictFromFeature(client=client)\n",
    "        for task in tasks:\n",
    "            tile_indx = \"/\".join(task.split(\"/\")[:2])\n",
    "\n",
    "            file_prefix = f\"{tile_indx}\"\n",
    "            output_path = osp.join(output_fld, file_prefix, \"*\")\n",
    "            if glob.glob(output_path):\n",
    "                _log.warning(f\"tile {output_path} is done already. Skipping...\")\n",
    "                continue\n",
    "            _log.info(f\"proessing tiles for task {output_path}.\")\n",
    "\n",
    "            t0 = time.time()\n",
    "            worker.run(task)\n",
    "            t1 = time.time()\n",
    "            wall_time = (t1 - t0) / 60\n",
    "            _log.info(f\"time used {wall_time:.4f}\")"
   ]
  },
  {
   "cell_type": "code",
   "execution_count": 1,
   "metadata": {},
   "outputs": [],
   "source": [
    "import sys\n",
    "\n",
    "sys.path.append('/home/jovyan/wa/u23/crop-mask/dea_ml')"
   ]
  },
  {
   "cell_type": "code",
   "execution_count": 2,
   "metadata": {},
   "outputs": [],
   "source": [
    "from dea_ml.core.product_feature_config import FeaturePathConfig"
   ]
  },
  {
   "cell_type": "code",
   "execution_count": 3,
   "metadata": {},
   "outputs": [],
   "source": [
    "cfg = FeaturePathConfig()"
   ]
  },
  {
   "cell_type": "code",
   "execution_count": 6,
   "metadata": {},
   "outputs": [
    {
     "data": {
      "text/plain": [
       "'/g/data/u23/data/'"
      ]
     },
     "execution_count": 6,
     "metadata": {},
     "output_type": "execute_result"
    }
   ],
   "source": [
    "cfg.DATA_PATH"
   ]
  },
  {
   "cell_type": "code",
   "execution_count": 7,
   "metadata": {},
   "outputs": [],
   "source": [
    "cfg.DATA_PATH = \"/tmp\""
   ]
  },
  {
   "cell_type": "code",
   "execution_count": 9,
   "metadata": {},
   "outputs": [
    {
     "data": {
      "text/plain": [
       "'/tmp'"
      ]
     },
     "execution_count": 9,
     "metadata": {},
     "output_type": "execute_result"
    }
   ],
   "source": [
    "cfg.DATA_PATH"
   ]
  },
  {
   "cell_type": "code",
   "execution_count": null,
   "metadata": {},
   "outputs": [],
   "source": [
    "aws s3 sync <local> s3://bucket/<prefix>"
   ]
  }
 ],
 "metadata": {
  "kernelspec": {
   "display_name": "Python 3",
   "language": "python",
   "name": "python3"
  },
  "language_info": {
   "codemirror_mode": {
    "name": "ipython",
    "version": 3
   },
   "file_extension": ".py",
   "mimetype": "text/x-python",
   "name": "python",
   "nbconvert_exporter": "python",
   "pygments_lexer": "ipython3",
   "version": "3.6.9"
  }
 },
 "nbformat": 4,
 "nbformat_minor": 4
}
