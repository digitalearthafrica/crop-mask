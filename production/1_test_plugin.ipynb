{
 "cells": [
  {
   "cell_type": "markdown",
   "metadata": {},
   "source": [
    "## Import libaries"
   ]
  },
  {
   "cell_type": "code",
   "execution_count": null,
   "metadata": {},
   "outputs": [],
   "source": [
    "!pip uninstall dea_ml -y"
   ]
  },
  {
   "cell_type": "code",
   "execution_count": null,
   "metadata": {},
   "outputs": [],
   "source": [
    "!pip install -e dea_ml\n",
    "# pip install git+https://github.com/digitalearthafrica/deafrica-sandbox-notebooks.git@minty-fresh-sandbox#subdirectory=Tools\n",
    "# !pip install git+https://github.com/digitalearthafrica/crop-mask/@feature/k8s-image-pipeline-tunning#subdirectory=production/dea_ml"
   ]
  },
  {
   "cell_type": "code",
   "execution_count": 1,
   "metadata": {},
   "outputs": [
    {
     "name": "stdout",
     "output_type": "stream",
     "text": [
      "/env/lib/python3.6/site-packages/geopandas/_compat.py:88: UserWarning: The Shapely GEOS version (3.7.2-CAPI-1.11.0 ) is incompatible with the GEOS version PyGEOS was compiled with (3.9.0-CAPI-1.16.2). Conversions between both will be slow.\n",
      "  shapely_geos_version, geos_capi_version_string\n",
      "[2021-05-12 04:26:29,506] {pred_run.py:150} INFO - Config overrides: {'filedb': 's3://deafrica-data-dev-af/crop_mask_eastern/0-1-0/gm_s2_semiannual_all.db', 'threads': 10, 'memory_limit': '80Gi', 'output_location': 'file:///home/jovyan/git/crop-mask/production/{product}/{version}'}\n",
      "[2021-05-12 04:26:29,506] {pred_run.py:167} INFO - Using this config: TaskRunnerConfig(filedb='s3://deafrica-data-dev-af/crop_mask_eastern/0-1-0/gm_s2_semiannual_all.db', aws_unsigned=True, plugin='pred-gm-s2', plugin_config={'chirps_paths': ['s3://deafrica-data-dev-af/crop_mask_references/rainfall/CHPclim_jan_jun_cumulative_rainfall.tif', 's3://deafrica-data-dev-af/crop_mask_references/rainfall/CHPclim_jul_dec_cumulative_rainfall.tif'], 'model_path': 's3://deafrica-data-dev-af/crop_mask_references/ml_models/gm_mads_two_seasons_ml_model_20210401.joblib', 'url_slope': 'https://deafrica-data.s3.amazonaws.com/ancillary/dem-derivatives/cog_slope_africa.tif', 'datetime_range': '2019--P1Y', 'rename_dict': {'B02': 'blue', 'B03': 'green', 'B04': 'red', 'B05': 'red_edge_1', 'B06': 'red_edge_2', 'B07': 'red_edge_3', 'B08': 'nir', 'B11': 'swir_1', 'B12': 'swir_2', 'B8A': 'nir_narrow', 'BCMAD': 'bcdev', 'EMAD': 'edev', 'SMAD': 'sdev'}, 'training_features': ['red_S1', 'blue_S1', 'green_S1', 'nir_S1', 'swir_1_S1', 'swir_2_S1', 'red_edge_1_S1', 'red_edge_2_S1', 'red_edge_3_S1', 'edev_S1', 'sdev_S1', 'bcdev_S1', 'NDVI_S1', 'LAI_S1', 'MNDWI_S1', 'rain_S1', 'red_S2', 'blue_S2', 'green_S2', 'nir_S2', 'swir_1_S2', 'swir_2_S2', 'red_edge_1_S2', 'red_edge_2_S2', 'red_edge_3_S2', 'edev_S2', 'sdev_S2', 'bcdev_S2', 'NDVI_S2', 'LAI_S2', 'MNDWI_S2', 'rain_S2', 'slope']}, product={'name': 'crop_mask_eastern', 'short_name': 'crop_mask_eastern', 'version': '0.1.0', 'product_family': 'geomedian', 'collections_site': 'explorer.digitalearth.africa', 'producer': 'digitalearthafrica.org', 'region_code_format': 'x{x:03d}y{y:03d}'}, threads=10, memory_limit='80Gi', output_location='file:///home/jovyan/git/crop-mask/production/{product}/{version}', s3_acl='public-read', s3_public=False, cog_opts={'compress': 'deflate', 'zlevel': 4, 'blocksize': 800, 'ovr_blocksize': 256, 'overview_resampling': 'average', 'overrides': {'rgba': {'compress': 'JPEG', 'jpeg_quality': 90}}}, overwrite=False, max_processing_time=3600, job_queue_max_lease=300, renew_safety_margin=60, future_poll_interval=2)\n",
      "[2021-05-12 04:26:29,506] {proc.py:44} INFO - Resolving plugin: pred-gm-s2\n",
      "[2021-05-12 04:26:29,507] {proc.py:48} INFO - Output product: OutputProduct(name='crop_mask_eastern', version='0.1.0', short_name='crop_mask_eastern', location='file:///home/jovyan/git/crop-mask/production/crop_mask_eastern/0-1-0', properties={'odc:file_format': 'GeoTIFF', 'odc:product_family': 'geomedian', 'odc:producer': 'digitalearthafrica.org'}, measurements=('mask', 'prob', 'filtered'), href='https://explorer.digitalearth.africa/product/crop_mask_eastern', region_code_format='x{x:03d}y{y:03d}', cfg=None)\n",
      "[2021-05-12 04:26:29,507] {proc.py:50} INFO - Constructing task reader: s3://deafrica-data-dev-af/crop_mask_eastern/0-1-0/gm_s2_semiannual_all.db\n",
      "[2021-05-12 04:26:29,668] {proc.py:52} INFO - Will read from <gm_s2_semiannual_all.db> grid:africa-10 n:4,358\n",
      "[2021-05-12 04:26:29,668] {proc.py:54} INFO - Changing resolution to (-20.0, 20.0)\n",
      "[2021-05-12 04:26:29,668] {proc.py:246} INFO - Starting processing from task list\n",
      "[2021-05-12 04:26:30,019] {proc.py:91} INFO - Started local Dask <Client: 'inproc://10.85.121.171/16192/1' processes=1 threads=10, memory=85.90 GB>\n",
      "[2021-05-12 04:26:30,020] {proc.py:174} INFO - Starting processing of x225/y089/2019--P1Y\n",
      "/env/lib/python3.6/site-packages/deafrica_tools/bandindices.py:282: UserWarning: \n",
      "A coefficient-based index ('LAI') normally applied to surface reflectance values in the \n",
      "0.0-1.0 range was applied to values in the 0-10000 range. This can produce unexpected results; \n",
      "if required, resolve this by setting `normalise=True`\n",
      "  f\"\\nA coefficient-based index ('{index}') normally \"\n",
      "/env/lib/python3.6/site-packages/deafrica_tools/bandindices.py:282: UserWarning: \n",
      "A coefficient-based index ('LAI') normally applied to surface reflectance values in the \n",
      "0.0-1.0 range was applied to values in the 0-10000 range. This can produce unexpected results; \n",
      "if required, resolve this by setting `normalise=True`\n",
      "  f\"\\nA coefficient-based index ('{index}') normally \"\n",
      "predicting...\n",
      "   probabilities...\n",
      "   input features...\n",
      "<xarray.Dataset>\n",
      "Dimensions:        (x: 4800, y: 4800)\n",
      "Coordinates:\n",
      "  * x              (x) float64 4.224e+06 4.224e+06 ... 4.32e+06 4.32e+06\n",
      "  * y              (y) float64 1.248e+06 1.248e+06 ... 1.152e+06 1.152e+06\n",
      "    spatial_ref    int32 0\n",
      "Data variables:\n",
      "    Predictions    (y, x) int8 dask.array<chunksize=(200, 4800), meta=np.ndarray>\n",
      "    Probabilities  (y, x) float32 dask.array<chunksize=(200, 4800), meta=np.ndarray>\n",
      "    red_S1         (y, x) float32 dask.array<chunksize=(4800, 4800), meta=np.ndarray>\n",
      "    blue_S1        (y, x) float32 dask.array<chunksize=(4800, 4800), meta=np.ndarray>\n",
      "    green_S1       (y, x) float32 dask.array<chunksize=(4800, 4800), meta=np.ndarray>\n",
      "    nir_S1         (y, x) float32 dask.array<chunksize=(4800, 4800), meta=np.ndarray>\n",
      "    swir_1_S1      (y, x) float32 dask.array<chunksize=(4800, 4800), meta=np.ndarray>\n",
      "    swir_2_S1      (y, x) float32 dask.array<chunksize=(4800, 4800), meta=np.ndarray>\n",
      "    red_edge_1_S1  (y, x) float32 dask.array<chunksize=(4800, 4800), meta=np.ndarray>\n",
      "    red_edge_2_S1  (y, x) float32 dask.array<chunksize=(4800, 4800), meta=np.ndarray>\n",
      "    red_edge_3_S1  (y, x) float32 dask.array<chunksize=(4800, 4800), meta=np.ndarray>\n",
      "    edev_S1        (y, x) float32 dask.array<chunksize=(4800, 4800), meta=np.ndarray>\n",
      "    sdev_S1        (y, x) float32 dask.array<chunksize=(4800, 4800), meta=np.ndarray>\n",
      "    bcdev_S1       (y, x) float32 dask.array<chunksize=(4800, 4800), meta=np.ndarray>\n",
      "    NDVI_S1        (y, x) float32 dask.array<chunksize=(4800, 4800), meta=np.ndarray>\n",
      "    LAI_S1         (y, x) float32 dask.array<chunksize=(4800, 4800), meta=np.ndarray>\n",
      "    MNDWI_S1       (y, x) float32 dask.array<chunksize=(4800, 4800), meta=np.ndarray>\n",
      "    rain_S1        (y, x) float32 dask.array<chunksize=(4800, 4800), meta=np.ndarray>\n",
      "    red_S2         (y, x) float32 dask.array<chunksize=(4800, 4800), meta=np.ndarray>\n",
      "    blue_S2        (y, x) float32 dask.array<chunksize=(4800, 4800), meta=np.ndarray>\n",
      "    green_S2       (y, x) float32 dask.array<chunksize=(4800, 4800), meta=np.ndarray>\n",
      "    nir_S2         (y, x) float32 dask.array<chunksize=(4800, 4800), meta=np.ndarray>\n",
      "    swir_1_S2      (y, x) float32 dask.array<chunksize=(4800, 4800), meta=np.ndarray>\n",
      "    swir_2_S2      (y, x) float32 dask.array<chunksize=(4800, 4800), meta=np.ndarray>\n",
      "    red_edge_1_S2  (y, x) float32 dask.array<chunksize=(4800, 4800), meta=np.ndarray>\n",
      "    red_edge_2_S2  (y, x) float32 dask.array<chunksize=(4800, 4800), meta=np.ndarray>\n",
      "    red_edge_3_S2  (y, x) float32 dask.array<chunksize=(4800, 4800), meta=np.ndarray>\n",
      "    edev_S2        (y, x) float32 dask.array<chunksize=(4800, 4800), meta=np.ndarray>\n",
      "    sdev_S2        (y, x) float32 dask.array<chunksize=(4800, 4800), meta=np.ndarray>\n",
      "    bcdev_S2       (y, x) float32 dask.array<chunksize=(4800, 4800), meta=np.ndarray>\n",
      "    NDVI_S2        (y, x) float32 dask.array<chunksize=(4800, 4800), meta=np.ndarray>\n",
      "    LAI_S2         (y, x) float32 dask.array<chunksize=(4800, 4800), meta=np.ndarray>\n",
      "    MNDWI_S2       (y, x) float32 dask.array<chunksize=(4800, 4800), meta=np.ndarray>\n",
      "    rain_S2        (y, x) float32 dask.array<chunksize=(4800, 4800), meta=np.ndarray>\n",
      "    slope          (y, x) float32 dask.array<chunksize=(4800, 4800), meta=np.ndarray>\n",
      "Attributes:\n",
      "    grid_mapping:  spatial_ref\n",
      "  image segmentation...\n",
      "Traceback (most recent call last):\n",
      "  File \"/env/bin/cm-pred\", line 33, in <module>\n",
      "    sys.exit(load_entry_point('dea-ml', 'console_scripts', 'cm-pred')())\n",
      "  File \"/env/lib/python3.6/site-packages/click/core.py\", line 829, in __call__\n",
      "    return self.main(*args, **kwargs)\n",
      "  File \"/env/lib/python3.6/site-packages/click/core.py\", line 782, in main\n",
      "    rv = self.invoke(ctx)\n",
      "  File \"/env/lib/python3.6/site-packages/click/core.py\", line 1259, in invoke\n",
      "    return _process_result(sub_ctx.command.invoke(sub_ctx))\n",
      "  File \"/env/lib/python3.6/site-packages/click/core.py\", line 1066, in invoke\n",
      "    return ctx.invoke(self.callback, **ctx.params)\n",
      "  File \"/env/lib/python3.6/site-packages/click/core.py\", line 610, in invoke\n",
      "    return callback(*args, **kwargs)\n",
      "  File \"/home/jovyan/git/crop-mask/production/dea_ml/dea_ml/pipeline/pred_run.py\", line 185, in run\n",
      "    for result in result_stream:\n",
      "  File \"/env/lib/python3.6/site-packages/odc/stats/proc.py\", line 194, in _run\n",
      "    ds = proc.reduce(proc.input_data(task))\n",
      "  File \"/home/jovyan/git/crop-mask/production/dea_ml/dea_ml/plugins/gm_ml_pred.py\", line 73, in input_data\n",
      "    predict, proba, mode = post_processing(predicted)\n",
      "  File \"/home/jovyan/git/crop-mask/production/dea_ml/dea_ml/core/post_processing.py\", line 55, in post_processing\n",
      "    destName=kea_file, srcDS=tiff_to_segment, format=\"KEA\", outputSRS=\"EPSG:6933\"\n",
      "  File \"/env/lib/python3.6/site-packages/osgeo/gdal.py\", line 420, in Translate\n",
      "    srcDS = Open(srcDS)\n",
      "  File \"/env/lib/python3.6/site-packages/osgeo/gdal.py\", line 3308, in Open\n",
      "    return _gdal.Open(*args)\n",
      "RuntimeError: Eastern_tile_NDVI.tif: No such file or directory\n"
     ]
    }
   ],
   "source": [
    "!cm-pred run s3://deafrica-data-dev-af/crop_mask_eastern/0-1-0/gm_s2_semiannual_all.db --config=https://raw.githubusercontent.com/digitalearthafrica/crop-mask/feature/k8s-image-pipeline-tunning/production/dea_ml/dea_ml/config/plugin_product.yaml  --plugin-config=https://raw.githubusercontent.com/digitalearthafrica/crop-mask/main/production/dea_ml/dea_ml/config/ml_config.yaml  --resolution=20 --threads=10 --memory-limit=80Gi --location=file:///home/jovyan/git/crop-mask/production/{product}/{version} 4011:4012"
   ]
  },
  {
   "cell_type": "code",
   "execution_count": null,
   "metadata": {},
   "outputs": [],
   "source": []
  },
  {
   "cell_type": "code",
   "execution_count": null,
   "metadata": {},
   "outputs": [],
   "source": []
  },
  {
   "cell_type": "code",
   "execution_count": null,
   "metadata": {},
   "outputs": [],
   "source": []
  },
  {
   "cell_type": "code",
   "execution_count": null,
   "metadata": {},
   "outputs": [],
   "source": [
    "# import xarray as xr\n",
    "# xr.open_rasterio('/g/data/crop_mask_eastern_data/crop_mask_eastern/v0.1.8/x210/y077/2019/crop_mask_eastern_x210_y077_2019_prob.tif').plot(size=10)"
   ]
  },
  {
   "cell_type": "code",
   "execution_count": null,
   "metadata": {},
   "outputs": [],
   "source": [
    "# !ls /home/jovyan/wa/u23/data/crop_mask_eastern/v0.1.7/x+029/y+000/2019"
   ]
  },
  {
   "cell_type": "code",
   "execution_count": null,
   "metadata": {},
   "outputs": [],
   "source": []
  }
 ],
 "metadata": {
  "kernelspec": {
   "display_name": "Python 3",
   "language": "python",
   "name": "python3"
  },
  "language_info": {
   "codemirror_mode": {
    "name": "ipython",
    "version": 3
   },
   "file_extension": ".py",
   "mimetype": "text/x-python",
   "name": "python",
   "nbconvert_exporter": "python",
   "pygments_lexer": "ipython3",
   "version": "3.6.9"
  }
 },
 "nbformat": 4,
 "nbformat_minor": 4
}
