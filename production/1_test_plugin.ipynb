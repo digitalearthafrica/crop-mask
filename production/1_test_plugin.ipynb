{
 "cells": [
  {
   "cell_type": "markdown",
   "metadata": {},
   "source": [
    "## Import libaries"
   ]
  },
  {
   "cell_type": "code",
   "execution_count": null,
   "metadata": {},
   "outputs": [],
   "source": [
    "!pip uninstall cm_tools -y"
   ]
  },
  {
   "cell_type": "code",
   "execution_count": null,
   "metadata": {},
   "outputs": [],
   "source": [
    "!pip install cm_tools/"
   ]
  },
  {
   "cell_type": "code",
   "execution_count": null,
   "metadata": {},
   "outputs": [],
   "source": [
    "import os\n",
    "import json\n",
    "import xarray as xr\n",
    "import geopandas as gpd\n",
    "from odc.stats.tasks import TaskReader\n",
    "from odc.stats.model import OutputProduct"
   ]
  },
  {
   "cell_type": "markdown",
   "metadata": {},
   "source": [
    "## Save tasks etc"
   ]
  },
  {
   "cell_type": "code",
   "execution_count": 3,
   "metadata": {},
   "outputs": [
    {
     "name": "stdout",
     "output_type": "stream",
     "text": [
      "Connecting to the database, counting datasets\n",
      "Processing 17,405 datasets\n",
      "Processing 17,405 datasets\n",
      "Training compression dictionary\n",
      ".. done\n",
      "100%|████████████████████████████████████| 17405/17405 [00:47<00:00, 363.14it/s]\n",
      "Count: 17,405\n",
      "       363.1 per second\n",
      "Total: 47.929 sec\n",
      "TTFB :  0.007 sec\n",
      ".....: 9D38E08C0CA656208AD42B43E39E9D7D\n",
      "..\n",
      "Total of 4,366 spatial tiles\n",
      "Saving tasks to disk (4356)\n",
      ".. done\n",
      "Writing summary to gm_s2_semiannual_2019--P1Y.csv\n",
      "Dumping GeoJSON(s)\n",
      "..writing to gm_s2_semiannual_2019--P1Y-2019--P1Y.geojson\n"
     ]
    }
   ],
   "source": [
    "!odc-stats save-tasks --grid africa-10 --temporal-range 2019--P1Y gm_s2_semiannual"
   ]
  },
  {
   "cell_type": "code",
   "execution_count": null,
   "metadata": {},
   "outputs": [],
   "source": [
    "# !cm-task --publish=False --task-csv=gm_s2_semiannual_2019--P1Y.csv --geojson=../testing/sahel_cropmask/data/Sahel.geojson --outfile=aez.csv --sqs=deafrica-prod-af-eks-stats-crop-mask --db=gm_s2_semiannual_2019--P1Y.db"
   ]
  },
  {
   "cell_type": "markdown",
   "metadata": {},
   "source": [
    "## Enter the X and Y Tile ID of the tile you want to run"
   ]
  },
  {
   "cell_type": "code",
   "execution_count": null,
   "metadata": {},
   "outputs": [],
   "source": [
    "t = 212,79"
   ]
  },
  {
   "cell_type": "markdown",
   "metadata": {},
   "source": [
    "## Extract the tasks object for that tile"
   ]
  },
  {
   "cell_type": "code",
   "execution_count": null,
   "metadata": {},
   "outputs": [],
   "source": [
    "name, version = 'gm_s2_semiannual', '0-1-0'\n",
    "op = OutputProduct(\n",
    "            name='gm_s2_semiannual',\n",
    "            version='0-1-0',\n",
    "            short_name='gm_s2_semiannual',\n",
    "            location=f\"s3://dummy-bucket/{name}/{version}\",\n",
    "            properties={\"odc:file_format\": \"GeoTIFF\"},\n",
    "            measurements=['red'],\n",
    "        )\n",
    "\n",
    "# taskdb = TaskReader('s3://deafrica-services/crop_mask_eastern/1-0-0/gm_s2_semiannual_all.db', product=op)\n",
    "taskdb = TaskReader('gm_s2_semiannual_2019--P1Y.db', product=op)\n",
    "task = taskdb.load_task(('2019--P1Y', t[0], t[1]))"
   ]
  },
  {
   "cell_type": "markdown",
   "metadata": {},
   "source": [
    "### Optionally export tile geojson to view"
   ]
  },
  {
   "cell_type": "code",
   "execution_count": null,
   "metadata": {},
   "outputs": [],
   "source": [
    "with open('task_tile_check.geojson', 'w') as fh:\n",
    "    json.dump(task.geobox.extent.to_crs('epsg:4326').json, fh, indent=2)"
   ]
  },
  {
   "cell_type": "markdown",
   "metadata": {},
   "source": [
    "### Find the index of the tile we want to run"
   ]
  },
  {
   "cell_type": "code",
   "execution_count": null,
   "metadata": {},
   "outputs": [],
   "source": [
    "tile_index_to_run = []\n",
    "all_tiles = list(taskdb.all_tiles)\n",
    "for i, index in zip(all_tiles, range(0, len(all_tiles))):\n",
    "    if (i[1]==t[0]) & (i[2]==t[1]):\n",
    "        tile_index_to_run.append(index)\n",
    "        print(index)"
   ]
  },
  {
   "cell_type": "markdown",
   "metadata": {},
   "source": [
    "### Run the crop-mask algo using odc-stats"
   ]
  },
  {
   "cell_type": "code",
   "execution_count": null,
   "metadata": {},
   "outputs": [],
   "source": [
    "%%time\n",
    "os.system(\"odc-stats run \"\\\n",
    "          \"gm_s2_semiannual_2019--P1Y.db \"\\\n",
    "          \"--config=cm_tools/cm_tools/config/config_central_notebook.yaml \"\\\n",
    "          \"--resolution=60 \"\\\n",
    "          \"--threads=4 \"\\\n",
    "          \"--memory-limit=25Gi \"\\\n",
    "          \"--location=file:///home/jovyan/git/crop-mask/production/{product}/{version} \"+str(tile_index_to_run[0])\n",
    "         )"
   ]
  },
  {
   "cell_type": "markdown",
   "metadata": {},
   "source": [
    "### Or can run with cmd line"
   ]
  },
  {
   "cell_type": "code",
   "execution_count": null,
   "metadata": {},
   "outputs": [],
   "source": [
    "# %%time\n",
    "# !odc-stats run s3://deafrica-services/crop_mask_eastern/1-0-0/gm_s2_semiannual_all.db --config=cm_tools/cm_tools/config/config_northern_notebook.yaml --resolution=100 --threads=4 --memory-limit=27Gi --location=file:///home/jovyan/git/crop-mask/production/{product}/{version} 1312"
   ]
  },
  {
   "cell_type": "markdown",
   "metadata": {},
   "source": [
    "## Plot the results"
   ]
  },
  {
   "cell_type": "code",
   "execution_count": null,
   "metadata": {},
   "outputs": [],
   "source": [
    "a= 'x'+str(t[0])\n",
    "b='y0'+str(t[1])\n",
    "region = 'central'\n",
    "\n",
    "prob=xr.open_rasterio('crop_mask_'+region+'/1-0-0/'+a+'/'+b+'/2019--P1Y/crop_mask_'+region+'_'+a+b+'_2019--P1Y_prob.tif')\n",
    "print(prob)\n",
    "prob.squeeze().plot.imshow(size=6);"
   ]
  },
  {
   "cell_type": "code",
   "execution_count": null,
   "metadata": {},
   "outputs": [],
   "source": [
    "mask=xr.open_rasterio('crop_mask_'+region+'/1-0-0/'+a+'/'+b+'/2019--P1Y/crop_mask_'+region+'_'+a+b+'_2019--P1Y_mask.tif')#.squeeze().plot.imshow(size=6);\n",
    "print(mask)\n",
    "mask.squeeze().plot.imshow(size=6);"
   ]
  },
  {
   "cell_type": "code",
   "execution_count": null,
   "metadata": {},
   "outputs": [],
   "source": [
    "mode=xr.open_rasterio('crop_mask_'+region+'/1-0-0/'+a+'/'+b+'/2019--P1Y/crop_mask_'+region+'_'+a+b+'_2019--P1Y_filtered.tif').squeeze().squeeze()#.plot.imshow(size=6);\n",
    "print(mode)\n",
    "mode.squeeze().plot.imshow(size=6);"
   ]
  },
  {
   "cell_type": "markdown",
   "metadata": {},
   "source": [
    "### Remove all files"
   ]
  },
  {
   "cell_type": "code",
   "execution_count": 6,
   "metadata": {},
   "outputs": [],
   "source": [
    "!rm -r -f crop_mask_central"
   ]
  },
  {
   "cell_type": "markdown",
   "metadata": {},
   "source": [
    "### Sync files from AWS"
   ]
  },
  {
   "cell_type": "code",
   "execution_count": 7,
   "metadata": {},
   "outputs": [],
   "source": [
    "# !aws s3 sync s3://deafrica-data-dev-af/crop_mask_central/ crop_mask_central --no-sign-request"
   ]
  },
  {
   "cell_type": "code",
   "execution_count": null,
   "metadata": {},
   "outputs": [],
   "source": [
    "# !aws s3 sync s3://deafrica-data-dev-af/crop_mask_southeast/ crop_mask_southeast --no-sign-request"
   ]
  },
  {
   "cell_type": "code",
   "execution_count": null,
   "metadata": {},
   "outputs": [],
   "source": [
    "!aws s3 sync s3://deafrica-services/crop_mask_northern/ crop_mask_northern --no-sign-request --dryrun"
   ]
  },
  {
   "cell_type": "code",
   "execution_count": null,
   "metadata": {},
   "outputs": [],
   "source": [
    "!aws s3 rm --recursive s3://deafrica-data-dev-af/crop_mask_southeast --dryrun"
   ]
  },
  {
   "cell_type": "code",
   "execution_count": null,
   "metadata": {},
   "outputs": [],
   "source": []
  }
 ],
 "metadata": {
  "kernelspec": {
   "display_name": "Python 3 (ipykernel)",
   "language": "python",
   "name": "python3"
  },
  "language_info": {
   "codemirror_mode": {
    "name": "ipython",
    "version": 3
   },
   "file_extension": ".py",
   "mimetype": "text/x-python",
   "name": "python",
   "nbconvert_exporter": "python",
   "pygments_lexer": "ipython3",
   "version": "3.8.10"
  }
 },
 "nbformat": 4,
 "nbformat_minor": 4
}
