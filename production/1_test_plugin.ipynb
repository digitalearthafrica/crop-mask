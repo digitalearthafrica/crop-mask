{
 "cells": [
  {
   "cell_type": "markdown",
   "metadata": {},
   "source": [
    "## Import libaries"
   ]
  },
  {
   "cell_type": "code",
   "execution_count": null,
   "metadata": {},
   "outputs": [],
   "source": [
    "!pip uninstall dea_ml -y"
   ]
  },
  {
   "cell_type": "code",
   "execution_count": null,
   "metadata": {},
   "outputs": [],
   "source": [
    "!pip install -e dea_ml\n",
    "# !pip install git+https://github.com/digitalearthafrica/deafrica-sandbox-notebooks.git@minty-fresh-sandbox#subdirectory=Tools"
   ]
  },
  {
   "cell_type": "code",
   "execution_count": 1,
   "metadata": {},
   "outputs": [
    {
     "name": "stderr",
     "output_type": "stream",
     "text": [
      "/env/lib/python3.6/site-packages/geopandas/_compat.py:88: UserWarning: The Shapely GEOS version (3.7.2-CAPI-1.11.0 ) is incompatible with the GEOS version PyGEOS was compiled with (3.9.0-CAPI-1.16.2). Conversions between both will be slow.\n",
      "  shapely_geos_version, geos_capi_version_string\n"
     ]
    }
   ],
   "source": [
    "import os\n",
    "import json\n",
    "import xarray as xr\n",
    "import geopandas as gpd\n",
    "from odc.stats.tasks import TaskReader\n",
    "from odc.stats.model import OutputProduct"
   ]
  },
  {
   "cell_type": "markdown",
   "metadata": {},
   "source": [
    "## Enter the (old) X and Y Tile ID of the tile you want to run"
   ]
  },
  {
   "cell_type": "code",
   "execution_count": 2,
   "metadata": {},
   "outputs": [],
   "source": [
    "tile_x = '+0031'  #+0031,+0003\n",
    "tile_y = '+0003'"
   ]
  },
  {
   "cell_type": "markdown",
   "metadata": {},
   "source": [
    "### Open tiles geojson and find the new tile-id for the location entered "
   ]
  },
  {
   "cell_type": "code",
   "execution_count": 3,
   "metadata": {},
   "outputs": [
    {
     "name": "stdout",
     "output_type": "stream",
     "text": [
      "212,80\n"
     ]
    }
   ],
   "source": [
    "tiles=gpd.read_file('https://github.com/digitalearthafrica/crop-mask/blob/main/testing/eastern_cropmask/data/gm_s2_2019-2019--P1Y.geojson?raw=true')\n",
    "t=[]\n",
    "for index, row in tiles.iterrows():\n",
    "    x,y = tiles.loc[index]['title'].split(\",\")\n",
    "    if (x==tile_x) & (y==tile_y): \n",
    "        x,y = int(x)+181, int(y)+77\n",
    "        new_title = str(x)+\",\"+str(y)\n",
    "        t.append(x)\n",
    "        t.append(y)\n",
    "        print(new_title)"
   ]
  },
  {
   "cell_type": "markdown",
   "metadata": {},
   "source": [
    "### Extract the tasks object for that tile"
   ]
  },
  {
   "cell_type": "code",
   "execution_count": 4,
   "metadata": {},
   "outputs": [],
   "source": [
    "name, version = 'gm_s2_semiannual', '0-1-0'\n",
    "op = OutputProduct(\n",
    "            name='gm_s2_semiannual',\n",
    "            version='0-1-0',\n",
    "            short_name='gm_s2_semiannual',\n",
    "            location=f\"s3://dummy-bucket/{name}/{version}\",\n",
    "            properties={\"odc:file_format\": \"GeoTIFF\"},\n",
    "            measurements=['red'],\n",
    "        )\n",
    "\n",
    "taskdb = TaskReader('s3://deafrica-data-dev-af/crop_mask_eastern/0-1-0/gm_s2_semiannual_all.db', product=op)\n",
    "task = taskdb.load_task(('2019--P1Y', t[0], t[1]))"
   ]
  },
  {
   "cell_type": "markdown",
   "metadata": {},
   "source": [
    "### Optionally export tile geojson to view"
   ]
  },
  {
   "cell_type": "code",
   "execution_count": 5,
   "metadata": {},
   "outputs": [],
   "source": [
    "with open('task_tile_check.geojson', 'w') as fh:\n",
    "    json.dump(task.geobox.extent.to_crs('epsg:4326').json, fh, indent=2)"
   ]
  },
  {
   "cell_type": "markdown",
   "metadata": {},
   "source": [
    "### Find the index of the tile we want to run"
   ]
  },
  {
   "cell_type": "code",
   "execution_count": 6,
   "metadata": {},
   "outputs": [
    {
     "name": "stdout",
     "output_type": "stream",
     "text": [
      "3100\n"
     ]
    }
   ],
   "source": [
    "tile_index_to_run = []\n",
    "all_tiles = list(taskdb.all_tiles)\n",
    "for i, index in zip(all_tiles, range(0, len(all_tiles))):\n",
    "    if (i[1]==t[0]) & (i[2]==t[1]):\n",
    "        tile_index_to_run.append(index)\n",
    "        print(index)"
   ]
  },
  {
   "cell_type": "markdown",
   "metadata": {},
   "source": [
    "### Run the crop-mask algo using odc-stats"
   ]
  },
  {
   "cell_type": "code",
   "execution_count": 7,
   "metadata": {},
   "outputs": [
    {
     "data": {
      "text/plain": [
       "2"
      ]
     },
     "execution_count": 7,
     "metadata": {},
     "output_type": "execute_result"
    }
   ],
   "source": [
    "os.system(\"cm-pred run \"\\\n",
    "          \"s3://deafrica-data-dev-af/crop_mask_eastern/0-1-0/gm_s2_semiannual_all.db \"\\\n",
    "          \"--config=https://raw.githubusercontent.com/digitalearthafrica/crop-mask/main/production/dea_ml/dea_ml/config/plugin_product.yaml \"\\\n",
    "          \"--plugin-config=https://raw.githubusercontent.com/digitalearthafrica/crop-mask/main/production/dea_ml/dea_ml/config/ml_config.yaml \"\\\n",
    "          \"--resolution=40 \"\\\n",
    "          \"--threads=10 \"\\\n",
    "          \"--memory-limit=90Gi \"\\\n",
    "          \"--location=file:///home/jovyan/git/crop-mask/production/{product}/{version} \"+str(tile_index_to_run[0])\n",
    "         )"
   ]
  },
  {
   "cell_type": "markdown",
   "metadata": {},
   "source": [
    "### Or can run with cmd line, will see print statements"
   ]
  },
  {
   "cell_type": "code",
   "execution_count": 8,
   "metadata": {},
   "outputs": [
    {
     "name": "stdout",
     "output_type": "stream",
     "text": [
      "/env/lib/python3.6/site-packages/geopandas/_compat.py:88: UserWarning: The Shapely GEOS version (3.7.2-CAPI-1.11.0 ) is incompatible with the GEOS version PyGEOS was compiled with (3.9.0-CAPI-1.16.2). Conversions between both will be slow.\n",
      "  shapely_geos_version, geos_capi_version_string\n",
      "[2021-05-14 05:39:21,311] {pred_run.py:150} INFO - Config overrides: {'filedb': 's3://deafrica-data-dev-af/crop_mask_eastern/0-1-0/gm_s2_semiannual_all.db', 'threads': 10, 'memory_limit': '80Gi', 'output_location': 'file:///home/jovyan/git/crop-mask/production/{product}/{version}'}\n",
      "[2021-05-14 05:39:21,312] {pred_run.py:167} INFO - Using this config: TaskRunnerConfig(filedb='s3://deafrica-data-dev-af/crop_mask_eastern/0-1-0/gm_s2_semiannual_all.db', aws_unsigned=True, plugin='pred-gm-s2', plugin_config={'urls': {'slope': 'https://deafrica-data.s3.amazonaws.com/ancillary/dem-derivatives/cog_slope_africa.tif', 'model': 'https://github.com/digitalearthafrica/crop-mask/blob/main/testing/eastern_cropmask/results/gm_mads_two_seasons_ml_model_20210427.joblib?raw=true', 'chirps': ['s3://deafrica-input-datasets/rainfall/CHPclim_jan_jun_cumulative_rainfall.tif', 's3://deafrica-input-datasets/rainfall/CHPclim_jul_dec_cumulative_rainfall.tif'], 'wdpa': 's3://deafrica-input-datasets/protected_areas/WDPA_eastern.tif', 'aez': 'https://github.com/digitalearthafrica/crop-mask/blob/main/testing/eastern_cropmask/data/Eastern.geojson?raw=true'}, 'datetime_range': '2019--P1Y', 'rename_dict': {'B02': 'blue', 'B03': 'green', 'B04': 'red', 'B05': 'red_edge_1', 'B06': 'red_edge_2', 'B07': 'red_edge_3', 'B08': 'nir', 'B11': 'swir_1', 'B12': 'swir_2', 'B8A': 'nir_narrow', 'BCMAD': 'bcdev', 'EMAD': 'edev', 'SMAD': 'sdev'}, 'training_features': ['red_S1', 'blue_S1', 'green_S1', 'nir_S1', 'swir_1_S1', 'swir_2_S1', 'red_edge_1_S1', 'red_edge_2_S1', 'red_edge_3_S1', 'edev_S1', 'sdev_S1', 'bcdev_S1', 'NDVI_S1', 'LAI_S1', 'MNDWI_S1', 'rain_S1', 'red_S2', 'blue_S2', 'green_S2', 'nir_S2', 'swir_1_S2', 'swir_2_S2', 'red_edge_1_S2', 'red_edge_2_S2', 'red_edge_3_S2', 'edev_S2', 'sdev_S2', 'bcdev_S2', 'NDVI_S2', 'LAI_S2', 'MNDWI_S2', 'rain_S2', 'slope']}, product={'name': 'crop_mask_eastern', 'short_name': 'crop_mask_eastern', 'version': '0.1.0', 'product_family': 'geomedian', 'collections_site': 'explorer.digitalearth.africa', 'producer': 'digitalearthafrica.org', 'region_code_format': 'x{x:03d}y{y:03d}'}, threads=10, memory_limit='80Gi', output_location='file:///home/jovyan/git/crop-mask/production/{product}/{version}', s3_acl='public-read', s3_public=False, cog_opts={'compress': 'deflate', 'zlevel': 4, 'blocksize': 800, 'ovr_blocksize': 256, 'overview_resampling': 'average', 'overrides': {'rgba': {'compress': 'JPEG', 'jpeg_quality': 90}}}, overwrite=False, max_processing_time=3600, job_queue_max_lease=300, renew_safety_margin=60, future_poll_interval=2)\n",
      "[2021-05-14 05:39:21,312] {proc.py:44} INFO - Resolving plugin: pred-gm-s2\n",
      "[2021-05-14 05:39:21,313] {proc.py:48} INFO - Output product: OutputProduct(name='crop_mask_eastern', version='0.1.0', short_name='crop_mask_eastern', location='file:///home/jovyan/git/crop-mask/production/crop_mask_eastern/0-1-0', properties={'odc:file_format': 'GeoTIFF', 'odc:product_family': 'geomedian', 'odc:producer': 'digitalearthafrica.org'}, measurements=('mask', 'prob', 'filtered'), href='https://explorer.digitalearth.africa/product/crop_mask_eastern', region_code_format='x{x:03d}y{y:03d}', cfg=None)\n",
      "[2021-05-14 05:39:21,313] {proc.py:50} INFO - Constructing task reader: s3://deafrica-data-dev-af/crop_mask_eastern/0-1-0/gm_s2_semiannual_all.db\n",
      "[2021-05-14 05:39:21,470] {proc.py:52} INFO - Will read from <gm_s2_semiannual_all.db> grid:africa-10 n:4,358\n",
      "[2021-05-14 05:39:21,470] {proc.py:54} INFO - Changing resolution to (-40.0, 40.0)\n",
      "[2021-05-14 05:39:21,470] {proc.py:246} INFO - Starting processing from task list\n",
      "[2021-05-14 05:39:21,811] {proc.py:91} INFO - Started local Dask <Client: 'inproc://10.85.101.30/6142/1' processes=1 threads=10, memory=85.90 GB>\n",
      "[2021-05-14 05:39:21,812] {proc.py:174} INFO - Starting processing of x212/y080/2019--P1Y\n",
      "/env/lib/python3.6/site-packages/deafrica_tools/bandindices.py:282: UserWarning: \n",
      "A coefficient-based index ('LAI') normally applied to surface reflectance values in the \n",
      "0.0-1.0 range was applied to values in the 0-10000 range. This can produce unexpected results; \n",
      "if required, resolve this by setting `normalise=True`\n",
      "  f\"\\nA coefficient-based index ('{index}') normally \"\n",
      "/env/lib/python3.6/site-packages/deafrica_tools/bandindices.py:282: UserWarning: \n",
      "A coefficient-based index ('LAI') normally applied to surface reflectance values in the \n",
      "0.0-1.0 range was applied to values in the 0-10000 range. This can produce unexpected results; \n",
      "if required, resolve this by setting `normalise=True`\n",
      "  f\"\\nA coefficient-based index ('{index}') normally \"\n",
      "predicting...\n",
      "   probabilities...\n",
      "   input features...\n",
      "<xarray.Dataset>\n",
      "Dimensions:        (x: 2400, y: 2400)\n",
      "Coordinates:\n",
      "  * x              (x) float64 2.976e+06 2.976e+06 ... 3.072e+06 3.072e+06\n",
      "  * y              (y) float64 3.84e+05 3.839e+05 ... 2.881e+05 2.88e+05\n",
      "    spatial_ref    int32 0\n",
      "Data variables:\n",
      "    Predictions    (y, x) int8 dask.array<chunksize=(2400, 2400), meta=np.ndarray>\n",
      "    Probabilities  (y, x) float32 dask.array<chunksize=(2400, 2400), meta=np.ndarray>\n",
      "    red_S1         (y, x) float32 dask.array<chunksize=(2400, 2400), meta=np.ndarray>\n",
      "    blue_S1        (y, x) float32 dask.array<chunksize=(2400, 2400), meta=np.ndarray>\n",
      "    green_S1       (y, x) float32 dask.array<chunksize=(2400, 2400), meta=np.ndarray>\n",
      "    nir_S1         (y, x) float32 dask.array<chunksize=(2400, 2400), meta=np.ndarray>\n",
      "    swir_1_S1      (y, x) float32 dask.array<chunksize=(2400, 2400), meta=np.ndarray>\n",
      "    swir_2_S1      (y, x) float32 dask.array<chunksize=(2400, 2400), meta=np.ndarray>\n",
      "    red_edge_1_S1  (y, x) float32 dask.array<chunksize=(2400, 2400), meta=np.ndarray>\n",
      "    red_edge_2_S1  (y, x) float32 dask.array<chunksize=(2400, 2400), meta=np.ndarray>\n",
      "    red_edge_3_S1  (y, x) float32 dask.array<chunksize=(2400, 2400), meta=np.ndarray>\n",
      "    edev_S1        (y, x) float32 dask.array<chunksize=(2400, 2400), meta=np.ndarray>\n",
      "    sdev_S1        (y, x) float32 dask.array<chunksize=(2400, 2400), meta=np.ndarray>\n",
      "    bcdev_S1       (y, x) float32 dask.array<chunksize=(2400, 2400), meta=np.ndarray>\n",
      "    NDVI_S1        (y, x) float32 dask.array<chunksize=(2400, 2400), meta=np.ndarray>\n",
      "    LAI_S1         (y, x) float32 dask.array<chunksize=(2400, 2400), meta=np.ndarray>\n",
      "    MNDWI_S1       (y, x) float32 dask.array<chunksize=(2400, 2400), meta=np.ndarray>\n",
      "    rain_S1        (y, x) float32 dask.array<chunksize=(2400, 2400), meta=np.ndarray>\n",
      "    red_S2         (y, x) float32 dask.array<chunksize=(2400, 2400), meta=np.ndarray>\n",
      "    blue_S2        (y, x) float32 dask.array<chunksize=(2400, 2400), meta=np.ndarray>\n",
      "    green_S2       (y, x) float32 dask.array<chunksize=(2400, 2400), meta=np.ndarray>\n",
      "    nir_S2         (y, x) float32 dask.array<chunksize=(2400, 2400), meta=np.ndarray>\n",
      "    swir_1_S2      (y, x) float32 dask.array<chunksize=(2400, 2400), meta=np.ndarray>\n",
      "    swir_2_S2      (y, x) float32 dask.array<chunksize=(2400, 2400), meta=np.ndarray>\n",
      "    red_edge_1_S2  (y, x) float32 dask.array<chunksize=(2400, 2400), meta=np.ndarray>\n",
      "    red_edge_2_S2  (y, x) float32 dask.array<chunksize=(2400, 2400), meta=np.ndarray>\n",
      "    red_edge_3_S2  (y, x) float32 dask.array<chunksize=(2400, 2400), meta=np.ndarray>\n",
      "    edev_S2        (y, x) float32 dask.array<chunksize=(2400, 2400), meta=np.ndarray>\n",
      "    sdev_S2        (y, x) float32 dask.array<chunksize=(2400, 2400), meta=np.ndarray>\n",
      "    bcdev_S2       (y, x) float32 dask.array<chunksize=(2400, 2400), meta=np.ndarray>\n",
      "    NDVI_S2        (y, x) float32 dask.array<chunksize=(2400, 2400), meta=np.ndarray>\n",
      "    LAI_S2         (y, x) float32 dask.array<chunksize=(2400, 2400), meta=np.ndarray>\n",
      "    MNDWI_S2       (y, x) float32 dask.array<chunksize=(2400, 2400), meta=np.ndarray>\n",
      "    rain_S2        (y, x) float32 dask.array<chunksize=(2400, 2400), meta=np.ndarray>\n",
      "    slope          (y, x) float32 dask.array<chunksize=(2400, 2400), meta=np.ndarray>\n",
      "Attributes:\n",
      "    grid_mapping:  spatial_ref\n",
      "starting pp\n",
      "Traceback (most recent call last):\n",
      "  File \"/env/bin/cm-pred\", line 33, in <module>\n",
      "    sys.exit(load_entry_point('dea-ml', 'console_scripts', 'cm-pred')())\n",
      "  File \"/env/lib/python3.6/site-packages/click/core.py\", line 829, in __call__\n",
      "    return self.main(*args, **kwargs)\n",
      "  File \"/env/lib/python3.6/site-packages/click/core.py\", line 782, in main\n",
      "    rv = self.invoke(ctx)\n",
      "  File \"/env/lib/python3.6/site-packages/click/core.py\", line 1259, in invoke\n",
      "    return _process_result(sub_ctx.command.invoke(sub_ctx))\n",
      "  File \"/env/lib/python3.6/site-packages/click/core.py\", line 1066, in invoke\n",
      "    return ctx.invoke(self.callback, **ctx.params)\n",
      "  File \"/env/lib/python3.6/site-packages/click/core.py\", line 610, in invoke\n",
      "    return callback(*args, **kwargs)\n",
      "  File \"/home/jovyan/git/crop-mask/production/dea_ml/dea_ml/pipeline/pred_run.py\", line 185, in run\n",
      "    for result in result_stream:\n",
      "  File \"/env/lib/python3.6/site-packages/odc/stats/proc.py\", line 204, in _run\n",
      "    cog = sink.dump(task, ds, aux)\n",
      "  File \"/env/lib/python3.6/site-packages/odc/stats/io.py\", line 188, in dump\n",
      "    cogs = self._ds_to_cog(ds, paths)\n",
      "  File \"/env/lib/python3.6/site-packages/odc/stats/io.py\", line 152, in _ds_to_cog\n",
      "    for band, dv in ds.data_vars.items():\n",
      "  File \"/env/lib/python3.6/site-packages/dask/delayed.py\", line 555, in __iter__\n",
      "    raise TypeError(\"Delayed objects of unspecified length are not iterable\")\n",
      "TypeError: Delayed objects of unspecified length are not iterable\n"
     ]
    }
   ],
   "source": [
    "!cm-pred run s3://deafrica-data-dev-af/crop_mask_eastern/0-1-0/gm_s2_semiannual_all.db --config=https://raw.githubusercontent.com/digitalearthafrica/crop-mask/main/production/dea_ml/dea_ml/config/plugin_product.yaml  --plugin-config=https://raw.githubusercontent.com/digitalearthafrica/crop-mask/main/production/dea_ml/dea_ml/config/ml_config.yaml  --resolution=40 --threads=10 --memory-limit=80Gi --location=file:///home/jovyan/git/crop-mask/production/{product}/{version} 3100"
   ]
  },
  {
   "cell_type": "markdown",
   "metadata": {},
   "source": [
    "## Plot the results"
   ]
  },
  {
   "cell_type": "code",
   "execution_count": null,
   "metadata": {},
   "outputs": [],
   "source": [
    "a= 'x'+str(t[0])\n",
    "b='y0'+str(t[1])\n",
    "xr.open_rasterio('crop_mask_eastern/0-1-0/'+a+'/'+b+'/2019--P1Y/crop_mask_eastern_'+a+b+'_2019--P1Y_prob.tif').squeeze().plot.imshow(size=6);"
   ]
  },
  {
   "cell_type": "code",
   "execution_count": null,
   "metadata": {},
   "outputs": [],
   "source": [
    "xr.open_rasterio('crop_mask_eastern/0-1-0/'+a+'/'+b+'/2019--P1Y/crop_mask_eastern_'+a+b+'_2019--P1Y_mask.tif').squeeze().plot.imshow(size=6);"
   ]
  },
  {
   "cell_type": "code",
   "execution_count": null,
   "metadata": {},
   "outputs": [],
   "source": [
    "xr.open_rasterio('crop_mask_eastern/0-1-0/'+a+'/'+b+'/2019--P1Y/crop_mask_eastern_'+a+b+'_2019--P1Y_filtered.tif').squeeze().plot.imshow(size=6);"
   ]
  },
  {
   "cell_type": "markdown",
   "metadata": {},
   "source": [
    "### Remove all files"
   ]
  },
  {
   "cell_type": "code",
   "execution_count": null,
   "metadata": {},
   "outputs": [],
   "source": [
    "!rm -r -f crop_mask_eastern"
   ]
  },
  {
   "cell_type": "code",
   "execution_count": null,
   "metadata": {},
   "outputs": [],
   "source": []
  }
 ],
 "metadata": {
  "kernelspec": {
   "display_name": "Python 3",
   "language": "python",
   "name": "python3"
  },
  "language_info": {
   "codemirror_mode": {
    "name": "ipython",
    "version": 3
   },
   "file_extension": ".py",
   "mimetype": "text/x-python",
   "name": "python",
   "nbconvert_exporter": "python",
   "pygments_lexer": "ipython3",
   "version": "3.6.9"
  }
 },
 "nbformat": 4,
 "nbformat_minor": 4
}
