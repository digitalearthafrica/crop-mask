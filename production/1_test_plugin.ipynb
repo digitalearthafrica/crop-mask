{
 "cells": [
  {
   "cell_type": "markdown",
   "metadata": {},
   "source": [
    "## Import libaries"
   ]
  },
  {
   "cell_type": "code",
   "execution_count": null,
   "metadata": {},
   "outputs": [],
   "source": [
    "!pip uninstall dea_ml -y"
   ]
  },
  {
   "cell_type": "code",
   "execution_count": null,
   "metadata": {},
   "outputs": [],
   "source": [
    "!pip install -e dea_ml"
   ]
  },
  {
   "cell_type": "code",
   "execution_count": null,
   "metadata": {},
   "outputs": [],
   "source": [
    "import os\n",
    "import json\n",
    "import xarray as xr\n",
    "import geopandas as gpd\n",
    "from odc.stats.tasks import TaskReader\n",
    "from odc.stats.model import OutputProduct"
   ]
  },
  {
   "cell_type": "markdown",
   "metadata": {},
   "source": [
    "## Enter the (old) X and Y Tile ID of the tile you want to run"
   ]
  },
  {
   "cell_type": "code",
   "execution_count": null,
   "metadata": {},
   "outputs": [],
   "source": [
    "tile_x = '+0010'  #+0031,+0003 +0030,-0002  -0001,+0010 ,\n",
    "tile_y = '+0045' "
   ]
  },
  {
   "cell_type": "markdown",
   "metadata": {},
   "source": [
    "### Open tiles geojson and find the new tile-id for the location entered "
   ]
  },
  {
   "cell_type": "code",
   "execution_count": null,
   "metadata": {},
   "outputs": [],
   "source": [
    "tiles=gpd.read_file('https://github.com/digitalearthafrica/crop-mask/blob/main/testing/eastern_cropmask/data/gm_s2_2019-2019--P1Y.geojson?raw=true')\n",
    "t=[]\n",
    "for index, row in tiles.iterrows():\n",
    "    x,y = tiles.loc[index]['title'].split(\",\")\n",
    "    if (x==tile_x) & (y==tile_y): \n",
    "        x,y = int(x)+181, int(y)+77\n",
    "        new_title = str(x)+\",\"+str(y)\n",
    "        t.append(x)\n",
    "        t.append(y)\n",
    "        print(new_title)"
   ]
  },
  {
   "cell_type": "markdown",
   "metadata": {},
   "source": [
    "### Extract the tasks object for that tile"
   ]
  },
  {
   "cell_type": "code",
   "execution_count": null,
   "metadata": {},
   "outputs": [],
   "source": [
    "name, version = 'gm_s2_semiannual', '0-1-0'\n",
    "op = OutputProduct(\n",
    "            name='gm_s2_semiannual',\n",
    "            version='0-1-0',\n",
    "            short_name='gm_s2_semiannual',\n",
    "            location=f\"s3://dummy-bucket/{name}/{version}\",\n",
    "            properties={\"odc:file_format\": \"GeoTIFF\"},\n",
    "            measurements=['red'],\n",
    "        )\n",
    "\n",
    "taskdb = TaskReader('s3://deafrica-services/crop_mask_eastern/1-0-0/gm_s2_semiannual_all.db', product=op)\n",
    "task = taskdb.load_task(('2019--P1Y', t[0], t[1]))"
   ]
  },
  {
   "cell_type": "markdown",
   "metadata": {},
   "source": [
    "### Optionally export tile geojson to view"
   ]
  },
  {
   "cell_type": "code",
   "execution_count": null,
   "metadata": {},
   "outputs": [],
   "source": [
    "with open('task_tile_check.geojson', 'w') as fh:\n",
    "    json.dump(task.geobox.extent.to_crs('epsg:4326').json, fh, indent=2)"
   ]
  },
  {
   "cell_type": "markdown",
   "metadata": {},
   "source": [
    "### Find the index of the tile we want to run"
   ]
  },
  {
   "cell_type": "code",
   "execution_count": null,
   "metadata": {},
   "outputs": [],
   "source": [
    "tile_index_to_run = []\n",
    "all_tiles = list(taskdb.all_tiles)\n",
    "for i, index in zip(all_tiles, range(0, len(all_tiles))):\n",
    "    if (i[1]==t[0]) & (i[2]==t[1]):\n",
    "        tile_index_to_run.append(index)\n",
    "        print(index)"
   ]
  },
  {
   "cell_type": "markdown",
   "metadata": {},
   "source": [
    "### Run the crop-mask algo using odc-stats"
   ]
  },
  {
   "cell_type": "code",
   "execution_count": null,
   "metadata": {},
   "outputs": [],
   "source": []
  },
  {
   "cell_type": "code",
   "execution_count": null,
   "metadata": {},
   "outputs": [],
   "source": [
    "%%time\n",
    "os.system(\"odc-stats run \"\\\n",
    "          \"s3://deafrica-services/crop_mask_eastern/1-0-0/gm_s2_semiannual_all.db \"\\\n",
    "          \"--config=dea_ml/dea_ml/config/config_northern_notebook.yaml \"\\\n",
    "          \"--resolution=60 \"\\\n",
    "          \"--threads=3 \"\\\n",
    "          \"--memory-limit=29Gi \"\\\n",
    "          \"--location=file:///home/jovyan/git/crop-mask/production/{product}/{version} \"+str(tile_index_to_run[0])\n",
    "         )"
   ]
  },
  {
   "cell_type": "markdown",
   "metadata": {},
   "source": [
    "### Or can run with cmd line, will see print statements"
   ]
  },
  {
   "cell_type": "code",
   "execution_count": null,
   "metadata": {},
   "outputs": [],
   "source": [
    "# %%time\n",
    "# !cm-pred run s3://deafrica-services/crop_mask_eastern/1-0-0/gm_s2_semiannual_all.db --config=file:///home/jovyan/git/crop-mask/production/dea_ml/dea_ml/config/plugin_product_northern.yaml  --plugin-config=file:///home/jovyan/git/crop-mask/production/dea_ml/dea_ml/config/ml_config_northern_notebook.yaml  --resolution=20 --threads=6 --memory-limit=50Gi --location=file:///home/jovyan/git/crop-mask/production/{product}/{version} 1312"
   ]
  },
  {
   "cell_type": "code",
   "execution_count": null,
   "metadata": {},
   "outputs": [],
   "source": [
    "%%time\n",
    "!odc-stats run s3://deafrica-services/crop_mask_eastern/1-0-0/gm_s2_semiannual_all.db --config=dea_ml/dea_ml/config/config_northern_notebook.yaml --resolution=100 --threads=4 --memory-limit=27Gi --location=file:///home/jovyan/git/crop-mask/production/{product}/{version} 1312"
   ]
  },
  {
   "cell_type": "markdown",
   "metadata": {},
   "source": [
    "## Plot the results"
   ]
  },
  {
   "cell_type": "code",
   "execution_count": null,
   "metadata": {},
   "outputs": [],
   "source": [
    "a= 'x'+str(t[0])\n",
    "b='y'+str(t[1])\n",
    "prob=xr.open_rasterio('crop_mask_northern/1-0-0/'+a+'/'+b+'/2019--P1Y/crop_mask_northern_'+a+b+'_2019--P1Y_prob.tif')\n",
    "print(prob)\n",
    "prob.squeeze().plot.imshow(size=6);"
   ]
  },
  {
   "cell_type": "code",
   "execution_count": null,
   "metadata": {},
   "outputs": [],
   "source": [
    "mask=xr.open_rasterio('crop_mask_northern/1-0-0/'+a+'/'+b+'/2019--P1Y/crop_mask_northern_'+a+b+'_2019--P1Y_mask.tif')#.squeeze().plot.imshow(size=6);\n",
    "print(mask)\n",
    "mask.squeeze().plot.imshow(size=6);"
   ]
  },
  {
   "cell_type": "code",
   "execution_count": null,
   "metadata": {},
   "outputs": [],
   "source": [
    "mode=xr.open_rasterio('crop_mask_northern/1-0-0/'+a+'/'+b+'/2019--P1Y/crop_mask_northern_'+a+b+'_2019--P1Y_filtered.tif').squeeze()#.plot.imshow(size=6);\n",
    "print(mode)\n",
    "mode.squeeze().plot.imshow(size=6);"
   ]
  },
  {
   "cell_type": "markdown",
   "metadata": {},
   "source": [
    "### Remove all files"
   ]
  },
  {
   "cell_type": "code",
   "execution_count": null,
   "metadata": {},
   "outputs": [],
   "source": [
    "!rm -r -f crop_mask_northern"
   ]
  },
  {
   "cell_type": "markdown",
   "metadata": {},
   "source": [
    "Sync files from AWS"
   ]
  },
  {
   "cell_type": "code",
   "execution_count": null,
   "metadata": {},
   "outputs": [],
   "source": [
    "!aws s3 sync s3://deafrica-data-dev-af/crop_mask_northern/ crop_mask_northern --no-sign-request\n"
   ]
  },
  {
   "cell_type": "code",
   "execution_count": null,
   "metadata": {},
   "outputs": [],
   "source": [
    "# !aws s3 sync s3://deafrica-services/crop_mask_northern/ crop_mask_northern --no-sign-request --dryrun"
   ]
  },
  {
   "cell_type": "code",
   "execution_count": null,
   "metadata": {},
   "outputs": [],
   "source": []
  }
 ],
 "metadata": {
  "kernelspec": {
   "display_name": "Python 3 (ipykernel)",
   "language": "python",
   "name": "python3"
  },
  "language_info": {
   "codemirror_mode": {
    "name": "ipython",
    "version": 3
   },
   "file_extension": ".py",
   "mimetype": "text/x-python",
   "name": "python",
   "nbconvert_exporter": "python",
   "pygments_lexer": "ipython3",
   "version": "3.8.10"
  }
 },
 "nbformat": 4,
 "nbformat_minor": 4
}
