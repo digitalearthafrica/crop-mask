{
 "cells": [
  {
   "cell_type": "code",
   "execution_count": 1,
   "metadata": {},
   "outputs": [],
   "source": [
    "import glob\n",
    "import json\n",
    "import logging\n",
    "import math\n",
    "import os\n",
    "import os.path as osp\n",
    "import time\n",
    "\n",
    "import psutil\n",
    "from datacube.utils.dask import start_local_dask\n",
    "from odc.io.cgroups import get_cpu_quota, get_mem_quota\n",
    "from odc.stats._cli_common import setup_logging\n",
    "\n",
    "from dea_ml.core.merge_tifs_to_ds import PredictFromFeature\n",
    "from dea_ml.core.product_feature_config import FeaturePathConfig\n",
    "from distributed import Client, LocalCluster"
   ]
  },
  {
   "cell_type": "code",
   "execution_count": 6,
   "metadata": {},
   "outputs": [],
   "source": [
    "import json\n",
    "from typing import Dict, Tuple\n",
    "\n",
    "def geofeature_to_tileidx(feature: Dict) -> Tuple[int, int]:\n",
    "    title = feature[\"properties\"][\"title\"]\n",
    "    x_str, y_str = title.split(\",\")\n",
    "    return int(x_str), int(y_str)\n",
    "\n",
    "\n",
    "with open(\"/home/jovyan/wa/u23/crop-mask/eastern_cropmask/data/s2_tiles_eastern_aez.geojson\") as fhin:\n",
    "    raw = json.load(fhin)\n",
    "    tile_indicies = [geofeature_to_tileidx(feature) for feature in raw['features']]\n",
    "    tasks = [f'x{x:+04d}/y{y:+04d}' for x, y in tile_indicies]"
   ]
  },
  {
   "cell_type": "code",
   "execution_count": 7,
   "metadata": {},
   "outputs": [
    {
     "data": {
      "text/plain": [
       "['x+047/y+010', 'x+048/y+010']"
      ]
     },
     "execution_count": 7,
     "metadata": {},
     "output_type": "execute_result"
    }
   ],
   "source": [
    "tasks[-2:]"
   ]
  },
  {
   "cell_type": "code",
   "execution_count": 2,
   "metadata": {},
   "outputs": [
    {
     "name": "stdout",
     "output_type": "stream",
     "text": [
      "[2021-03-16 23:29:30,460] {<ipython-input-2-313edbf98f4f>:54} INFO - proessing tiles for task /g/data/u23/data/crop_mask_eastern/v0.1.5/x+029/y+000/*.\n"
     ]
    },
    {
     "name": "stderr",
     "output_type": "stream",
     "text": [
      "/env/lib/python3.6/site-packages/xarray/core/computation.py:700: RuntimeWarning: divide by zero encountered in log\n",
      "  result_data = func(*input_data)\n",
      "/env/lib/python3.6/site-packages/xarray/core/computation.py:700: RuntimeWarning: invalid value encountered in log\n",
      "  result_data = func(*input_data)\n",
      "/env/lib/python3.6/site-packages/xarray/core/computation.py:700: RuntimeWarning: divide by zero encountered in log\n",
      "  result_data = func(*input_data)\n",
      "/env/lib/python3.6/site-packages/xarray/core/computation.py:700: RuntimeWarning: divide by zero encountered in log\n",
      "  result_data = func(*input_data)\n"
     ]
    },
    {
     "name": "stdout",
     "output_type": "stream",
     "text": [
      "[2021-03-16 23:29:39,053] {__init__.py:221} WARNING - CPLE_AppDefined in No UNIDATA NC_GLOBAL:Conventions attribute\n"
     ]
    },
    {
     "name": "stderr",
     "output_type": "stream",
     "text": [
      "/env/lib/python3.6/site-packages/xarray/core/computation.py:700: RuntimeWarning: divide by zero encountered in log\n",
      "  result_data = func(*input_data)\n",
      "/env/lib/python3.6/site-packages/xarray/core/computation.py:700: RuntimeWarning: invalid value encountered in log\n",
      "  result_data = func(*input_data)\n",
      "/env/lib/python3.6/site-packages/xarray/core/computation.py:700: RuntimeWarning: divide by zero encountered in log\n",
      "  result_data = func(*input_data)\n",
      "/env/lib/python3.6/site-packages/xarray/core/computation.py:700: RuntimeWarning: divide by zero encountered in log\n",
      "  result_data = func(*input_data)\n"
     ]
    },
    {
     "name": "stdout",
     "output_type": "stream",
     "text": [
      "[2021-03-16 23:29:47,715] {__init__.py:221} WARNING - CPLE_AppDefined in No UNIDATA NC_GLOBAL:Conventions attribute\n",
      "   predicting...\n",
      "   probabilities...\n",
      "[2021-03-16 23:29:58,574] {merge_tifs_to_ds.py:141} INFO - ... Dask computing ...\n",
      "[2021-03-16 23:30:06,453] {merge_tifs_to_ds.py:177} INFO - collecting mask and write cog.\n",
      "[2021-03-16 23:30:58,012] {env.py:433} WARNING - CPLE_NotSupported in driver GTiff does not support creation option WIDTH\n",
      "[2021-03-16 23:30:58,013] {env.py:433} WARNING - CPLE_NotSupported in driver GTiff does not support creation option HEIGHT\n",
      "[2021-03-16 23:30:58,014] {env.py:433} WARNING - CPLE_NotSupported in driver GTiff does not support creation option COUNT\n",
      "[2021-03-16 23:30:58,015] {env.py:433} WARNING - CPLE_NotSupported in driver GTiff does not support creation option DTYPE\n",
      "[2021-03-16 23:30:58,016] {env.py:433} WARNING - CPLE_NotSupported in driver GTiff does not support creation option CRS\n",
      "[2021-03-16 23:30:58,016] {env.py:433} WARNING - CPLE_NotSupported in driver GTiff does not support creation option TRANSFORM\n",
      "[2021-03-16 23:31:00,202] {merge_tifs_to_ds.py:184} INFO - collecting prob and write cog.\n",
      "[2021-03-16 23:31:41,329] {env.py:433} WARNING - CPLE_NotSupported in driver GTiff does not support creation option WIDTH\n",
      "[2021-03-16 23:31:41,330] {env.py:433} WARNING - CPLE_NotSupported in driver GTiff does not support creation option HEIGHT\n",
      "[2021-03-16 23:31:41,331] {env.py:433} WARNING - CPLE_NotSupported in driver GTiff does not support creation option COUNT\n",
      "[2021-03-16 23:31:41,332] {env.py:433} WARNING - CPLE_NotSupported in driver GTiff does not support creation option DTYPE\n",
      "[2021-03-16 23:31:41,332] {env.py:433} WARNING - CPLE_NotSupported in driver GTiff does not support creation option CRS\n",
      "[2021-03-16 23:31:41,333] {env.py:433} WARNING - CPLE_NotSupported in driver GTiff does not support creation option TRANSFORM\n",
      "[2021-03-16 23:31:43,244] {merge_tifs_to_ds.py:191} INFO - collecting the stac json and write out.\n",
      "[2021-03-16 23:31:43,299] {<ipython-input-2-313edbf98f4f>:60} INFO - time used 2.2140\n",
      "[2021-03-16 23:31:43,308] {<ipython-input-2-313edbf98f4f>:54} INFO - proessing tiles for task /g/data/u23/data/crop_mask_eastern/v0.1.5/x+048/y+010/*.\n",
      "[2021-03-16 23:31:51,865] {__init__.py:221} WARNING - CPLE_AppDefined in No UNIDATA NC_GLOBAL:Conventions attribute\n",
      "[2021-03-16 23:32:00,499] {__init__.py:221} WARNING - CPLE_AppDefined in No UNIDATA NC_GLOBAL:Conventions attribute\n",
      "   predicting...\n",
      "   probabilities...\n",
      "[2021-03-16 23:32:10,338] {merge_tifs_to_ds.py:141} INFO - ... Dask computing ...\n",
      "[2021-03-16 23:32:17,509] {merge_tifs_to_ds.py:177} INFO - collecting mask and write cog.\n",
      "[2021-03-16 23:33:02,921] {env.py:433} WARNING - CPLE_NotSupported in driver GTiff does not support creation option WIDTH\n",
      "[2021-03-16 23:33:02,924] {env.py:433} WARNING - CPLE_NotSupported in driver GTiff does not support creation option HEIGHT\n",
      "[2021-03-16 23:33:02,924] {env.py:433} WARNING - CPLE_NotSupported in driver GTiff does not support creation option COUNT\n",
      "[2021-03-16 23:33:02,925] {env.py:433} WARNING - CPLE_NotSupported in driver GTiff does not support creation option DTYPE\n",
      "[2021-03-16 23:33:02,926] {env.py:433} WARNING - CPLE_NotSupported in driver GTiff does not support creation option CRS\n",
      "[2021-03-16 23:33:02,926] {env.py:433} WARNING - CPLE_NotSupported in driver GTiff does not support creation option TRANSFORM\n",
      "[2021-03-16 23:33:03,287] {merge_tifs_to_ds.py:184} INFO - collecting prob and write cog.\n",
      "[2021-03-16 23:33:42,460] {env.py:433} WARNING - CPLE_NotSupported in driver GTiff does not support creation option WIDTH\n",
      "[2021-03-16 23:33:42,461] {env.py:433} WARNING - CPLE_NotSupported in driver GTiff does not support creation option HEIGHT\n",
      "[2021-03-16 23:33:42,462] {env.py:433} WARNING - CPLE_NotSupported in driver GTiff does not support creation option COUNT\n",
      "[2021-03-16 23:33:42,462] {env.py:433} WARNING - CPLE_NotSupported in driver GTiff does not support creation option DTYPE\n",
      "[2021-03-16 23:33:42,463] {env.py:433} WARNING - CPLE_NotSupported in driver GTiff does not support creation option CRS\n",
      "[2021-03-16 23:33:42,463] {env.py:433} WARNING - CPLE_NotSupported in driver GTiff does not support creation option TRANSFORM\n",
      "[2021-03-16 23:33:48,333] {merge_tifs_to_ds.py:191} INFO - collecting the stac json and write out.\n",
      "[2021-03-16 23:33:48,370] {<ipython-input-2-313edbf98f4f>:60} INFO - time used 2.0843\n"
     ]
    }
   ],
   "source": [
    "def get_max_mem() -> int:\n",
    "    \"\"\"\n",
    "    Max available memory, takes into account pod resource allocation\n",
    "    \"\"\"\n",
    "    total = psutil.virtual_memory().total\n",
    "    mem_quota = get_mem_quota()\n",
    "    if mem_quota is None:\n",
    "        return total\n",
    "    return min(mem_quota, total)\n",
    "\n",
    "\n",
    "def get_max_cpu() -> int:\n",
    "    \"\"\"\n",
    "    Max available CPU (rounded up if fractional), takes into account pod\n",
    "    resource allocation\n",
    "    \"\"\"\n",
    "    ncpu = get_cpu_quota()\n",
    "    if ncpu is not None:\n",
    "        return int(math.ceil(ncpu))\n",
    "    return psutil.cpu_count()\n",
    "\n",
    "\n",
    "setup_logging()\n",
    "\n",
    "_log = logging.getLogger(__name__)\n",
    "\n",
    "nthreads = get_max_cpu()\n",
    "memory_limit = get_max_mem()\n",
    "\n",
    "with open(\"/home/jovyan/wa/u23/notebooks/s2_tiles_eastern_aez_tasks.json\") as fhin:\n",
    "    tasks = json.load(fhin)\n",
    "\n",
    "output_fld = osp.join(\n",
    "    FeaturePathConfig.DATA_PATH,\n",
    "    FeaturePathConfig.product.name,\n",
    "    FeaturePathConfig.product.version,\n",
    ")\n",
    "\n",
    "\n",
    "# manually add tasks\n",
    "tasks = [\"x+029/y+000/2019-P6M\", \"x+048/y+010\"]\n",
    "\n",
    "with LocalCluster() as cluster:\n",
    "    with Client(cluster) as client:\n",
    "        worker = PredictFromFeature(client=client)\n",
    "        for task in tasks:\n",
    "            tile_indx = \"/\".join(task.split(\"/\")[:2])\n",
    "\n",
    "            file_prefix = f\"{tile_indx}\"\n",
    "            output_path = osp.join(output_fld, file_prefix, \"*\")\n",
    "            if glob.glob(output_path):\n",
    "                _log.warning(f\"tile {output_path} is done already. Skipping...\")\n",
    "                continue\n",
    "            _log.info(f\"proessing tiles for task {output_path}.\")\n",
    "\n",
    "            t0 = time.time()\n",
    "            worker.run(task)\n",
    "            t1 = time.time()\n",
    "            wall_time = (t1 - t0) / 60\n",
    "            _log.info(f\"time used {wall_time:.4f}\")"
   ]
  }
 ],
 "metadata": {
  "kernelspec": {
   "display_name": "Python 3",
   "language": "python",
   "name": "python3"
  },
  "language_info": {
   "codemirror_mode": {
    "name": "ipython",
    "version": 3
   },
   "file_extension": ".py",
   "mimetype": "text/x-python",
   "name": "python",
   "nbconvert_exporter": "python",
   "pygments_lexer": "ipython3",
   "version": "3.6.9"
  }
 },
 "nbformat": 4,
 "nbformat_minor": 4
}
