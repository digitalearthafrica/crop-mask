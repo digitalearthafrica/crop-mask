{
 "cells": [
  {
   "cell_type": "markdown",
   "metadata": {},
   "source": [
    "## Import libaries"
   ]
  },
  {
   "cell_type": "code",
   "execution_count": null,
   "metadata": {},
   "outputs": [],
   "source": [
    "from dea_ml import run_predictions\n",
    "from dea_ml import generate_tasks_from_geojson"
   ]
  },
  {
   "cell_type": "markdown",
   "metadata": {},
   "source": [
    "## Analysis Params\n"
   ]
  },
  {
   "cell_type": "code",
   "execution_count": null,
   "metadata": {},
   "outputs": [],
   "source": [
    "tile_geojson=\"s2_tiles_eastern_aez.geojson\"\n",
    "\n",
    "#from the notebooks\n",
    "ml_model = 'gm_mads.joblib'\n",
    "\n",
    "#edit this outside the notebook and import\n",
    "config_stuff = 'config.yml'"
   ]
  },
  {
   "cell_type": "markdown",
   "metadata": {},
   "source": [
    "## Generate 'tasks'\n"
   ]
  },
  {
   "cell_type": "code",
   "execution_count": null,
   "metadata": {},
   "outputs": [],
   "source": [
    "tasks = generate_tasks_from_geojson(geojson=tile_geojson)"
   ]
  },
  {
   "cell_type": "markdown",
   "metadata": {},
   "source": [
    "## Define feature layer and post process functions\n",
    "\n",
    "Or import a python file is preferred"
   ]
  },
  {
   "cell_type": "code",
   "execution_count": null,
   "metadata": {},
   "outputs": [],
   "source": [
    "def custom_feature_function():\n",
    "    gms=dc.load('6month geomedian)\n",
    "    slope=dc.load('slope')\n",
    "    etc.\n",
    "    return ds\n",
    "                \n",
    "def post_process(predict_ds):\n",
    "    wofs=dc.load(wofs)\n",
    "    ds =predict_ds.where(~wofs)\n",
    "    etc.\n",
    "    return da\n",
    "                "
   ]
  },
  {
   "cell_type": "markdown",
   "metadata": {},
   "source": [
    "## Run predictions"
   ]
  },
  {
   "cell_type": "code",
   "execution_count": null,
   "metadata": {},
   "outputs": [],
   "source": [
    "with LocalCluster() as cluster:\n",
    "    with Client(cluster) as client:\n",
    "        \n",
    "        run_predictions(feature_function=custom_feature_function,\n",
    "                       model=ml_model,\n",
    "                       post_process_func=post_process,\n",
    "                       config=config_stuff)"
   ]
  },
  {
   "cell_type": "markdown",
   "metadata": {},
   "source": [
    "## Either in this notebook or a seperate one, do the next steps: \n",
    "\n",
    "1. Database building\n",
    "2. AWS syncing to S3\n",
    "\n",
    "For command line operations in a notebook we can run commands using magic:\n",
    "        \n",
    "        e.g. !aws s3 mb s3://deafrica-data-dev-af --endpoint-url=htp://192.168.0.19:4566"
   ]
  }
 ],
 "metadata": {
  "kernelspec": {
   "display_name": "Python 3",
   "language": "python",
   "name": "python3"
  },
  "language_info": {
   "codemirror_mode": {
    "name": "ipython",
    "version": 3
   },
   "file_extension": ".py",
   "mimetype": "text/x-python",
   "name": "python",
   "nbconvert_exporter": "python",
   "pygments_lexer": "ipython3",
   "version": "3.6.9"
  }
 },
 "nbformat": 4,
 "nbformat_minor": 4
}
