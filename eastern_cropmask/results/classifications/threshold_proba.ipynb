{
 "cells": [
  {
   "cell_type": "markdown",
   "metadata": {},
   "source": [
    "## Testing thresholding probabilities to reduce false positives"
   ]
  },
  {
   "cell_type": "code",
   "execution_count": 1,
   "metadata": {},
   "outputs": [],
   "source": [
    "import os\n",
    "import datacube\n",
    "import numpy as np\n",
    "import xarray as xr\n",
    "import matplotlib.pyplot as plt\n",
    "from datacube.utils.cog import write_cog\n",
    "from datacube.utils.geometry import assign_crs"
   ]
  },
  {
   "cell_type": "code",
   "execution_count": 2,
   "metadata": {},
   "outputs": [],
   "source": [
    "prob_folder = 'proba/20201123/'\n",
    "pred_folder = 'predicted/20201123/'\n",
    "output_folder = 'proba/20201123_threshold/'"
   ]
  },
  {
   "cell_type": "code",
   "execution_count": 3,
   "metadata": {},
   "outputs": [],
   "source": [
    "prob = os.listdir(prob_folder)\n",
    "prob.sort()\n",
    "pred = os.listdir(pred_folder)\n",
    "pred.sort()"
   ]
  },
  {
   "cell_type": "code",
   "execution_count": 5,
   "metadata": {},
   "outputs": [
    {
     "name": "stdout",
     "output_type": "stream",
     "text": [
      "A-16\n",
      "B-14\n",
      "B-17\n",
      "B-19\n",
      "C-13\n",
      "C-20\n",
      "D-13\n",
      "D-15\n",
      "D-16\n",
      "D-17\n",
      "D-20\n",
      "D-9_\n",
      "E-11\n",
      "E-14\n",
      "E-16\n",
      "E-18\n",
      "E-20\n",
      "E-6_\n",
      "E-7_\n",
      "F-12\n",
      "F-15\n",
      "F-9_\n",
      "G-15\n",
      "G-5_\n",
      "G-7_\n",
      "G-8_\n",
      "G-9_\n",
      "H-8_\n",
      "J-9_\n"
     ]
    }
   ],
   "source": [
    "for s,t in zip(pred,prob):\n",
    "    print(t[13:17])\n",
    "    prediction = xr.open_rasterio(pred_folder+s)\n",
    "    probabilites = xr.open_rasterio(prob_folder+t)\n",
    "    crop=probabilites.where(prediction==1)\n",
    "    out=xr.where(crop>0.7, 1, 0).astype(np.uint8)\n",
    "    out=assign_crs(out, crs=prediction.geobox.crs)\n",
    "    \n",
    "    write_cog(out,\n",
    "          fname=output_folder+t[:-4]+'_70_threshold.tif',\n",
    "          overwrite=True)"
   ]
  },
  {
   "cell_type": "code",
   "execution_count": null,
   "metadata": {},
   "outputs": [],
   "source": [
    "# prediction = xr.open_rasterio(pred_folder+pred[22])\n",
    "# probabilites = xr.open_rasterio(prob_folder+prob[22])\n",
    "# crop=probabilites.where(prediction==1)\n",
    "# out=xr.where(crop>0.70, 1, 0).astype(np.uint8)"
   ]
  },
  {
   "cell_type": "code",
   "execution_count": null,
   "metadata": {},
   "outputs": [],
   "source": []
  }
 ],
 "metadata": {
  "kernelspec": {
   "display_name": "Python 3",
   "language": "python",
   "name": "python3"
  },
  "language_info": {
   "codemirror_mode": {
    "name": "ipython",
    "version": 3
   },
   "file_extension": ".py",
   "mimetype": "text/x-python",
   "name": "python",
   "nbconvert_exporter": "python",
   "pygments_lexer": "ipython3",
   "version": "3.6.9"
  }
 },
 "nbformat": 4,
 "nbformat_minor": 4
}
