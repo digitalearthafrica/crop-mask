{
 "cells": [
  {
   "cell_type": "markdown",
   "metadata": {},
   "source": [
    "# Object-based filtering of pixel classifications <img align=\"right\" src=\"../figs/DE_Africa_Logo_Stacked_RGB_small.jpg\">\n",
    "\n",
    "\n"
   ]
  },
  {
   "cell_type": "markdown",
   "metadata": {},
   "source": [
    "## Background\n",
    "\n",
    "Geographic Object-Based Image Analysis (GEOBIA), which aims to group pixels together into meaningful image-objects. There are two advantages to a GEOBIA worklow; one, we can reduce the 'salt and pepper' effect typical of classifying pixels; and two, we can increase the computational efficiency of our workflow by grouping pixels into fewer, larger, but meaningful objects. A review of the emerging trends in GEOBIA can be found in [Chen et al. (2017)](https://www.tandfonline.com/doi/abs/10.1080/15481603.2018.1426092)."
   ]
  },
  {
   "cell_type": "markdown",
   "metadata": {},
   "source": [
    "## Description\n",
    "\n",
    "In this notebook, we take the pixel-based classifications generated in the `4_Predict.ipynb` notebook, and filter the classifications by image-objects. To do this, we first need to conduct image segmentation using the function `rsgislib.segmentation.runShepherdSegmentation`. This image sgementation algorithm is fast and scalable.  The image segmentation is conducted on the `NDVI_S1` and `NDVI_S2` layers (NDVI season 1, NDVI season 2).\n",
    "To filter the pixel observations, we assign to each segment the majority (mode) pixel classification. \n",
    "\n",
    "1. Load the NDVI_S1 and NDVI_S2 layers\n",
    "2. Convert the NDVI layers to a .kea file format (a requirement for RSGSISLIB)\n",
    "3. Run the image segmentation\n",
    "4. Calculate the mode statistic for each segment\n",
    "5. Write the new object-based classification to disk as COG"
   ]
  },
  {
   "cell_type": "markdown",
   "metadata": {},
   "source": [
    "***\n",
    "## Getting started\n",
    "\n",
    "To run this analysis, run all the cells in the notebook, starting with the \"Load packages\" cell. "
   ]
  },
  {
   "cell_type": "markdown",
   "metadata": {},
   "source": [
    "### Load Packages"
   ]
  },
  {
   "cell_type": "code",
   "execution_count": null,
   "metadata": {},
   "outputs": [],
   "source": [
    "import os\n",
    "import sys\n",
    "import gdal\n",
    "import shutil\n",
    "import xarray as xr\n",
    "import numpy as np\n",
    "import geopandas as gpd\n",
    "import subprocess as sp\n",
    "from datacube.utils.cog import write_cog\n",
    "from rsgislib.segmentation import segutils\n",
    "from scipy.ndimage.measurements import _stats\n",
    "\n",
    "sys.path.append('../../Scripts')\n",
    "from deafrica_classificationtools import HiddenPrints\n"
   ]
  },
  {
   "cell_type": "markdown",
   "metadata": {},
   "source": [
    "# Analysis Parameters"
   ]
  },
  {
   "cell_type": "code",
   "execution_count": null,
   "metadata": {},
   "outputs": [],
   "source": [
    "test_shapefile = 'data/eastern_testing_sites_2.geojson'\n",
    "\n",
    "results = 'results/classifications/'\n",
    "\n",
    "model_type='gm_mads_two_seasons_20210301'\n",
    "\n",
    "min_seg_size=100 #in number of pixels"
   ]
  },
  {
   "cell_type": "markdown",
   "metadata": {},
   "source": [
    "### Open testing tile shapefile"
   ]
  },
  {
   "cell_type": "code",
   "execution_count": null,
   "metadata": {},
   "outputs": [],
   "source": [
    "gdf = gpd.read_file(test_shapefile)"
   ]
  },
  {
   "cell_type": "markdown",
   "metadata": {},
   "source": [
    "## Image segmentation\n"
   ]
  },
  {
   "cell_type": "code",
   "execution_count": null,
   "metadata": {},
   "outputs": [],
   "source": [
    "%%time\n",
    "for g_id in gdf['GRID_ID'][2:3].values:\n",
    "    print('working on grid: ' + g_id)\n",
    "    \n",
    "    #store temp files somewhere\n",
    "    directory=results+'tmp_'+g_id\n",
    "    if not os.path.exists(directory):\n",
    "        os.mkdir(directory)\n",
    "    \n",
    "    tmp='tmp_'+g_id+'/'\n",
    "    \n",
    "    nc = results+'input/Eastern_tile_'+g_id+'_inputs.nc'\n",
    "    ds = xr.open_dataset(nc)\n",
    "    ds=ds[['NDVI_S1', 'NDVI_S2']]\n",
    "    write_cog(ds.to_array(), results+'Eastern_tile_'+g_id+'_NDVI.tif',overwrite=True)\n",
    "    \n",
    "    #inputs to image seg\n",
    "    tiff_to_segment = results+'Eastern_tile_'+g_id+'_NDVI.tif'\n",
    "    kea_file = results+'Eastern_tile_'+g_id+'_NDVI.kea'\n",
    "    segmented_kea_file = results+'Eastern_tile_'+g_id+'_segmented.kea'\n",
    "\n",
    "    #convert tiff to kea\n",
    "    gdal.Translate(destName=kea_file,\n",
    "                   srcDS=tiff_to_segment,\n",
    "                   format='KEA',\n",
    "                   outputSRS='EPSG:6933')\n",
    "    \n",
    "    #run image seg\n",
    "    print('   image segmentation...')\n",
    "    with HiddenPrints():\n",
    "        segutils.runShepherdSegmentation(inputImg=kea_file,\n",
    "                                             outputClumps=segmented_kea_file,\n",
    "                                             tmpath=results+tmp,\n",
    "                                             numClusters=60,\n",
    "                                             minPxls=min_seg_size)\n",
    "    \n",
    "    #open segments, and predictions\n",
    "    segments=xr.open_rasterio(segmented_kea_file).squeeze().values\n",
    "    t = results+ 'predicted/Eastern_tile_'+g_id+'_prediction_pixel_'+model_type+'.tif'\n",
    "    pred = xr.open_rasterio(t).squeeze().drop_vars('band')\n",
    "    \n",
    "    #calculate mode\n",
    "    print('   calculating mode...')\n",
    "    count, _sum =_stats(pred, labels=segments, index=segments)\n",
    "    mode = _sum > (count/2)\n",
    "    mode = xr.DataArray(mode,  coords=pred.coords, dims=pred.dims, attrs=pred.attrs).astype(np.int16)\n",
    "    \n",
    "    #write to disk\n",
    "    print('   writing to disk...')\n",
    "#     write_cog(mode, results+ 'predicted/Eastern_tile_'+g_id+'_prediction_object_'+model_type+'.tif', overwrite=True)\n",
    "    \n",
    "    #remove the tmp folder\n",
    "    shutil.rmtree(results+tmp)\n",
    "    os.remove(kea_file)\n",
    "    os.remove(segmented_kea_file)\n",
    "    os.remove(results+'Eastern_tile_'+g_id+'_NDVI.tif')"
   ]
  },
  {
   "cell_type": "code",
   "execution_count": null,
   "metadata": {},
   "outputs": [],
   "source": [
    "mode.plot(size=12);"
   ]
  },
  {
   "cell_type": "code",
   "execution_count": null,
   "metadata": {},
   "outputs": [],
   "source": [
    "pred.plot(size=12)"
   ]
  },
  {
   "cell_type": "markdown",
   "metadata": {},
   "source": [
    "## Next steps\n",
    "\n",
    "To continue working through the notebooks in this `Southern Africa Cropland Mask` workflow, go to the next notebook `6_Accuracy_assessment.ipynb`.\n",
    "\n",
    "1. [Extract_training_data](1_Extract_training_data.ipynb) \n",
    "2. [Inspect_training_data](2_Inspect_training_data.ipynb)\n",
    "3. [Train_fit_evaluate_classifier](3_Train_fit_evaluate_classifier.ipynb)\n",
    "4. [Predict](4_Predict.ipynb)\n",
    "5. **Object-based_filtering (this notebook)**\n",
    "6. [Accuracy_assessment](6_Accuracy_assessment.ipynb)"
   ]
  },
  {
   "cell_type": "markdown",
   "metadata": {},
   "source": [
    "***\n",
    "\n",
    "## Additional information\n",
    "\n",
    "**License:** The code in this notebook is licensed under the [Apache License, Version 2.0](https://www.apache.org/licenses/LICENSE-2.0). \n",
    "Digital Earth Africa data is licensed under the [Creative Commons by Attribution 4.0](https://creativecommons.org/licenses/by/4.0/) license.\n",
    "\n",
    "**Contact:** If you need assistance, please post a question on the [Open Data Cube Slack channel](http://slack.opendatacube.org/) or on the [GIS Stack Exchange](https://gis.stackexchange.com/questions/ask?tags=open-data-cube) using the `open-data-cube` tag (you can view previously asked questions [here](https://gis.stackexchange.com/questions/tagged/open-data-cube)).\n",
    "If you would like to report an issue with this notebook, you can file one on [Github](https://github.com/digitalearthafrica/deafrica-sandbox-notebooks).\n",
    "\n",
    "**Last modified:** Dec 2020\n"
   ]
  }
 ],
 "metadata": {
  "kernelspec": {
   "display_name": "Python 3",
   "language": "python",
   "name": "python3"
  },
  "language_info": {
   "codemirror_mode": {
    "name": "ipython",
    "version": 3
   },
   "file_extension": ".py",
   "mimetype": "text/x-python",
   "name": "python",
   "nbconvert_exporter": "python",
   "pygments_lexer": "ipython3",
   "version": "3.6.9"
  }
 },
 "nbformat": 4,
 "nbformat_minor": 4
}
