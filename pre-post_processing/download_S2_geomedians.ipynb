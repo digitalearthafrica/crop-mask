{
 "cells": [
  {
   "cell_type": "markdown",
   "metadata": {},
   "source": [
    "# Download Sentinel-2 Geomedians\n"
   ]
  },
  {
   "cell_type": "markdown",
   "metadata": {},
   "source": [
    "## Description\n",
    "\n",
    "Our partners in Africa require S2 basemaps to assist with gathering more training data for the crop-mask. This notebook will extract S2 semi-annual geomedians for an AEZ. The results should be downloaded an imported into a GIS platform for viewing\n",
    "\n",
    "\n",
    "***\n",
    "\n",
    "If dask worker memory limits are an issue, try adding this to the dask.distribute yaml:\n",
    "\n",
    "put below into `~/.config/dask/distributed.yaml`\n",
    "\n",
    "    distributed:\n",
    "      worker:\n",
    "        memory:\n",
    "          target: False  # Avoid spilling to disk\n",
    "          spill: False  # Avoid spilling to disk\n",
    "          pause: 0.93  # fraction at which we pause worker threads\n",
    "          terminate: 0.95  # fraction at which we terminate the worker\n",
    "\n",
    "\n",
    "Can check this has worked by running the following in a cell:\n",
    "\n",
    "`dask.config.config['distributed']['worker']['memory']`\n",
    "***"
   ]
  },
  {
   "cell_type": "markdown",
   "metadata": {},
   "source": [
    "### Load packages\n"
   ]
  },
  {
   "cell_type": "code",
   "execution_count": null,
   "metadata": {},
   "outputs": [],
   "source": [
    "# !pip install git+https://github.com/digitalearthafrica/deafrica-sandbox-notebooks.git@minty-fresh-sandbox#subdirectory=Tools"
   ]
  },
  {
   "cell_type": "code",
   "execution_count": null,
   "metadata": {},
   "outputs": [],
   "source": [
    "%matplotlib inline\n",
    "\n",
    "import xarray as xr\n",
    "import geopandas as gpd\n",
    "import numpy as np\n",
    "import datacube\n",
    "import dask\n",
    "from datacube.utils.cog import write_cog\n",
    "import matplotlib.pyplot as plt\n",
    "from datacube.utils import geometry\n",
    "\n",
    "from deafrica_tools.plotting import rgb, display_map, map_shapefile\n",
    "from deafrica_tools.dask import create_local_dask_cluster"
   ]
  },
  {
   "cell_type": "code",
   "execution_count": null,
   "metadata": {},
   "outputs": [],
   "source": [
    "create_local_dask_cluster()"
   ]
  },
  {
   "cell_type": "markdown",
   "metadata": {},
   "source": [
    "### Connect to the datacube"
   ]
  },
  {
   "cell_type": "code",
   "execution_count": null,
   "metadata": {},
   "outputs": [],
   "source": [
    "dc = datacube.Datacube(app='s2_gm')"
   ]
  },
  {
   "cell_type": "markdown",
   "metadata": {},
   "source": [
    "## Analysis Parameters"
   ]
  },
  {
   "cell_type": "code",
   "execution_count": null,
   "metadata": {},
   "outputs": [],
   "source": [
    "product='gm_s2_semiannual'\n",
    "aez_region = '../testing/southern_cropmask/data/Southern.shp'\n",
    "chunks={'x':2000,'y':2000}\n",
    "time_range=('2019')"
   ]
  },
  {
   "cell_type": "markdown",
   "metadata": {},
   "source": [
    "## View the Area of Interest on an Interactive map"
   ]
  },
  {
   "cell_type": "code",
   "execution_count": null,
   "metadata": {},
   "outputs": [],
   "source": [
    "aez = gpd.read_file(aez_region)\n",
    "\n",
    "map_shapefile(aez, attribute='COUNTRY')"
   ]
  },
  {
   "cell_type": "markdown",
   "metadata": {},
   "source": [
    "## Load Sentinel-2 semiannual GMs"
   ]
  },
  {
   "cell_type": "code",
   "execution_count": null,
   "metadata": {},
   "outputs": [],
   "source": [
    "# Create a reusable query\n",
    "query = {\n",
    "    'time': time_range,\n",
    "    'resolution': (-10, 10),\n",
    "    'measurements': ['red','green','blue'],\n",
    "    'output_crs': 'epsg:6933',\n",
    "    'dask_chunks':chunks,\n",
    "    'resampling':'average'\n",
    "}\n",
    "\n",
    "# set up query based on polygon (convert to WGS84)\n",
    "geom = geometry.Geometry(aez.geometry.values[0].__geo_interface__,\n",
    "                         geometry.CRS('epsg:4326'))\n",
    "\n",
    "# print(geom)\n",
    "q = {\"geopolygon\": geom}\n",
    "\n",
    "# merge polygon query with user supplied query params\n",
    "query.update(q)\n",
    "\n",
    "ds = dc.load(product=product, **query)\n",
    "# ds = ds.compute()\n",
    "print(ds)"
   ]
  },
  {
   "cell_type": "markdown",
   "metadata": {},
   "source": [
    "## Write RGB COG to disk"
   ]
  },
  {
   "cell_type": "code",
   "execution_count": null,
   "metadata": {},
   "outputs": [],
   "source": [
    "write_cog(ds.isel(time=0).to_array().compute(),\n",
    "          fname='s2_gm_jan_jun_2019.tif',\n",
    "          overwrite=True)"
   ]
  },
  {
   "cell_type": "code",
   "execution_count": null,
   "metadata": {},
   "outputs": [],
   "source": [
    "write_cog(ds.isel(time=1).to_array().compute(),\n",
    "          fname='s2_gm_jul_dec_2019.tif',\n",
    "          overwrite=True)"
   ]
  }
 ],
 "metadata": {
  "kernelspec": {
   "display_name": "Python 3",
   "language": "python",
   "name": "python3"
  },
  "language_info": {
   "codemirror_mode": {
    "name": "ipython",
    "version": 3
   },
   "file_extension": ".py",
   "mimetype": "text/x-python",
   "name": "python",
   "nbconvert_exporter": "python",
   "pygments_lexer": "ipython3",
   "version": "3.6.9"
  },
  "widgets": {
   "application/vnd.jupyter.widget-state+json": {
    "state": {},
    "version_major": 2,
    "version_minor": 0
   }
  }
 },
 "nbformat": 4,
 "nbformat_minor": 4
}
