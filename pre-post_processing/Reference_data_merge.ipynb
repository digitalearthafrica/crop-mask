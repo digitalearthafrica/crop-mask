{
 "cells": [
  {
   "cell_type": "code",
   "execution_count": null,
   "id": "a0943017-8e2a-427d-bf6d-bb82eb185225",
   "metadata": {},
   "outputs": [],
   "source": [
    "import geopandas as gpd\n",
    "import pandas as pd"
   ]
  },
  {
   "cell_type": "markdown",
   "id": "5a3e2ed8-1642-45f9-a29a-8e22447fc4bd",
   "metadata": {},
   "source": [
    "## Continental Training Data"
   ]
  },
  {
   "cell_type": "code",
   "execution_count": null,
   "id": "1fe6eb45-120f-42f4-91cb-3519668f8113",
   "metadata": {},
   "outputs": [],
   "source": [
    "a=gpd.read_file('../testing/eastern_cropmask/data/Eastern_training_data_20210427.geojson')\n",
    "b=gpd.read_file('../testing/central_cropmask/data/ceo_td_polys.geojson')\n",
    "c=gpd.read_file('../testing/indian_ocean_cropmask/data/ceo_td_polys.geojson')\n",
    "d=gpd.read_file('../testing/northern_cropmask/data/northern_training_data_20210803.geojson')\n",
    "e=gpd.read_file('../testing/sahel_cropmask/data/sahel_training_data_20211110.geojson')\n",
    "f=gpd.read_file('../testing/southeast_cropmask/data/Southeast_training_data_20211022.geojson')\n",
    "g=gpd.read_file('../testing/southern_cropmask/data/Southern_training_data_20211108.geojson')\n",
    "h=gpd.read_file('../testing/western_cropmask/data/Western_training_data_20210609.geojson')\n"
   ]
  },
  {
   "cell_type": "code",
   "execution_count": null,
   "id": "2d9131f0-e550-47a9-9b5c-bf451f3f81cd",
   "metadata": {},
   "outputs": [],
   "source": [
    "b['Class'] = b['Class'].astype(int)\n",
    "c['Class'] = c['Class'].astype(int)"
   ]
  },
  {
   "cell_type": "code",
   "execution_count": null,
   "id": "0d4abd06-8526-4cfe-9db5-94207373931d",
   "metadata": {},
   "outputs": [],
   "source": [
    "training_data = pd.concat([a,b,c,d,e,f,g,h]).drop(['smpl_class','ID','CODE','COUNTRY'],axis=1)"
   ]
  },
  {
   "cell_type": "code",
   "execution_count": null,
   "id": "05939521-1554-4d47-8449-3206317b8ad3",
   "metadata": {},
   "outputs": [],
   "source": [
    "print('No. of samples: '+str(len(training_data)))\n",
    "print('Crop samples = '+str(len(training_data[training_data['Class']==1])))\n",
    "print('Non-Crop samples = '+str(len(training_data[training_data['Class']==0])))"
   ]
  },
  {
   "cell_type": "code",
   "execution_count": null,
   "id": "da6a1f60-ec31-416b-81cb-36b8c6618440",
   "metadata": {},
   "outputs": [],
   "source": [
    "training_data['geometry'] = training_data['geometry'].representative_point()"
   ]
  },
  {
   "cell_type": "code",
   "execution_count": null,
   "id": "a77ccb98-289b-4e58-be36-4ae74a6c180b",
   "metadata": {},
   "outputs": [],
   "source": [
    "training_data.to_file('crop_training_data_continental_20211129.shp')"
   ]
  },
  {
   "cell_type": "code",
   "execution_count": null,
   "id": "da9597c4-3a63-4303-abc2-b35bc066a916",
   "metadata": {},
   "outputs": [],
   "source": [
    "x.explore(column='Class')"
   ]
  },
  {
   "cell_type": "markdown",
   "id": "cf5a5329-9946-4471-8120-6f7f259edd9f",
   "metadata": {},
   "source": [
    "## Continental Validation Data"
   ]
  },
  {
   "cell_type": "code",
   "execution_count": null,
   "id": "cfde3121-a3fd-46da-856c-ba570ef6b34c",
   "metadata": {},
   "outputs": [],
   "source": [
    "a=gpd.read_file('eastern_cropmask/data/validation_samples.shp')\n",
    "b=gpd.read_file('central_cropmask/data/validation_samples.shp')\n",
    "c=gpd.read_file('indian_ocean_cropmask/data/validation_samples.shp')\n",
    "d=gpd.read_file('northern_cropmask/data/validation_samples.shp')\n",
    "e=gpd.read_file('sahel_cropmask/data/validation_samples.shp')\n",
    "# f=gpd.read_file('southeast_cropmask/data/validation_samples.shp')\n",
    "g=gpd.read_file('southern_cropmask/data/validation_samples.shp')\n",
    "h=gpd.read_file('western_cropmask/data/validation_samples.shp')"
   ]
  },
  {
   "cell_type": "code",
   "execution_count": null,
   "id": "0a586ce6-261c-4003-ba6a-52f8aa9e3067",
   "metadata": {},
   "outputs": [],
   "source": [
    "val_data = pd.concat([a,b,c,d,e,g,h]).drop(['LON', 'LAT', 'SMPL_SAMPL', 'SMPL_GFSAD', 'lon',\n",
    "       'lat', 'smpl_sampl', 'smpl_gfsad', 'smpl_class'], axis=1)"
   ]
  },
  {
   "cell_type": "code",
   "execution_count": null,
   "id": "1ddc82fe-53b3-47bc-a25a-f244a42e3190",
   "metadata": {},
   "outputs": [],
   "source": [
    "print('No. of samples: '+str(len(val_data)))\n",
    "print('Crop samples = '+str(len(val_data[val_data['Class']=='crop'])))\n",
    "print('Non-Crop samples = '+str(len(val_data[val_data['Class']=='non-crop'])))"
   ]
  },
  {
   "cell_type": "code",
   "execution_count": null,
   "id": "b9109cc4-ca4c-473a-a338-f384bec50ca0",
   "metadata": {},
   "outputs": [],
   "source": [
    "val_data.to_file('crop_validation_data_continental_20211129.shp')"
   ]
  },
  {
   "cell_type": "code",
   "execution_count": null,
   "id": "250674fd-8821-4ce6-9c1e-13d414eb04e4",
   "metadata": {},
   "outputs": [],
   "source": [
    "val_data.explore(column='Class', cmap='viridis')"
   ]
  },
  {
   "cell_type": "code",
   "execution_count": null,
   "id": "af099494-aaf0-42a2-8588-18b22df610f7",
   "metadata": {},
   "outputs": [],
   "source": []
  }
 ],
 "metadata": {
  "kernelspec": {
   "display_name": "Python 3 (ipykernel)",
   "language": "python",
   "name": "python3"
  },
  "language_info": {
   "codemirror_mode": {
    "name": "ipython",
    "version": 3
   },
   "file_extension": ".py",
   "mimetype": "text/x-python",
   "name": "python",
   "nbconvert_exporter": "python",
   "pygments_lexer": "ipython3",
   "version": "3.8.10"
  }
 },
 "nbformat": 4,
 "nbformat_minor": 5
}
