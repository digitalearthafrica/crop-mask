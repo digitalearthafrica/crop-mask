{
 "cells": [
  {
   "cell_type": "code",
   "execution_count": 1,
   "metadata": {},
   "outputs": [],
   "source": [
    "import warnings\n",
    "warnings.filterwarnings(\"ignore\")\n",
    "import geopandas as gpd\n",
    "import pandas as pd\n",
    "import numpy as np\n",
    "import datacube\n",
    "import xarray as xr\n",
    "import sys\n",
    "\n",
    "from deafrica_tools.spatial import xr_rasterize\n",
    "from deafrica_tools.dask import create_local_dask_cluster\n",
    "from deafrica_tools.classification import HiddenPrints"
   ]
  },
  {
   "cell_type": "code",
   "execution_count": null,
   "metadata": {},
   "outputs": [],
   "source": [
    "create_local_dask_cluster()"
   ]
  },
  {
   "cell_type": "markdown",
   "metadata": {},
   "source": [
    "\n",
    "## Cropped area"
   ]
  },
  {
   "cell_type": "markdown",
   "metadata": {},
   "source": [
    "### Total for AEZ"
   ]
  },
  {
   "cell_type": "code",
   "execution_count": 2,
   "metadata": {},
   "outputs": [],
   "source": [
    "cropmask=xr.open_rasterio('../testing/eastern_cropmask/results/classifications/20210427/Eastern_gm_mads_two_seasons_20210427_mosaic_clipped_WDPA_masked.tif',\n",
    "                         chunks={'x':10000, 'y':10000})\n",
    "\n",
    "cropmask = cropmask.persist()"
   ]
  },
  {
   "cell_type": "code",
   "execution_count": 3,
   "metadata": {},
   "outputs": [],
   "source": [
    "pixel_length = 20  # in metres\n",
    "m_per_km = 1000  # conversion from metres to kilometres\n",
    "area_per_pixel = pixel_length**2 / m_per_km**2"
   ]
  },
  {
   "cell_type": "code",
   "execution_count": null,
   "metadata": {},
   "outputs": [],
   "source": [
    "total_area = cropmask.sum(dim=['x', 'y']) * area_per_pixel"
   ]
  },
  {
   "cell_type": "code",
   "execution_count": null,
   "metadata": {},
   "outputs": [],
   "source": [
    "total_area = total_area.compute()"
   ]
  },
  {
   "cell_type": "code",
   "execution_count": null,
   "metadata": {},
   "outputs": [],
   "source": [
    "print(round(float(total_area.values),2), ' km2')\n",
    "print(round(float(total_area.values*100/1e6),2), ' Mha')"
   ]
  },
  {
   "cell_type": "markdown",
   "metadata": {},
   "source": [
    "### Area per country"
   ]
  },
  {
   "cell_type": "code",
   "execution_count": 4,
   "metadata": {},
   "outputs": [],
   "source": [
    "afr = gpd.read_file('data/african_countries.shp')\n",
    "afr = afr.to_crs('epsg:6933')"
   ]
  },
  {
   "cell_type": "code",
   "execution_count": 5,
   "metadata": {},
   "outputs": [],
   "source": [
    "e = afr[afr['COUNTRY'] == 'Ethiopia']\n",
    "t = afr[afr['COUNTRY'] == 'Tanzania']\n",
    "k = afr[afr['COUNTRY'] == 'Kenya']\n",
    "u = afr[afr['COUNTRY'] == 'Uganda']\n",
    "r = afr[afr['COUNTRY'] == 'Rwanda']\n",
    "b = afr[afr['COUNTRY'] == 'Burundi']\n",
    "\n",
    "countries = [e,t,k,u,r,b]"
   ]
  },
  {
   "cell_type": "code",
   "execution_count": 6,
   "metadata": {},
   "outputs": [
    {
     "name": "stdout",
     "output_type": "stream",
     "text": [
      "Eth\n",
      "[225358.72]\n",
      "Tan\n",
      "[204872.86]\n",
      "Ken\n",
      "[74023.73]\n",
      "Uga\n",
      "[91396.96]\n",
      "Rwa\n",
      "[10965.645]\n",
      "Bur\n",
      "[11970.417]\n"
     ]
    }
   ],
   "source": [
    "areas={}\n",
    "for country in countries:\n",
    "    #make sure we have 1 polygon per country\n",
    "    country['agg'] = 1     \n",
    "    c=country.dissolve(by='agg',  aggfunc='sum')\n",
    "    print(c['COUNTRY'].values[0][0:3])\n",
    "    \n",
    "    #create mask\n",
    "    with HiddenPrints():\n",
    "        mask = xr_rasterize(c,cropmask)\n",
    "    mask = mask.chunk({'x':10000, 'y':10000})\n",
    "    ds = cropmask.where(mask).astype('float32')\n",
    "    \n",
    "    area = ds.sum(dim=['x', 'y']) * area_per_pixel\n",
    "    area = area.compute()\n",
    "    print(area.values)\n",
    "    \n",
    "    areas[c['COUNTRY'].values[0][0:3]] = area.values\n",
    "    \n",
    "    del ds"
   ]
  },
  {
   "cell_type": "code",
   "execution_count": 7,
   "metadata": {},
   "outputs": [
    {
     "name": "stdout",
     "output_type": "stream",
     "text": [
      "Eth 22.54  Mha\n",
      "Tan 20.49  Mha\n",
      "Ken 7.4  Mha\n",
      "Uga 9.14  Mha\n",
      "Rwa 1.1  Mha\n",
      "Bur 1.2  Mha\n"
     ]
    }
   ],
   "source": [
    "for key,value in areas.items():\n",
    "    print(key, round(value[0]*100/1e6,2), ' Mha')"
   ]
  },
  {
   "cell_type": "markdown",
   "metadata": {},
   "source": [
    "## Plotting all reference data"
   ]
  },
  {
   "cell_type": "markdown",
   "metadata": {},
   "source": [
    "### Validation"
   ]
  },
  {
   "cell_type": "code",
   "execution_count": null,
   "metadata": {},
   "outputs": [],
   "source": [
    "c=gpd.read_file('../central_cropmask/data/validation_samples.shp')\n",
    "e=gpd.read_file('../eastern_cropmask/data/validation_samples.shp')\n",
    "i=gpd.read_file('../indian_ocean_cropmask/data/validation_samples.shp')\n",
    "n=gpd.read_file('../northern_cropmask/data/validation_samples.shp')\n",
    "sa=gpd.read_file('../sahel_cropmask/data/validation_samples.shp')\n",
    "so=gpd.read_file('../southern_cropmask/data/validation_samples.shp')\n",
    "w=gpd.read_file('../western_cropmask/data/validation_samples.shp')\n",
    "\n",
    "val = pd.concat([c,e,i,n,sa,so,w]).reset_index(drop=True)"
   ]
  },
  {
   "cell_type": "code",
   "execution_count": null,
   "metadata": {},
   "outputs": [],
   "source": [
    "print('non-crop length: '+str(len(val[val['Class']=='non-crop'])))\n",
    "print('crop length: '+str(len(val[val['Class']=='crop'])))"
   ]
  },
  {
   "cell_type": "code",
   "execution_count": null,
   "metadata": {},
   "outputs": [],
   "source": [
    "val.plot(column='Class', figsize=(12,9), cmap='BrBG_r')"
   ]
  },
  {
   "cell_type": "code",
   "execution_count": null,
   "metadata": {},
   "outputs": [],
   "source": [
    "val.to_file('crop_training_africa_20210329.shp')"
   ]
  },
  {
   "cell_type": "markdown",
   "metadata": {},
   "source": [
    "### Training"
   ]
  },
  {
   "cell_type": "code",
   "execution_count": null,
   "metadata": {},
   "outputs": [],
   "source": [
    "c=gpd.read_file('../central_cropmask/data/ceo_td_polys.geojson')\n",
    "e=gpd.read_file('../eastern_cropmask/data/Eastern_training_data_20210301.geojson')\n",
    "i=gpd.read_file('../indian_ocean_cropmask/data/Indian_ocean_training_data_20210115.geojson')\n",
    "n=gpd.read_file('../northern_cropmask/data/ceo_td_polys.geojson')\n",
    "sa=gpd.read_file('../sahel_cropmask/data/ceo_td_polys.geojson')\n",
    "so=gpd.read_file('../southern_cropmask/data/ceo_td_polys.geojson')\n",
    "w=gpd.read_file('../western_cropmask/data/ceo_td_polys.geojson')\n",
    "\n",
    "td = pd.concat([c,e,i,n,sa,so,w]).reset_index(drop=True)"
   ]
  },
  {
   "cell_type": "code",
   "execution_count": null,
   "metadata": {},
   "outputs": [],
   "source": [
    "td = td.to_crs('epsg:6933')\n",
    "td['geometry'] = td['geometry'].centroid\n",
    "td = td.to_crs('epsg:4326')"
   ]
  },
  {
   "cell_type": "code",
   "execution_count": null,
   "metadata": {},
   "outputs": [],
   "source": [
    "td['Class'] = np.where(td['Class']=='1', 'crop', td['Class'])\n",
    "td['Class'] = np.where(td['Class']=='0', 'non-crop', td['Class'])\n",
    "\n",
    "td['Class'] = np.where(td['Class']==1, 'crop', td['Class'])\n",
    "td['Class'] = np.where(td['Class']==0, 'non-crop', td['Class'])"
   ]
  },
  {
   "cell_type": "code",
   "execution_count": null,
   "metadata": {},
   "outputs": [],
   "source": [
    "print('non-crop length: '+str(len(td[td['Class']=='non-crop'])))\n",
    "print('crop length: '+str(len(td[td['Class']=='crop'])))"
   ]
  },
  {
   "cell_type": "code",
   "execution_count": null,
   "metadata": {},
   "outputs": [],
   "source": [
    "td['Class'].unique()"
   ]
  },
  {
   "cell_type": "code",
   "execution_count": null,
   "metadata": {},
   "outputs": [],
   "source": [
    "td.plot(column='Class', figsize=(12,9), cmap='BrBG_r', markersize =0.9)"
   ]
  },
  {
   "cell_type": "code",
   "execution_count": null,
   "metadata": {},
   "outputs": [],
   "source": [
    "td.to_file('crop_validation_africa_20210329.shp')"
   ]
  },
  {
   "cell_type": "code",
   "execution_count": null,
   "metadata": {},
   "outputs": [],
   "source": []
  }
 ],
 "metadata": {
  "kernelspec": {
   "display_name": "Python 3",
   "language": "python",
   "name": "python3"
  },
  "language_info": {
   "codemirror_mode": {
    "name": "ipython",
    "version": 3
   },
   "file_extension": ".py",
   "mimetype": "text/x-python",
   "name": "python",
   "nbconvert_exporter": "python",
   "pygments_lexer": "ipython3",
   "version": "3.6.9"
  }
 },
 "nbformat": 4,
 "nbformat_minor": 4
}
