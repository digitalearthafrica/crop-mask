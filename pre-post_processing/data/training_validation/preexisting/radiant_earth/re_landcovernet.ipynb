{
 "cells": [
  {
   "cell_type": "markdown",
   "metadata": {},
   "source": [
    "<img src='https://radiant-assets.s3-us-west-2.amazonaws.com/PrimaryRadiantMLHubLogo.png' alt='Radiant MLHub Logo' width='300'/>\n",
    "\n",
    "How to use the Radiant MLHub API to browse and download the LandCoverNet dataset\n",
    "=====\n",
    "\n",
    "This Jupyter notebook, which you may copy and adapt for any use, shows basic examples of how to use the API to download labels and source imagery for the LandCoverNet dataset. Full documentation for the API is available at [docs.mlhub.earth](http://docs.mlhub.earth).\n",
    "\n",
    "We'll show you how to set up your authorization, list collection properties, and retrieve the items (the data contained within them) from those collections.\n",
    "\n",
    "Each item in our collection is explained in json format compliant with STAC label extension definition."
   ]
  },
  {
   "cell_type": "markdown",
   "metadata": {},
   "source": [
    "Citation\n",
    "====\n",
    "Alemohammad S.H., Ballantyne A., Bromberg Gaber Y., Booth K., Nakanuku-Diggs L., & Miglarese A.H. (2020) \"LandCoverNet: A Global Land Cover Classification Training Dataset\", Version 1.0, Radiant MLHub. \\[Date Accessed\\] [https://doi.org/10.34911/rdnt.d2ce8i](https://doi.org/10.34911/rdnt.d2ce8i)"
   ]
  },
  {
   "cell_type": "markdown",
   "metadata": {},
   "source": [
    "Authentication\n",
    "====\n",
    "\n",
    "Access to the Radiant MLHub API requires an access token. To get your access token, go to [dashboard.mlhub.earth](https://dashboard.mlhub.earth). If you have not used Radiant MLHub before, you will need to sign up and create a new account. Otherwise, sign in. Under **Usage**, you'll see your access token, which you will need. Do not share your access token with others: your usage may be limited and sharing your access token is a security risk.\n",
    "\n",
    "Copy the access token, and paste it in the box bellow. This header block will work for all API calls.\n",
    "\n",
    "The Collection ID for the labels of the LandCoverNet dataset can be found on the [registry page](https://registry.mlhub.earth/10.34911/rdnt.d2ce8i). We will save that to a variable which will be used during API requests.\n",
    "\n",
    "Click **Run** or press SHIFT + ENTER before moving on to run this first piece of code."
   ]
  },
  {
   "cell_type": "code",
   "execution_count": null,
   "metadata": {},
   "outputs": [],
   "source": [
    "!pip install arrow"
   ]
  },
  {
   "cell_type": "code",
   "execution_count": 1,
   "metadata": {},
   "outputs": [],
   "source": [
    "import requests\n",
    "\n",
    "API_BASE = 'https://api.radiant.earth/mlhub/v1'\n",
    "\n",
    "ACCESS_TOKEN ='ACCCES TOKEN HERE'\n",
    "# these headers will be used in each request\n",
    "headers = {\n",
    "    'Authorization': f'Bearer {ACCESS_TOKEN}',\n",
    "    'Accept':'application/json'\n",
    "}\n",
    "\n",
    "COLLECTION_ID = 'ref_landcovernet_v1_labels'"
   ]
  },
  {
   "cell_type": "markdown",
   "metadata": {},
   "source": [
    "Listing Collection Properties\n",
    "====\n",
    "\n",
    "The code below will make a request to the API requesting the properties for the collection we selected. The code below prints out a few important properties."
   ]
  },
  {
   "cell_type": "code",
   "execution_count": 2,
   "metadata": {},
   "outputs": [
    {
     "name": "stdout",
     "output_type": "stream",
     "text": [
      "Description: LandCoverNet Labels\n",
      "License: CC-BY-4.0\n",
      "DOI: 10.34911/rdnt.d2ce8i\n",
      "Citation: Alemohammad S.H., Ballantyne A., Bromberg Gaber Y., Booth K., Nakanuku-Diggs L., & Miglarese A.H. (2020) \"LandCoverNet: A Global Land Cover Classification Training Dataset\", Version 1.0, Radiant MLHub. [Date Accessed] https://doi.org/10.34911/rdnt.d2ce8i\n"
     ]
    }
   ],
   "source": [
    "r = requests.get(f'{API_BASE}/collections/{COLLECTION_ID}', headers=headers)\n",
    "print(f'Description: {r.json()[\"description\"]}')\n",
    "print(f'License: {r.json()[\"license\"]}')\n",
    "print(f'DOI: {r.json()[\"sci:doi\"]}')\n",
    "print(f'Citation: {r.json()[\"sci:citation\"]}')"
   ]
  },
  {
   "cell_type": "markdown",
   "metadata": {},
   "source": [
    "Finding Possible Land Cover Labels\n",
    "====\n",
    "\n",
    "Each label item within the collection has a property which lists all of the possible land cover types and which ones are present in each label item. The code below prints out which land cover types are present in the dataset and we will reference these later in the notebook when we filter downloads."
   ]
  },
  {
   "cell_type": "code",
   "execution_count": 3,
   "metadata": {},
   "outputs": [
    {
     "name": "stdout",
     "output_type": "stream",
     "text": [
      "Classes for labels\n",
      "- (Semi) Natural Vegetation\n",
      "- Artificial Bareground\n",
      "- Cultivated Vegetation\n",
      "- Natural Bareground\n",
      "- No Data\n",
      "- Permanent Snow/Ice\n",
      "- Water\n",
      "- Woody Vegetation\n"
     ]
    }
   ],
   "source": [
    "r = requests.get(f'{API_BASE}/collections/{COLLECTION_ID}/items', headers=headers)\n",
    "label_classes = r.json()['features'][0]['properties']['label:classes']\n",
    "for label_class in label_classes:\n",
    "    print(f'Classes for {label_class[\"name\"]}')\n",
    "    for c in sorted(label_class['classes']):\n",
    "        print(f'- {c}')"
   ]
  },
  {
   "cell_type": "markdown",
   "metadata": {},
   "source": [
    "Downloading Items\n",
    "====\n",
    "\n",
    "The code below sets up functions which we will use to download items."
   ]
  },
  {
   "cell_type": "code",
   "execution_count": 4,
   "metadata": {},
   "outputs": [],
   "source": [
    "import boto3 # Required to download assets hosted on S3\n",
    "import os\n",
    "from urllib.parse import urlparse\n",
    "import arrow\n",
    "from multiprocessing.pool import ThreadPool\n",
    "from tqdm import tqdm\n",
    "\n",
    "s3 = boto3.client('s3')\n",
    "\n",
    "def download_s3(uri, path):\n",
    "    parsed = urlparse(uri)\n",
    "    bucket = parsed.netloc\n",
    "    key = parsed.path[1:]\n",
    "    s3.download_file(bucket, key, os.path.join(path, key.split('/')[-1]))\n",
    "    \n",
    "def download_http(uri, path):\n",
    "    parsed = urlparse(uri)\n",
    "    r = requests.get(uri)\n",
    "    f = open(os.path.join(path, parsed.path.split('/')[-1]), 'wb')\n",
    "    for chunk in r.iter_content(chunk_size=512 * 1024): \n",
    "        if chunk:\n",
    "            f.write(chunk)\n",
    "    f.close()\n",
    "\n",
    "def get_download_uri(uri):\n",
    "    r = requests.get(uri, allow_redirects=False)\n",
    "    return r.headers['Location']\n",
    "\n",
    "def download(d):\n",
    "    href = d[0]\n",
    "    path = d[1]\n",
    "    download_uri = get_download_uri(href)\n",
    "    parsed = urlparse(download_uri)\n",
    "    \n",
    "    if parsed.scheme in ['s3']:\n",
    "        download_s3(download_uri, path)\n",
    "    elif parsed.scheme in ['http', 'https']:\n",
    "        download_http(download_uri, path)\n",
    "        \n",
    "def get_source_item_assets(args):\n",
    "    path = args[0]\n",
    "    href = args[1]\n",
    "    asset_downloads = []\n",
    "    try:\n",
    "        r = requests.get(href, headers=headers)\n",
    "    except:\n",
    "        print('ERROR: Could Not Load', href)\n",
    "        return []\n",
    "    dt = arrow.get(r.json()['properties']['datetime']).format('YYYY_MM_DD')\n",
    "    asset_path = os.path.join(path, dt)\n",
    "    if not os.path.exists(asset_path):\n",
    "        os.makedirs(asset_path)\n",
    "\n",
    "    for key, asset in r.json()['assets'].items():\n",
    "        asset_downloads.append((asset['href'], asset_path))\n",
    "        \n",
    "    return asset_downloads\n",
    "\n",
    "def download_source_and_labels(item):\n",
    "    labels = item.get('assets').get('labels')\n",
    "    links = item.get('links')\n",
    "    \n",
    "    # Make the directory to download the files to\n",
    "    path = f'landcovernet/{item[\"id\"]}/'\n",
    "    if not os.path.exists(path):\n",
    "        os.makedirs(path)\n",
    "    \n",
    "    source_items = []\n",
    "    \n",
    "    # Download the source imagery\n",
    "#     for link in links:\n",
    "#         if link['rel'] != 'source':\n",
    "#             continue\n",
    "#         source_items.append((path, link['href']))\n",
    "        \n",
    "    results = p.map(get_source_item_assets, source_items)\n",
    "    results.append([(labels['href'], path)])\n",
    "            \n",
    "    return results\n",
    "\n",
    "def get_items(uri, classes=None, max_items_downloaded=None, items_downloaded=0, downloads=[]):\n",
    "#     print('Loading', uri, '...')\n",
    "    r = requests.get(uri, headers=headers)\n",
    "    collection = r.json()\n",
    "    for feature in collection.get('features', []):\n",
    "        # Check if the item has one of the label classes we're interested in\n",
    "        matches_class = True\n",
    "        if classes is not None:\n",
    "            matches_class = False\n",
    "            for label_class in feature['properties'].get('labels', []):\n",
    "                if label_class in classes:\n",
    "                    matches_class = True\n",
    "                    break\n",
    "            \n",
    "        # If the item does not match all of the criteria we specify, skip it\n",
    "        if not matches_class:\n",
    "            continue\n",
    "        \n",
    "        print('Getting Source Imagery Assets for', feature['id'])\n",
    "        # Download the label and source imagery for the item\n",
    "        downloads.extend(download_source_and_labels(feature))\n",
    "        \n",
    "        # Stop downloaded items if we reached the maximum we specify\n",
    "        items_downloaded += 1\n",
    "        if max_items_downloaded is not None and items_downloaded >= max_items_downloaded:\n",
    "            return downloads\n",
    "        \n",
    "    # Get the next page if results, if available\n",
    "    for link in collection.get('links', []):\n",
    "        if link['rel'] == 'next' and link['href'] is not None:\n",
    "            get_items(link['href'], classes=classes, max_items_downloaded=max_items_downloaded, items_downloaded=items_downloaded, downloads=downloads)\n",
    "    \n",
    "    return downloads"
   ]
  },
  {
   "cell_type": "markdown",
   "metadata": {},
   "source": [
    "Downloading Labels only\n",
    "====\n",
    "\n",
    "Uncomment `classes=` to return datasets with onl those classes\n",
    "\n",
    "Uncomment `max_items_downloaded=` to set the number of items to download\n",
    "\n",
    "Change `ncpus=` to the number of cores available (2 on default sandbox, 15 on large sandbox)"
   ]
  },
  {
   "cell_type": "code",
   "execution_count": 6,
   "metadata": {},
   "outputs": [
    {
     "name": "stderr",
     "output_type": "stream",
     "text": [
      "  0%|          | 0/10 [00:00<?, ?it/s]"
     ]
    },
    {
     "name": "stdout",
     "output_type": "stream",
     "text": [
      "Getting Source Imagery Assets for ref_landcovernet_v1_labels_29NMG_12\n",
      "Getting Source Imagery Assets for ref_landcovernet_v1_labels_29NMG_23\n",
      "Getting Source Imagery Assets for ref_landcovernet_v1_labels_29PKL_08\n",
      "Getting Source Imagery Assets for ref_landcovernet_v1_labels_29PKL_01\n",
      "Getting Source Imagery Assets for ref_landcovernet_v1_labels_29PKL_10\n",
      "Getting Source Imagery Assets for ref_landcovernet_v1_labels_29PKL_02\n",
      "Getting Source Imagery Assets for ref_landcovernet_v1_labels_29PKL_11\n",
      "Getting Source Imagery Assets for ref_landcovernet_v1_labels_29PKL_22\n",
      "Getting Source Imagery Assets for ref_landcovernet_v1_labels_29PKL_16\n",
      "Getting Source Imagery Assets for ref_landcovernet_v1_labels_29PKL_19\n",
      "Downloading Assets\n"
     ]
    },
    {
     "name": "stderr",
     "output_type": "stream",
     "text": [
      "100%|██████████| 10/10 [00:01<00:00,  7.21it/s]\n"
     ]
    }
   ],
   "source": [
    "ncpus=2\n",
    "\n",
    "p = ThreadPool(ncpus)\n",
    "\n",
    "to_download = get_items(f'{API_BASE}/collections/{COLLECTION_ID}/items?limit=100',\n",
    "#                         classes=['Cultivated Vegetation'],\n",
    "#                         max_items_downloaded=10,\n",
    "                        downloads=[])\n",
    "print('Downloading Assets')\n",
    "for d in tqdm(to_download):\n",
    "    p.map(download, d)"
   ]
  },
  {
   "cell_type": "markdown",
   "metadata": {},
   "source": [
    "## Move the labelled tiffs into single directory"
   ]
  },
  {
   "cell_type": "code",
   "execution_count": 7,
   "metadata": {},
   "outputs": [],
   "source": [
    "import os\n",
    "from pathlib import Path\n",
    "for path in os.listdir(os.chdir('landcovernet/')):\n",
    "    os.chdir(path)\n",
    "    for tif in os.listdir():\n",
    "        p = Path(tif).absolute()\n",
    "        parent_dir = p.parents[1]\n",
    "        p.rename(parent_dir / p.name)\n",
    "    os.chdir('..')\n",
    "    os.rmdir(path)\n",
    "os.chdir('..')"
   ]
  },
  {
   "cell_type": "markdown",
   "metadata": {},
   "source": [
    "## Open and check a geotiff"
   ]
  },
  {
   "cell_type": "code",
   "execution_count": 14,
   "metadata": {},
   "outputs": [
    {
     "name": "stdout",
     "output_type": "stream",
     "text": [
      "<xarray.DataArray (band: 2, y: 256, x: 256)>\n",
      "[131072 values with dtype=uint16]\n",
      "Coordinates:\n",
      "  * band     (band) int64 1 2\n",
      "  * y        (y) float64 1.078e+06 1.078e+06 1.078e+06 ... 1.076e+06 1.076e+06\n",
      "  * x        (x) float64 2.183e+05 2.183e+05 2.183e+05 ... 2.208e+05 2.208e+05\n",
      "Attributes:\n",
      "    transform:      (10.0, 0.0, 218250.0, 0.0, -10.0, 1078260.0)\n",
      "    crs:            +init=epsg:32629\n",
      "    res:            (10.0, 10.0)\n",
      "    is_tiled:       1\n",
      "    nodatavals:     (0.0, 0.0)\n",
      "    scales:         (1.0, 1.0)\n",
      "    offsets:        (0.0, 0.0)\n",
      "    AREA_OR_POINT:  Area\n"
     ]
    }
   ],
   "source": [
    "import xarray as xr\n",
    "x=xr.open_rasterio('landcovernet/29PKL_10_2018_LC_10m.tif')\n",
    "print(x)"
   ]
  },
  {
   "cell_type": "markdown",
   "metadata": {},
   "source": [
    "## Plot labels"
   ]
  },
  {
   "cell_type": "code",
   "execution_count": 13,
   "metadata": {},
   "outputs": [
    {
     "data": {
      "text/plain": [
       "<matplotlib.collections.QuadMesh at 0x7f5e82acfd68>"
      ]
     },
     "execution_count": 13,
     "metadata": {},
     "output_type": "execute_result"
    },
    {
     "data": {
      "image/png": "[encoded data removed]",
      "text/plain": [
       "<Figure size 432x288 with 2 Axes>"
      ]
     },
     "metadata": {
      "needs_background": "light"
     },
     "output_type": "display_data"
    }
   ],
   "source": [
    "x.isel(band=0).plot()"
   ]
  },
  {
   "cell_type": "markdown",
   "metadata": {},
   "source": [
    "## Plot consensus value"
   ]
  },
  {
   "cell_type": "code",
   "execution_count": 15,
   "metadata": {},
   "outputs": [
    {
     "data": {
      "text/plain": [
       "<matplotlib.collections.QuadMesh at 0x7f5e82a03278>"
      ]
     },
     "execution_count": 15,
     "metadata": {},
     "output_type": "execute_result"
    },
    {
     "data": {
      "image/png": "[encoded data removed]",
      "text/plain": [
       "<Figure size 432x288 with 2 Axes>"
      ]
     },
     "metadata": {
      "needs_background": "light"
     },
     "output_type": "display_data"
    }
   ],
   "source": [
    "x.isel(band=1).plot()"
   ]
  },
  {
   "cell_type": "code",
   "execution_count": null,
   "metadata": {},
   "outputs": [],
   "source": []
  }
 ],
 "metadata": {
  "kernelspec": {
   "display_name": "Python 3",
   "language": "python",
   "name": "python3"
  },
  "language_info": {
   "codemirror_mode": {
    "name": "ipython",
    "version": 3
   },
   "file_extension": ".py",
   "mimetype": "text/x-python",
   "name": "python",
   "nbconvert_exporter": "python",
   "pygments_lexer": "ipython3",
   "version": "3.6.9"
  }
 },
 "nbformat": 4,
 "nbformat_minor": 4
}
